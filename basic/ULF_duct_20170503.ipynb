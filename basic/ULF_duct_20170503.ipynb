{
 "cells": [
  {
   "cell_type": "code",
   "execution_count": 1,
   "metadata": {},
   "outputs": [
    {
     "ename": "FileNotFoundError",
     "evalue": "/home/jackkooki/Document/duct_analysis/basic/erg_data/satellite/erg/pwe/hfa/l3/1min/2017/05/erg_pwe_hfa_l3_1min_20170503_v03_07.cdf not found",
     "output_type": "error",
     "traceback": [
      "\u001b[0;31m---------------------------------------------------------------------------\u001b[0m",
      "\u001b[0;31mFileNotFoundError\u001b[0m                         Traceback (most recent call last)",
      "Cell \u001b[0;32mIn[1], line 11\u001b[0m\n\u001b[1;32m      1\u001b[0m \u001b[39mimport\u001b[39;00m \u001b[39mULF_duct_plot_ver2\u001b[39;00m \u001b[39mas\u001b[39;00m \u001b[39mudp2\u001b[39;00m\n\u001b[1;32m      3\u001b[0m download_trange \u001b[39m=\u001b[39m [\u001b[39m'\u001b[39m\u001b[39m2017-05-03\u001b[39m\u001b[39m'\u001b[39m, \u001b[39m'\u001b[39m\u001b[39m2017-05-04\u001b[39m\u001b[39m'\u001b[39m]\n\u001b[1;32m      5\u001b[0m \u001b[39m'\u001b[39m\u001b[39mne_mgf\u001b[39m\u001b[39m'\u001b[39m,\\\n\u001b[1;32m      6\u001b[0m         \u001b[39m'\u001b[39m\u001b[39mkvec_polar_132\u001b[39m\u001b[39m'\u001b[39m,\\\n\u001b[1;32m      7\u001b[0m         \u001b[39m'\u001b[39m\u001b[39merg_pwe_ofa_l2_spec_B_spectra_132\u001b[39m\u001b[39m'\u001b[39m,\u001b[39m'\u001b[39m\u001b[39merg_pwe_ofa_l2_spec_E_spectra_132\u001b[39m\u001b[39m'\u001b[39m,\\\n\u001b[1;32m      8\u001b[0m         \u001b[39m'\u001b[39m\u001b[39merg_mepe_l2_omniflux_FEDO\u001b[39m\u001b[39m'\u001b[39m,\\\n\u001b[1;32m      9\u001b[0m         \u001b[39m'\u001b[39m\u001b[39merg_mepe_l3_pa_FEDU_87.5keV\u001b[39m\u001b[39m'\u001b[39m, \u001b[39m'\u001b[39m\u001b[39merg_mepe_l3_pa_FEDU_72.6keV\u001b[39m\u001b[39m'\u001b[39m, \u001b[39m'\u001b[39m\u001b[39merg_mepe_l3_pa_FEDU_60.4keV\u001b[39m\u001b[39m'\u001b[39m,\u001b[39m'\u001b[39m\u001b[39merg_mepe_l3_pa_FEDU_50.3keV\u001b[39m\u001b[39m'\u001b[39m, \u001b[39m'\u001b[39m\u001b[39merg_mepe_l3_pa_FEDU_42.0keV\u001b[39m\u001b[39m'\u001b[39m,\u001b[39m'\u001b[39m\u001b[39merg_mepe_l3_pa_FEDU_35.0keV\u001b[39m\u001b[39m'\u001b[39m,\u001b[39m'\u001b[39m\u001b[39merg_mepe_l3_pa_FEDU_29.3keV\u001b[39m\u001b[39m'\u001b[39m,\u001b[39m'\u001b[39m\u001b[39merg_mepe_l3_pa_FEDU_24.5keV\u001b[39m\u001b[39m'\u001b[39m,\u001b[39m'\u001b[39m\u001b[39merg_mepe_l3_pa_FEDU_20.5keV\u001b[39m\u001b[39m'\u001b[39m,\u001b[39m'\u001b[39m\u001b[39merg_mepe_l3_pa_FEDU_17.1keV\u001b[39m\u001b[39m'\u001b[39m,\u001b[39m'\u001b[39m\u001b[39merg_mepe_l3_pa_FEDU_14.3keV\u001b[39m\u001b[39m'\u001b[39m,\u001b[39m'\u001b[39m\u001b[39merg_mepe_l3_pa_FEDU_12.0keV\u001b[39m\u001b[39m'\u001b[39m,\\\n\u001b[1;32m     10\u001b[0m             \u001b[39m'\u001b[39m\u001b[39mdelta_z\u001b[39m\u001b[39m'\u001b[39m, \u001b[39m'\u001b[39m\u001b[39merg_mgf_l2_magt_8sec\u001b[39m\u001b[39m'\u001b[39m,\u001b[39m'\u001b[39m\u001b[39merg_mgf_l2_mag_8sec_MAF_x&y\u001b[39m\u001b[39m'\u001b[39m,\\\n\u001b[0;32m---> 11\u001b[0m             \u001b[39m'\u001b[39m\u001b[39merg_orb_l2_pos_rmlatmlt\u001b[39m\u001b[39m'\u001b[39m,\u001b[39m'\u001b[39m\u001b[39merg_orb_l2_pos_eq\u001b[39m\u001b[39m'\u001b[39m \u001b[39m==\u001b[39m udp2\u001b[39m.\u001b[39;49mULF_duct_load(download_trange)\n\u001b[1;32m     14\u001b[0m pr_1 \u001b[39m=\u001b[39m [\u001b[39m'\u001b[39m\u001b[39m2017-05-03 12:00:00\u001b[39m\u001b[39m'\u001b[39m,\u001b[39m'\u001b[39m\u001b[39m2017-05-03 13:00:00\u001b[39m\u001b[39m'\u001b[39m]\n\u001b[1;32m     15\u001b[0m udp2\u001b[39m.\u001b[39mULF_duct_plot_12to50(\u001b[39m'\u001b[39m\u001b[39mne_mgf\u001b[39m\u001b[39m'\u001b[39m,\u001b[39m'\u001b[39m\u001b[39mkvec_polar_132\u001b[39m\u001b[39m'\u001b[39m,\u001b[39m'\u001b[39m\u001b[39merg_pwe_ofa_l2_spec_B_spectra_132\u001b[39m\u001b[39m'\u001b[39m, \u001b[39m'\u001b[39m\u001b[39merg_pwe_ofa_l2_spec_E_spectra_132\u001b[39m\u001b[39m'\u001b[39m, \u001b[39m'\u001b[39m\u001b[39merg_mepe_l2_omniflux_FEDO\u001b[39m\u001b[39m'\u001b[39m, \u001b[39m'\u001b[39m\u001b[39merg_mepe_l3_pa_FEDU_87.5keV\u001b[39m\u001b[39m'\u001b[39m, \u001b[39m'\u001b[39m\u001b[39merg_mepe_l3_pa_FEDU_72.6keV\u001b[39m\u001b[39m'\u001b[39m, \u001b[39m'\u001b[39m\u001b[39merg_mepe_l3_pa_FEDU_60.4keV\u001b[39m\u001b[39m'\u001b[39m,\u001b[39m'\u001b[39m\u001b[39merg_mepe_l3_pa_FEDU_50.3keV\u001b[39m\u001b[39m'\u001b[39m, \u001b[39m'\u001b[39m\u001b[39merg_mepe_l3_pa_FEDU_42.0keV\u001b[39m\u001b[39m'\u001b[39m,\u001b[39m'\u001b[39m\u001b[39merg_mepe_l3_pa_FEDU_35.0keV\u001b[39m\u001b[39m'\u001b[39m,\u001b[39m'\u001b[39m\u001b[39merg_mepe_l3_pa_FEDU_24.5keV\u001b[39m\u001b[39m'\u001b[39m,\u001b[39m'\u001b[39m\u001b[39merg_mepe_l3_pa_FEDU_12.0keV\u001b[39m\u001b[39m'\u001b[39m, \u001b[39m'\u001b[39m\u001b[39mdelta_z\u001b[39m\u001b[39m'\u001b[39m, \u001b[39m'\u001b[39m\u001b[39merg_mgf_l2_magt_8sec\u001b[39m\u001b[39m'\u001b[39m, \u001b[39m'\u001b[39m\u001b[39merg_mgf_l2_mag_8sec_MAF_x&y\u001b[39m\u001b[39m'\u001b[39m, \u001b[39m'\u001b[39m\u001b[39merg_orb_l2_pos_rmlatmlt\u001b[39m\u001b[39m'\u001b[39m, pr_1)\n",
      "File \u001b[0;32m~/Document/duct_analysis/basic/ULF_duct_plot_ver2.py:12\u001b[0m, in \u001b[0;36mULF_duct_load\u001b[0;34m(download_trange)\u001b[0m\n\u001b[1;32m      8\u001b[0m \u001b[39mdef\u001b[39;00m \u001b[39mULF_duct_load\u001b[39m(download_trange): \n\u001b[1;32m     11\u001b[0m     lst \u001b[39m=\u001b[39m download_trange[\u001b[39m0\u001b[39m]\u001b[39m.\u001b[39msplit(\u001b[39m'\u001b[39m\u001b[39m-\u001b[39m\u001b[39m'\u001b[39m)\n\u001b[0;32m---> 12\u001b[0m     pytplot\u001b[39m.\u001b[39;49mcdf_to_tplot(\u001b[39m'\u001b[39;49m\u001b[39m./erg_data/satellite/erg/pwe/hfa/l3/1min/\u001b[39;49m\u001b[39m'\u001b[39;49m\u001b[39m+\u001b[39;49mlst[\u001b[39m0\u001b[39;49m]\u001b[39m+\u001b[39;49m\u001b[39m'\u001b[39;49m\u001b[39m/\u001b[39;49m\u001b[39m'\u001b[39;49m\u001b[39m+\u001b[39;49mlst[\u001b[39m1\u001b[39;49m]\u001b[39m+\u001b[39;49m\u001b[39m'\u001b[39;49m\u001b[39m/erg_pwe_hfa_l3_1min_\u001b[39;49m\u001b[39m'\u001b[39;49m\u001b[39m+\u001b[39;49mlst[\u001b[39m0\u001b[39;49m]\u001b[39m+\u001b[39;49mlst[\u001b[39m1\u001b[39;49m]\u001b[39m+\u001b[39;49mlst[\u001b[39m2\u001b[39;49m]\u001b[39m+\u001b[39;49m\u001b[39m'\u001b[39;49m\u001b[39m_v03_07.cdf\u001b[39;49m\u001b[39m'\u001b[39;49m)    \n\u001b[1;32m     14\u001b[0m     \u001b[39mfrom\u001b[39;00m \u001b[39mpyspedas\u001b[39;00m\u001b[39m.\u001b[39;00m\u001b[39merg\u001b[39;00m \u001b[39mimport\u001b[39;00m pwe_ofa\n\u001b[1;32m     15\u001b[0m     pwe_ofa(trange\u001b[39m=\u001b[39mdownload_trange)\n",
      "File \u001b[0;32m~/Document/duct_analysis/.venv/lib/python3.10/site-packages/pytplot/importers/cdf_to_tplot.py:147\u001b[0m, in \u001b[0;36mcdf_to_tplot\u001b[0;34m(filenames, mastercdf, varformat, get_support_data, get_metadata, get_ignore_data, string_encoding, prefix, suffix, plot, merge, center_measurement, notplot, varnames)\u001b[0m\n\u001b[1;32m    145\u001b[0m \u001b[39mfor\u001b[39;00m filename \u001b[39min\u001b[39;00m filenames:\n\u001b[1;32m    146\u001b[0m     logging\u001b[39m.\u001b[39mdebug(\u001b[39m'\u001b[39m\u001b[39mProcessing filename \u001b[39m\u001b[39m%s\u001b[39;00m\u001b[39m'\u001b[39m, filename)\n\u001b[0;32m--> 147\u001b[0m     cdf_file \u001b[39m=\u001b[39m cdflib\u001b[39m.\u001b[39;49mCDF(filename)\n\u001b[1;32m    148\u001b[0m     cdf_file\u001b[39m.\u001b[39mstring_encoding \u001b[39m=\u001b[39m string_encoding\n\u001b[1;32m    149\u001b[0m     cdf_info \u001b[39m=\u001b[39m cdf_file\u001b[39m.\u001b[39mcdf_info()\n",
      "File \u001b[0;32m~/Document/duct_analysis/.venv/lib/python3.10/site-packages/cdflib/cdfread.py:99\u001b[0m, in \u001b[0;36mCDF.__init__\u001b[0;34m(self, path, validate, string_encoding, s3_read_method)\u001b[0m\n\u001b[1;32m     97\u001b[0m     path \u001b[39m=\u001b[39m path\u001b[39m.\u001b[39mwith_suffix(\u001b[39m'\u001b[39m\u001b[39m.cdf\u001b[39m\u001b[39m'\u001b[39m)\n\u001b[1;32m     98\u001b[0m     \u001b[39mif\u001b[39;00m \u001b[39mnot\u001b[39;00m path\u001b[39m.\u001b[39mis_file():\n\u001b[0;32m---> 99\u001b[0m         \u001b[39mraise\u001b[39;00m \u001b[39mFileNotFoundError\u001b[39;00m(\u001b[39mf\u001b[39m\u001b[39m'\u001b[39m\u001b[39m{\u001b[39;00mpath\u001b[39m}\u001b[39;00m\u001b[39m not found\u001b[39m\u001b[39m'\u001b[39m)\n\u001b[1;32m    100\u001b[0m \u001b[39mself\u001b[39m\u001b[39m.\u001b[39mfile \u001b[39m=\u001b[39m path  \u001b[39m# path for files, fname for urls and S3\u001b[39;00m\n\u001b[1;32m    101\u001b[0m \u001b[39mself\u001b[39m\u001b[39m.\u001b[39mfile \u001b[39m=\u001b[39m path\n",
      "\u001b[0;31mFileNotFoundError\u001b[0m: /home/jackkooki/Document/duct_analysis/basic/erg_data/satellite/erg/pwe/hfa/l3/1min/2017/05/erg_pwe_hfa_l3_1min_20170503_v03_07.cdf not found"
     ]
    }
   ],
   "source": [
    "import ULF_duct_plot_ver2 as udp2\n",
    "\n",
    "download_trange = ['2017-05-03', '2017-05-04']\n",
    "\n",
    "'ne_mgf',\\\n",
    "        'kvec_polar_132',\\\n",
    "        'erg_pwe_ofa_l2_spec_B_spectra_132','erg_pwe_ofa_l2_spec_E_spectra_132',\\\n",
    "        'erg_mepe_l2_omniflux_FEDO',\\\n",
    "        'erg_mepe_l3_pa_FEDU_87.5keV', 'erg_mepe_l3_pa_FEDU_72.6keV', 'erg_mepe_l3_pa_FEDU_60.4keV','erg_mepe_l3_pa_FEDU_50.3keV', 'erg_mepe_l3_pa_FEDU_42.0keV','erg_mepe_l3_pa_FEDU_35.0keV','erg_mepe_l3_pa_FEDU_29.3keV','erg_mepe_l3_pa_FEDU_24.5keV','erg_mepe_l3_pa_FEDU_20.5keV','erg_mepe_l3_pa_FEDU_17.1keV','erg_mepe_l3_pa_FEDU_14.3keV','erg_mepe_l3_pa_FEDU_12.0keV',\\\n",
    "            'delta_z', 'erg_mgf_l2_magt_8sec','erg_mgf_l2_mag_8sec_MAF_x&y',\\\n",
    "            'erg_orb_l2_pos_rmlatmlt','erg_orb_l2_pos_eq' == udp2.ULF_duct_load(download_trange)\n",
    "\n",
    "\n",
    "pr_1 = ['2017-05-03 12:00:00','2017-05-03 13:00:00']\n",
    "udp2.ULF_duct_plot_12to50('ne_mgf','kvec_polar_132','erg_pwe_ofa_l2_spec_B_spectra_132', 'erg_pwe_ofa_l2_spec_E_spectra_132', 'erg_mepe_l2_omniflux_FEDO', 'erg_mepe_l3_pa_FEDU_87.5keV', 'erg_mepe_l3_pa_FEDU_72.6keV', 'erg_mepe_l3_pa_FEDU_60.4keV','erg_mepe_l3_pa_FEDU_50.3keV', 'erg_mepe_l3_pa_FEDU_42.0keV','erg_mepe_l3_pa_FEDU_35.0keV','erg_mepe_l3_pa_FEDU_24.5keV','erg_mepe_l3_pa_FEDU_12.0keV', 'delta_z', 'erg_mgf_l2_magt_8sec', 'erg_mgf_l2_mag_8sec_MAF_x&y', 'erg_orb_l2_pos_rmlatmlt', pr_1)\n"
   ]
  },
  {
   "cell_type": "code",
   "execution_count": null,
   "metadata": {},
   "outputs": [],
   "source": []
  }
 ],
 "metadata": {
  "kernelspec": {
   "display_name": ".venv",
   "language": "python",
   "name": "python3"
  },
  "language_info": {
   "codemirror_mode": {
    "name": "ipython",
    "version": 3
   },
   "file_extension": ".py",
   "mimetype": "text/x-python",
   "name": "python",
   "nbconvert_exporter": "python",
   "pygments_lexer": "ipython3",
   "version": "3.10.6"
  },
  "orig_nbformat": 4
 },
 "nbformat": 4,
 "nbformat_minor": 2
}
