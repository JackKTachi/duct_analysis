{
 "cells": [
  {
   "cell_type": "code",
   "execution_count": 1,
   "metadata": {},
   "outputs": [],
   "source": [
    "import pyspedas\n",
    "import pytplot"
   ]
  },
  {
   "cell_type": "code",
   "execution_count": 6,
   "metadata": {},
   "outputs": [
    {
     "name": "stderr",
     "output_type": "stream",
     "text": [
      "07-Jul-23 17:05:26: Downloading remote index: https://ergsc.isee.nagoya-u.ac.jp/data/ergsc/satellite/erg/mepi/l2/tof/2017/03/\n",
      "07-Jul-23 17:05:26: File is current: erg_data/satellite/erg/mepi/l2/tof/2017/03/erg_mepi_l2_tofflux_20170327_v01_02.cdf\n"
     ]
    },
    {
     "name": "stdout",
     "output_type": "stream",
     "text": [
      " \n",
      "**************************************************************************\n",
      "Exploration of Energization and Radiation in Geospace (ERG) Medium Energy Particle experiments - ion mass analyzer (MEP-i) Level-2 TOF flux data\n",
      "\n",
      "PI:  Shoichiro Yokota\n",
      "Affiliation: Osaka University\n",
      "\n",
      "- The rules of the road (RoR) common to the ERG project:\n",
      "      https://ergsc.isee.nagoya-u.ac.jp/data_info/rules_of_the_road.shtml.en\n",
      "- RoR for MEP-i data: https://ergsc.isee.nagoya-u.ac.jp/mw/index.php/ErgSat/Mepi\n",
      "\n",
      "Contact: erg_mep_info at isee.nagoya-u.ac.jp\n",
      "**************************************************************************\n"
     ]
    },
    {
     "data": {
      "text/plain": [
       "['erg_mepi_l2_tofflux_spin_phase',\n",
       " 'erg_mepi_l2_tofflux_FPDU',\n",
       " 'erg_mepi_l2_tofflux_count_raw_P',\n",
       " 'erg_mepi_l2_tofflux_FHE2DU',\n",
       " 'erg_mepi_l2_tofflux_count_raw_HE2',\n",
       " 'erg_mepi_l2_tofflux_FHEDU',\n",
       " 'erg_mepi_l2_tofflux_count_raw_HE',\n",
       " 'erg_mepi_l2_tofflux_FOPPDU',\n",
       " 'erg_mepi_l2_tofflux_count_raw_OPP',\n",
       " 'erg_mepi_l2_tofflux_FODU',\n",
       " 'erg_mepi_l2_tofflux_count_raw_O',\n",
       " 'erg_mepi_l2_tofflux_FO2PDU',\n",
       " 'erg_mepi_l2_tofflux_count_raw_O2P']"
      ]
     },
     "execution_count": 6,
     "metadata": {},
     "output_type": "execute_result"
    }
   ],
   "source": [
    "tr = ['2017-03-27', '2013-03-28']\n",
    "from pyspedas.erg import mepi_tof\n",
    "mepi_tof(trange=tr)"
   ]
  },
  {
   "cell_type": "code",
   "execution_count": null,
   "metadata": {},
   "outputs": [],
   "source": []
  },
  {
   "cell_type": "code",
   "execution_count": null,
   "metadata": {},
   "outputs": [],
   "source": []
  },
  {
   "cell_type": "code",
   "execution_count": null,
   "metadata": {},
   "outputs": [],
   "source": []
  },
  {
   "cell_type": "code",
   "execution_count": null,
   "metadata": {},
   "outputs": [],
   "source": []
  },
  {
   "cell_type": "code",
   "execution_count": null,
   "metadata": {},
   "outputs": [],
   "source": []
  },
  {
   "cell_type": "code",
   "execution_count": null,
   "metadata": {},
   "outputs": [],
   "source": []
  },
  {
   "cell_type": "code",
   "execution_count": null,
   "metadata": {},
   "outputs": [],
   "source": []
  },
  {
   "cell_type": "code",
   "execution_count": null,
   "metadata": {},
   "outputs": [],
   "source": []
  },
  {
   "cell_type": "code",
   "execution_count": null,
   "metadata": {},
   "outputs": [],
   "source": []
  },
  {
   "cell_type": "code",
   "execution_count": null,
   "metadata": {},
   "outputs": [],
   "source": []
  },
  {
   "cell_type": "code",
   "execution_count": null,
   "metadata": {},
   "outputs": [],
   "source": []
  },
  {
   "cell_type": "code",
   "execution_count": null,
   "metadata": {},
   "outputs": [],
   "source": []
  }
 ],
 "metadata": {
  "kernelspec": {
   "display_name": ".venv",
   "language": "python",
   "name": "python3"
  },
  "language_info": {
   "codemirror_mode": {
    "name": "ipython",
    "version": 3
   },
   "file_extension": ".py",
   "mimetype": "text/x-python",
   "name": "python",
   "nbconvert_exporter": "python",
   "pygments_lexer": "ipython3",
   "version": "3.10.6"
  },
  "orig_nbformat": 4
 },
 "nbformat": 4,
 "nbformat_minor": 2
}
