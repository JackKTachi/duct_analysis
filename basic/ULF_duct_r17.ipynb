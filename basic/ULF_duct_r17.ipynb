{
 "cells": [
  {
   "cell_type": "code",
   "execution_count": 1,
   "metadata": {},
   "outputs": [
    {
     "name": "stderr",
     "output_type": "stream",
     "text": [
      "14-Jun-23 16:33:13: Downloading remote index: https://ergsc.isee.nagoya-u.ac.jp/data/ergsc/satellite/erg/pwe/ofa/l2/spec/2017/04/\n",
      "14-Jun-23 16:33:13: Downloading https://ergsc.isee.nagoya-u.ac.jp/data/ergsc/satellite/erg/pwe/ofa/l2/spec/2017/04/erg_pwe_ofa_l2_spec_20170429_v02_03.cdf to erg_data/satellite/erg/pwe/ofa/l2/spec/2017/04/erg_pwe_ofa_l2_spec_20170429_v02_03.cdf\n",
      "14-Jun-23 16:33:23: Download complete: erg_data/satellite/erg/pwe/ofa/l2/spec/2017/04/erg_pwe_ofa_l2_spec_20170429_v02_03.cdf\n",
      "14-Jun-23 16:33:24: /home/jackkooki/Document/duct_analysis/.venv/lib/python3.10/site-packages/pytplot/importers/cdf_to_tplot.py:310: FutureWarning: elementwise comparison failed; returning scalar instead, but in the future will perform elementwise comparison\n",
      "  if ydata[ydata == var_atts[\"FILLVAL\"]].size != 0:\n",
      "\n"
     ]
    },
    {
     "name": "stdout",
     "output_type": "stream",
     "text": [
      " \n",
      " \n",
      "**************************************************************************\n",
      "Exploration of Energization and Radiation in Geospace (ERG) Plasma Wave Experiment (PWE) Onboard Frequency Analyzer (OFA) Level 2 spectrum data\n",
      "\n",
      "Information about ERG PWE OFA\n",
      "\n",
      "PI:  Yoshiya Kasahara\n",
      "Affiliation: Kanazawa University\n",
      "\n",
      "RoR of ERG project common: https://ergsc.isee.nagoya-u.ac.jp/data_info/rules_of_the_road.shtml.en\n",
      "RoR of PWE/OFA: https://ergsc.isee.nagoya-u.ac.jp/mw/index.php/ErgSat/Pwe/Ofa\n",
      "\n",
      "Contact: erg_pwe_info at isee.nagoya-u.ac.jp\n",
      "**************************************************************************\n"
     ]
    },
    {
     "name": "stderr",
     "output_type": "stream",
     "text": [
      "14-Jun-23 16:33:25: Downloading remote index: https://ergsc.isee.nagoya-u.ac.jp/data/ergsc/satellite/erg/mgf/l2/8sec/2017/04/\n",
      "14-Jun-23 16:33:25: Downloading https://ergsc.isee.nagoya-u.ac.jp/data/ergsc/satellite/erg/mgf/l2/8sec/2017/04/erg_mgf_l2_8sec_20170429_v03.04.cdf to erg_data/satellite/erg/mgf/l2/8sec/2017/04/erg_mgf_l2_8sec_20170429_v03.04.cdf\n",
      "14-Jun-23 16:33:26: Download complete: erg_data/satellite/erg/mgf/l2/8sec/2017/04/erg_mgf_l2_8sec_20170429_v03.04.cdf\n",
      "14-Jun-23 16:33:26: Downloading remote index: https://ergsc.isee.nagoya-u.ac.jp/data/ergsc/satellite/erg/orb/def/2017/\n"
     ]
    },
    {
     "name": "stdout",
     "output_type": "stream",
     "text": [
      " \n",
      "**************************************************************************\n",
      "Exploration of Energization and Radiation in Geospace (ERG) Magnetic Field Experiment (MGF) Level 2 spin-averaged magnetic field data\n",
      "\n",
      "Information about ERG MGF\n",
      "\n",
      "PI:  Ayako Matsuoka\n",
      "Affiliation: Data Analysis Center for Geomagnetism and Space Magnetism, Graduate School of Science, Kyoto University, Kitashirakawa-Oiwake Cho, Sakyo-ku Kyoto 606-8502, Japan\n",
      "\n",
      "RoR of ERG project common: https://ergsc.isee.nagoya-u.ac.jp/data_info/rules_of_the_road.shtml.en\n",
      "RoR of MGF L2: https://ergsc.isee.nagoya-u.ac.jp/mw/index.php/ErgSat/Mgf\n",
      "Contact: erg_mgf_info at isee.nagoya-u.ac.jp\n",
      "**************************************************************************\n"
     ]
    },
    {
     "name": "stderr",
     "output_type": "stream",
     "text": [
      "14-Jun-23 16:33:26: Downloading https://ergsc.isee.nagoya-u.ac.jp/data/ergsc/satellite/erg/orb/def/2017/erg_orb_l2_20170429_v03.cdf to erg_data/satellite/erg/orb/def/2017/erg_orb_l2_20170429_v03.cdf\n",
      "14-Jun-23 16:33:27: Download complete: erg_data/satellite/erg/orb/def/2017/erg_orb_l2_20170429_v03.cdf\n",
      "14-Jun-23 16:33:27: /home/jackkooki/Document/duct_analysis/.venv/lib/python3.10/site-packages/pytplot/importers/cdf_to_tplot.py:310: FutureWarning: elementwise comparison failed; returning scalar instead, but in the future will perform elementwise comparison\n",
      "  if ydata[ydata == var_atts[\"FILLVAL\"]].size != 0:\n",
      "\n",
      "14-Jun-23 16:33:27: /home/jackkooki/Document/duct_analysis/.venv/lib/python3.10/site-packages/pytplot/importers/cdf_to_tplot.py:316: FutureWarning: elementwise comparison failed; returning scalar instead, but in the future will perform elementwise comparison\n",
      "  ydata[ydata == var_atts[\"FILLVAL\"]] = 0\n",
      "\n"
     ]
    },
    {
     "name": "stdout",
     "output_type": "stream",
     "text": [
      " \n",
      "**************************************************************************\n",
      "Exploration of Energization and Radiation in Geospace (ERG) Level-2 orbit data\n",
      "\n",
      "Information about ERG orbit\n",
      "\n",
      "\n",
      "RoR of ERG project common: https://ergsc.isee.nagoya-u.ac.jp/data_info/rules_of_the_road.shtml.en\n",
      "\n",
      "Contact: erg-sc-core at isee.nagoya-u.ac.jp\n",
      "**************************************************************************\n"
     ]
    },
    {
     "name": "stderr",
     "output_type": "stream",
     "text": [
      "14-Jun-23 16:33:38: /home/jackkooki/Document/duct_analysis/basic/compressional_B.py:40: RuntimeWarning: invalid value encountered in divide\n",
      "  cos_th = data_200s_z/ data_200s_total\n",
      "\n",
      "14-Jun-23 16:33:38: /home/jackkooki/Document/duct_analysis/basic/compressional_B.py:41: RuntimeWarning: invalid value encountered in divide\n",
      "  sin_th = np.sqrt(data_200s_x**2 + data_200s_y**2) / data_200s_total\n",
      "\n",
      "14-Jun-23 16:33:38: /home/jackkooki/Document/duct_analysis/basic/compressional_B.py:43: RuntimeWarning: invalid value encountered in divide\n",
      "  cos_ph = data_200s_x/ np.sqrt(data_200s_x**2 + data_200s_y**2)\n",
      "\n",
      "14-Jun-23 16:33:38: /home/jackkooki/Document/duct_analysis/basic/compressional_B.py:44: RuntimeWarning: invalid value encountered in divide\n",
      "  sin_ph = data_200s_y / np.sqrt(data_200s_x**2 + data_200s_y**2)\n",
      "\n",
      "14-Jun-23 16:33:38: tinterpol (linear) was applied to: cos_th_intpl\n",
      "14-Jun-23 16:33:38: tinterpol (linear) was applied to: sin_th_intpl\n",
      "14-Jun-23 16:33:38: tinterpol (linear) was applied to: cos_ph_intpl\n",
      "14-Jun-23 16:33:38: tinterpol (linear) was applied to: sin_ph_intpl\n",
      "14-Jun-23 16:33:38: tinterpol (linear) was applied to: erg_mgf_l2_mag_8sec_gsm_x_intpl\n",
      "14-Jun-23 16:33:38: tinterpol (linear) was applied to: erg_mgf_l2_mag_8sec_gsm_y_intpl\n",
      "14-Jun-23 16:33:38: tinterpol (linear) was applied to: erg_mgf_l2_mag_8sec_gsm_z_intpl\n",
      "14-Jun-23 16:33:51: Downloading remote index: https://ergsc.isee.nagoya-u.ac.jp/data/ergsc/satellite/erg/mepe/l2/omniflux/2017/04/\n",
      "14-Jun-23 16:33:51: Downloading https://ergsc.isee.nagoya-u.ac.jp/data/ergsc/satellite/erg/mepe/l2/omniflux/2017/04/erg_mepe_l2_omniflux_20170429_v01_02.cdf to erg_data/satellite/erg/mepe/l2/omniflux/2017/04/erg_mepe_l2_omniflux_20170429_v01_02.cdf\n",
      "14-Jun-23 16:33:51: Download complete: erg_data/satellite/erg/mepe/l2/omniflux/2017/04/erg_mepe_l2_omniflux_20170429_v01_02.cdf\n",
      "14-Jun-23 16:33:51: /home/jackkooki/Document/duct_analysis/.venv/lib/python3.10/site-packages/pytplot/importers/cdf_to_tplot.py:310: FutureWarning: elementwise comparison failed; returning scalar instead, but in the future will perform elementwise comparison\n",
      "  if ydata[ydata == var_atts[\"FILLVAL\"]].size != 0:\n",
      "\n",
      "14-Jun-23 16:33:51: Downloading remote index: https://ergsc.isee.nagoya-u.ac.jp/data/ergsc/satellite/erg/orb/def/2017/\n",
      "14-Jun-23 16:33:51: File is current: erg_data/satellite/erg/orb/def/2017/erg_orb_l2_20170429_v03.cdf\n"
     ]
    },
    {
     "name": "stdout",
     "output_type": "stream",
     "text": [
      " \n",
      "**************************************************************************\n",
      "Exploration of Energization and Radiation in Geospace (ERG) Medium Energy Particle experiments - electron analyzer (MEP-e) electron omni flux data\n",
      "\n",
      "PI:  Satoshi Kasahara\n",
      "Affiliation: The University of Tokyo\n",
      "\n",
      "- The rules of the road (RoR) common to the ERG project:\n",
      "      https://ergsc.isee.nagoya-u.ac.jp/data_info/rules_of_the_road.shtml.en\n",
      "- RoR for MEP-e data:  https://ergsc.isee.nagoya-u.ac.jp/mw/index.php/ErgSat/Mepe\n",
      "\n",
      "Contact: erg_mep_info at isee.nagoya-u.ac.jp\n",
      "**************************************************************************\n",
      " \n",
      "**************************************************************************\n",
      "Exploration of Energization and Radiation in Geospace (ERG) Level-2 orbit data\n",
      "\n",
      "Information about ERG orbit\n",
      "\n",
      "\n",
      "RoR of ERG project common: https://ergsc.isee.nagoya-u.ac.jp/data_info/rules_of_the_road.shtml.en\n",
      "\n",
      "Contact: erg-sc-core at isee.nagoya-u.ac.jp\n",
      "**************************************************************************\n"
     ]
    },
    {
     "data": {
      "text/plain": [
       "('ne_mgf',\n",
       " 'kvec_polar_132',\n",
       " 'erg_pwe_ofa_l2_spec_B_spectra_132',\n",
       " 'erg_pwe_ofa_l2_spec_E_spectra_132',\n",
       " 'erg_mepe_l2_omniflux_FEDO',\n",
       " 'erg_mepe_l3_pa_FEDU_87.5keV',\n",
       " 'erg_mepe_l3_pa_FEDU_72.6keV',\n",
       " 'erg_mepe_l3_pa_FEDU_60.4keV',\n",
       " 'erg_mepe_l3_pa_FEDU_50.3keV',\n",
       " 'erg_mepe_l3_pa_FEDU_42.0keV',\n",
       " 'erg_mepe_l3_pa_FEDU_35.0keV',\n",
       " 'erg_mepe_l3_pa_FEDU_29.3keV',\n",
       " 'erg_mepe_l3_pa_FEDU_24.5keV',\n",
       " 'erg_mepe_l3_pa_FEDU_20.5keV',\n",
       " 'erg_mepe_l3_pa_FEDU_17.1keV',\n",
       " 'erg_mepe_l3_pa_FEDU_14.3keV',\n",
       " 'erg_mepe_l3_pa_FEDU_12.0keV',\n",
       " 'delta_z',\n",
       " 'erg_mgf_l2_magt_8sec',\n",
       " 'erg_mgf_l2_mag_8sec_MAF_x&y',\n",
       " 'erg_orb_l2_pos_rmlatmlt',\n",
       " False)"
      ]
     },
     "execution_count": 1,
     "metadata": {},
     "output_type": "execute_result"
    }
   ],
   "source": [
    "import ULF_duct_plot_detail as udp\n",
    "import calc_integral_chorus as cic\n",
    "import ULF_duct_plot_ver2 as udp2\n",
    "\n",
    "download_trange = ['2017-04-29', '2013-04-30']\n",
    "'ne_mgf',\\\n",
    "        'kvec_polar_132',\\\n",
    "        'erg_pwe_ofa_l2_spec_B_spectra_132','erg_pwe_ofa_l2_spec_E_spectra_132',\\\n",
    "        'erg_mepe_l2_omniflux_FEDO',\\\n",
    "        'erg_mepe_l3_pa_FEDU_87.5keV', 'erg_mepe_l3_pa_FEDU_72.6keV', 'erg_mepe_l3_pa_FEDU_60.4keV','erg_mepe_l3_pa_FEDU_50.3keV', 'erg_mepe_l3_pa_FEDU_42.0keV','erg_mepe_l3_pa_FEDU_35.0keV','erg_mepe_l3_pa_FEDU_29.3keV','erg_mepe_l3_pa_FEDU_24.5keV','erg_mepe_l3_pa_FEDU_20.5keV','erg_mepe_l3_pa_FEDU_17.1keV','erg_mepe_l3_pa_FEDU_14.3keV','erg_mepe_l3_pa_FEDU_12.0keV',\\\n",
    "            'delta_z', 'erg_mgf_l2_magt_8sec','erg_mgf_l2_mag_8sec_MAF_x&y',\\\n",
    "            'erg_orb_l2_pos_rmlatmlt','erg_orb_l2_pos_eq' == udp2.ULF_duct_load(download_trange)"
   ]
  },
  {
   "cell_type": "code",
   "execution_count": null,
   "metadata": {},
   "outputs": [],
   "source": [
    "import get_density as gd\n",
    "import calc_RI as cr\n",
    "import pytplot\n",
    "import pyspedas\n",
    "\n",
    "\n",
    "r2_ = ['2017-03-27 22:00:00', '2017-03-27 22:30:00']\n",
    "min = 0.1\n",
    "max = 20\n",
    "'erg_pwe_ofa_l2_spec_B_chorus_integrate' == cic.integral_chorus_spec(download_trange,r2_, min, max)\n",
    "\n",
    "f = 0.3e3\n",
    "path = './erg_data/satellite/erg/UHRdensity/2017/03/density20170327.txt'\n",
    "theta = 0\n",
    "plot_trange = r2_\n",
    "'ne' == gd.get_density(path)\n",
    "\n",
    "pyspedas.tinterpol('ne', 'erg_mgf_l2_magt_8sec', newname='ne_intpl')\n",
    "\n",
    "N = pytplot.data_quants['ne_intpl']*1e6\n",
    "B = pytplot.data_quants['erg_mgf_l2_magt_8sec']*1e-9\n",
    "\n",
    "mu = cr.calc_RI(N, B, f)\n",
    "pytplot.store_data('mu', data={'x':B['time'], 'y':mu})\n",
    "pytplot.options('kvec_polar_132', opt_dict={'ytitle':'wna','ysubtitle':'[kHz]','ylog':1, 'spec':1})\n",
    "pytplot.options('erg_pwe_ofa_l2_spec_B_spectra_132', opt_dict={'ytitle':'ofa-B','ysubtitle':'[kHz]','ylog':1, 'zlog':1, 'spec':1})\n",
    "pytplot.options('erg_pwe_ofa_l2_spec_B_chorus_integrate', opt_dict={'ytitle':'integral','ylog':1})\n",
    "pytplot.options('delta_z', opt_dict={'ytitle':'$\\delta B$','ylog':0})\n",
    "pytplot.options('erg_mgf_l2_magt_8sec', opt_dict={'ytitle':'$B_{total}$','ylog':0})\n",
    "pytplot.options('erg_mgf_l2_mag_8sec_MAF_x&y', opt_dict={'ytitle':'$B_{xy}$','ylog':0})\n",
    "pytplot.options('mu', opt_dict={'ytitle':'$\\mu$','ylog':1, 'yrange':[4.4,5]})\n",
    "\n",
    "labels = pytplot.split_vec( 'erg_orb_l2_pos_rmlatmlt' )\n",
    "pytplot.options( 'erg_orb_l2_pos_rmlatmlt_x', opt_dict={'ytitle':'L [Re]','ytitle_location':'left'} )\n",
    "pytplot.options( 'erg_orb_l2_pos_rmlatmlt_y', 'ytitle', 'MLat [deg]' )\n",
    "pytplot.options( 'erg_orb_l2_pos_rmlatmlt_z', 'ytitle', 'MLT [h]' )\n",
    "pytplot.options('ne', opt_dict={'ytitle':'density','ysubtitle':'$/cc$', 'ylog':0, 'yrange':[2e-1, 6e-1]})\n",
    "pytplot.xlim( plot_trange[0], plot_trange[1] )\n",
    "\n",
    "pytplot.tplot(['kvec_polar_132', 'erg_pwe_ofa_l2_spec_B_spectra_132', 'erg_pwe_ofa_l2_spec_B_chorus_integrate', 'mu', 'ne', 'delta_z', 'erg_mgf_l2_magt_8sec', 'erg_mgf_l2_mag_8sec_MAF_x&y'],var_label=labels, xsize=10, ysize=20)\n"
   ]
  }
 ],
 "metadata": {
  "kernelspec": {
   "display_name": ".venv",
   "language": "python",
   "name": "python3"
  },
  "language_info": {
   "codemirror_mode": {
    "name": "ipython",
    "version": 3
   },
   "file_extension": ".py",
   "mimetype": "text/x-python",
   "name": "python",
   "nbconvert_exporter": "python",
   "pygments_lexer": "ipython3",
   "version": "3.10.6"
  },
  "orig_nbformat": 4
 },
 "nbformat": 4,
 "nbformat_minor": 2
}
