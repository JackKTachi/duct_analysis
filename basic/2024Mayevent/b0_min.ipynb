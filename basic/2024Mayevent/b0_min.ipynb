{
 "cells": [
  {
   "cell_type": "code",
   "execution_count": 1,
   "metadata": {},
   "outputs": [
    {
     "name": "stdout",
     "output_type": "stream",
     "text": [
      "Load IGRF coefficients ...\n"
     ]
    }
   ],
   "source": [
    "import geopack\n",
    "from geopack import geopack"
   ]
  },
  {
   "cell_type": "code",
   "execution_count": 1,
   "metadata": {},
   "outputs": [
    {
     "name": "stdout",
     "output_type": "stream",
     "text": [
      "Load IGRF coefficients ...\n"
     ]
    }
   ],
   "source": [
    "import geopack\n",
    "import pyspedas\n",
    "import numpy as np\n",
    "import pytplot\n",
    "from datetime import datetime, timedelta, timezone\n",
    "from pytplot import tplot, data_quants , store_data, options, cdf_to_tplot\n",
    "from geopack import geopack\n",
    "\n",
    "def compara_beq(time):\n",
    "    timestamp = datetime.strptime(time, '%Y-%m-%d %H:%M:%S')\n",
    "\n",
    "    # 年、月、日、時、分を取得し、文字列に変換\n",
    "    year = str(timestamp.year)\n",
    "    month = str(timestamp.month).zfill(2)  # ゼロ埋め\n",
    "    day = str(timestamp.day).zfill(2)  # ゼロ埋め\n",
    "    hour = str(timestamp.hour).zfill(2)  # ゼロ埋め\n",
    "    minute = str(timestamp.minute).zfill(2)  # ゼロ埋め\n",
    "\n",
    "    timestamp_next_day = timestamp + timedelta(days=1)\n",
    "    nextday = str(timestamp_next_day.day).zfill(2) \n",
    "\n",
    "    ### if you want to import the data into your repository, use this code. ###\n",
    "    #tr = ['{}-{}-{}'.format(year, month, day), '{}-{}-{}'.format(year, month, nextday)]\n",
    "\n",
    "    ### if you want to import the data into your repository, change this code and variable name of 'pos_gsm' ###\n",
    "    #cdf_to_tplot('/home/kooki/Documents/duct_analysis/basic/2024Mayevent/erg_data/satellite/erg/orb/def/{}/erg_orb_l2_{}{}{}_v04.cdf'.format(year, year, month, day))\n",
    "    cdf_to_tplot('/home/kooki/Documents/duct_analysis/basic/2024May10/erg_orb_l2_20240511_v04.cdf')\n",
    "\n",
    "    datetime_array = pytplot.data_quants['pos_gsm'].coords['time'].values\n",
    "    # Target datetime\n",
    "    target_datetime = np.datetime64(time)\n",
    "    index = np.where(datetime_array == target_datetime)[0][0]\n",
    "    data = pytplot.data_quants['pos_gsm'].values[index]\n",
    "\n",
    "    dt = datetime(int(year), int(month), int(day), int(hour), int(minute), 0, tzinfo=timezone.utc)\n",
    "\n",
    "    # UNIXエポックからの経過時間を計算します\n",
    "    epoch = datetime(1970, 1, 1, 0, 0, 0, tzinfo=timezone.utc)\n",
    "    elapsed_time = dt - epoch\n",
    "\n",
    "    # 経過時間を秒単位で取得します\n",
    "    ut = elapsed_time.total_seconds()\n",
    "    ps = geopack.recalc(ut)\n",
    "\n",
    "    # 南北両方向にトレースして結合\n",
    "    x,y,z, xx, yy, zz = geopack.trace(data[0], data[1], data[2], 1)\n",
    "    x_n, y_n, z_n, xx_n, yy_n, zz_n = geopack.trace(data[0], data[1], data[2], -1)\n",
    "    combined_xx = np.concatenate(( np.flip(xx_n), xx))\n",
    "    combined_yy = np.concatenate(( np.flip(yy_n), yy))\n",
    "    combined_zz = np.concatenate(( np.flip(zz_n), zz))\n",
    "\n",
    "    # トレースした座標での磁場を計算\n",
    "    bb = np.zeros(len(combined_xx))\n",
    "    for i in range(len(combined_xx)):\n",
    "        bx, by, bz = geopack.t89.t89(2, ps, combined_xx[i], combined_yy[i], combined_zz[i])\n",
    "        bx0, by0, bz0 = geopack.dip(combined_xx[i], combined_yy[i], combined_zz[i])\n",
    "        bb[i] = ( np.sqrt((bx + bx0)**2 + (by + by0)**2 + (bz + bz0)**2) )\n",
    "\n",
    "    # 最小値を取得\n",
    "    min_b_t = bb[np.argmin(bb)]\n",
    "\n",
    "    ### if you wnat to compare with erg orb l3 data, use this code. ###\n",
    "    \"\"\" #from pyspedas.erg import orb\n",
    "    #orb(tr, level='l3')        erg_orb_l3_\n",
    "    cdf_to_tplot('./erg_data/satellite/erg/orb/l3/opq/2018/02/erg_orb_l3_t89_20180222_v02.cdf')\n",
    "    datetime_array = pytplot.data_quants['pos_beq_t89'].coords['time'].values\n",
    "    # Target datetime\n",
    "    target_datetime = np.datetime64(time)\n",
    "    index = np.where(datetime_array == target_datetime)[0][0]\n",
    "    b_eq = pytplot.data_quants['pos_beq_t89'].values[index] \"\"\"\n",
    "\n",
    "    return min_b_t  #, b_eq"
   ]
  },
  {
   "cell_type": "code",
   "execution_count": 2,
   "metadata": {},
   "outputs": [
    {
     "ename": "TypeError",
     "evalue": "'CDFInfo' object is not subscriptable",
     "output_type": "error",
     "traceback": [
      "\u001b[0;31m---------------------------------------------------------------------------\u001b[0m",
      "\u001b[0;31mTypeError\u001b[0m                                 Traceback (most recent call last)",
      "Cell \u001b[0;32mIn[2], line 2\u001b[0m\n\u001b[1;32m      1\u001b[0m time \u001b[38;5;241m=\u001b[39m \u001b[38;5;124m'\u001b[39m\u001b[38;5;124m2024-05-12 13:30:00\u001b[39m\u001b[38;5;124m'\u001b[39m\n\u001b[0;32m----> 2\u001b[0m min_b_t \u001b[38;5;241m=\u001b[39m \u001b[43mcompara_beq\u001b[49m\u001b[43m(\u001b[49m\u001b[43mtime\u001b[49m\u001b[43m)\u001b[49m\n",
      "Cell \u001b[0;32mIn[1], line 27\u001b[0m, in \u001b[0;36mcompara_beq\u001b[0;34m(time)\u001b[0m\n\u001b[1;32m     20\u001b[0m nextday \u001b[38;5;241m=\u001b[39m \u001b[38;5;28mstr\u001b[39m(timestamp_next_day\u001b[38;5;241m.\u001b[39mday)\u001b[38;5;241m.\u001b[39mzfill(\u001b[38;5;241m2\u001b[39m) \n\u001b[1;32m     22\u001b[0m \u001b[38;5;66;03m### if you want to import the data into your repository, use this code. ###\u001b[39;00m\n\u001b[1;32m     23\u001b[0m \u001b[38;5;66;03m#tr = ['{}-{}-{}'.format(year, month, day), '{}-{}-{}'.format(year, month, nextday)]\u001b[39;00m\n\u001b[1;32m     24\u001b[0m \n\u001b[1;32m     25\u001b[0m \u001b[38;5;66;03m### if you want to import the data into your repository, change this code and variable name of 'pos_gsm' ###\u001b[39;00m\n\u001b[1;32m     26\u001b[0m \u001b[38;5;66;03m#cdf_to_tplot('/home/kooki/Documents/duct_analysis/basic/2024Mayevent/erg_data/satellite/erg/orb/def/{}/erg_orb_l2_{}{}{}_v04.cdf'.format(year, year, month, day))\u001b[39;00m\n\u001b[0;32m---> 27\u001b[0m \u001b[43mcdf_to_tplot\u001b[49m\u001b[43m(\u001b[49m\u001b[38;5;124;43m'\u001b[39;49m\u001b[38;5;124;43m/home/kooki/Documents/duct_analysis/basic/2024May10/erg_orb_l2_20240511_v04.cdf\u001b[39;49m\u001b[38;5;124;43m'\u001b[39;49m\u001b[43m)\u001b[49m\n\u001b[1;32m     29\u001b[0m datetime_array \u001b[38;5;241m=\u001b[39m pytplot\u001b[38;5;241m.\u001b[39mdata_quants[\u001b[38;5;124m'\u001b[39m\u001b[38;5;124mpos_gsm\u001b[39m\u001b[38;5;124m'\u001b[39m]\u001b[38;5;241m.\u001b[39mcoords[\u001b[38;5;124m'\u001b[39m\u001b[38;5;124mtime\u001b[39m\u001b[38;5;124m'\u001b[39m]\u001b[38;5;241m.\u001b[39mvalues\n\u001b[1;32m     30\u001b[0m \u001b[38;5;66;03m# Target datetime\u001b[39;00m\n",
      "File \u001b[0;32m~/Documents/duct_analysis/.venv/lib/python3.10/site-packages/pytplot/importers/cdf_to_tplot.py:150\u001b[0m, in \u001b[0;36mcdf_to_tplot\u001b[0;34m(filenames, mastercdf, varformat, get_support_data, get_metadata, get_ignore_data, string_encoding, prefix, suffix, plot, merge, center_measurement, notplot, varnames)\u001b[0m\n\u001b[1;32m    148\u001b[0m cdf_file\u001b[38;5;241m.\u001b[39mstring_encoding \u001b[38;5;241m=\u001b[39m string_encoding\n\u001b[1;32m    149\u001b[0m cdf_info \u001b[38;5;241m=\u001b[39m cdf_file\u001b[38;5;241m.\u001b[39mcdf_info()\n\u001b[0;32m--> 150\u001b[0m all_cdf_variables \u001b[38;5;241m=\u001b[39m \u001b[43mcdf_info\u001b[49m\u001b[43m[\u001b[49m\u001b[38;5;124;43m'\u001b[39;49m\u001b[38;5;124;43mrVariables\u001b[39;49m\u001b[38;5;124;43m'\u001b[39;49m\u001b[43m]\u001b[49m \u001b[38;5;241m+\u001b[39m cdf_info[\u001b[38;5;124m'\u001b[39m\u001b[38;5;124mzVariables\u001b[39m\u001b[38;5;124m'\u001b[39m]\n\u001b[1;32m    151\u001b[0m logging\u001b[38;5;241m.\u001b[39mdebug(\u001b[38;5;124m\"\u001b[39m\u001b[38;5;124mall_cdf_variables: \u001b[39m\u001b[38;5;124m\"\u001b[39m \u001b[38;5;241m+\u001b[39m \u001b[38;5;28mstr\u001b[39m(all_cdf_variables))\n\u001b[1;32m    152\u001b[0m \u001b[38;5;28;01mif\u001b[39;00m \u001b[38;5;129;01mnot\u001b[39;00m mastercdf_flag:\n\u001b[1;32m    153\u001b[0m     \u001b[38;5;66;03m# If not using a master CDF, each CDF is its own master\u001b[39;00m\n",
      "\u001b[0;31mTypeError\u001b[0m: 'CDFInfo' object is not subscriptable"
     ]
    }
   ],
   "source": [
    "time = '2024-05-12 13:30:00'\n",
    "min_b_t = compara_beq(time)"
   ]
  },
  {
   "cell_type": "code",
   "execution_count": 5,
   "metadata": {},
   "outputs": [
    {
     "ename": "NameError",
     "evalue": "name 'year' is not defined",
     "output_type": "error",
     "traceback": [
      "\u001b[0;31m---------------------------------------------------------------------------\u001b[0m",
      "\u001b[0;31mNameError\u001b[0m                                 Traceback (most recent call last)",
      "Cell \u001b[0;32mIn[5], line 1\u001b[0m\n\u001b[0;32m----> 1\u001b[0m \u001b[43myear\u001b[49m\n",
      "\u001b[0;31mNameError\u001b[0m: name 'year' is not defined"
     ]
    }
   ],
   "source": [
    "year"
   ]
  },
  {
   "cell_type": "code",
   "execution_count": 9,
   "metadata": {},
   "outputs": [
    {
     "ename": "TypeError",
     "evalue": "'CDFInfo' object is not subscriptable",
     "output_type": "error",
     "traceback": [
      "\u001b[0;31m---------------------------------------------------------------------------\u001b[0m",
      "\u001b[0;31mTypeError\u001b[0m                                 Traceback (most recent call last)",
      "Cell \u001b[0;32mIn[9], line 1\u001b[0m\n\u001b[0;32m----> 1\u001b[0m \u001b[43mcdf_to_tplot\u001b[49m\u001b[43m(\u001b[49m\u001b[38;5;124;43m'\u001b[39;49m\u001b[38;5;124;43m/home/kooki/Documents/duct_analysis/basic/2024May10/erg_pwe_hfa_l2_spec_monit_20240511_v01_02.cdf\u001b[39;49m\u001b[38;5;124;43m'\u001b[39;49m\u001b[43m)\u001b[49m\n",
      "File \u001b[0;32m~/Documents/duct_analysis/.venv/lib/python3.10/site-packages/pytplot/importers/cdf_to_tplot.py:150\u001b[0m, in \u001b[0;36mcdf_to_tplot\u001b[0;34m(filenames, mastercdf, varformat, get_support_data, get_metadata, get_ignore_data, string_encoding, prefix, suffix, plot, merge, center_measurement, notplot, varnames)\u001b[0m\n\u001b[1;32m    148\u001b[0m cdf_file\u001b[38;5;241m.\u001b[39mstring_encoding \u001b[38;5;241m=\u001b[39m string_encoding\n\u001b[1;32m    149\u001b[0m cdf_info \u001b[38;5;241m=\u001b[39m cdf_file\u001b[38;5;241m.\u001b[39mcdf_info()\n\u001b[0;32m--> 150\u001b[0m all_cdf_variables \u001b[38;5;241m=\u001b[39m \u001b[43mcdf_info\u001b[49m\u001b[43m[\u001b[49m\u001b[38;5;124;43m'\u001b[39;49m\u001b[38;5;124;43mrVariables\u001b[39;49m\u001b[38;5;124;43m'\u001b[39;49m\u001b[43m]\u001b[49m \u001b[38;5;241m+\u001b[39m cdf_info[\u001b[38;5;124m'\u001b[39m\u001b[38;5;124mzVariables\u001b[39m\u001b[38;5;124m'\u001b[39m]\n\u001b[1;32m    151\u001b[0m logging\u001b[38;5;241m.\u001b[39mdebug(\u001b[38;5;124m\"\u001b[39m\u001b[38;5;124mall_cdf_variables: \u001b[39m\u001b[38;5;124m\"\u001b[39m \u001b[38;5;241m+\u001b[39m \u001b[38;5;28mstr\u001b[39m(all_cdf_variables))\n\u001b[1;32m    152\u001b[0m \u001b[38;5;28;01mif\u001b[39;00m \u001b[38;5;129;01mnot\u001b[39;00m mastercdf_flag:\n\u001b[1;32m    153\u001b[0m     \u001b[38;5;66;03m# If not using a master CDF, each CDF is its own master\u001b[39;00m\n",
      "\u001b[0;31mTypeError\u001b[0m: 'CDFInfo' object is not subscriptable"
     ]
    }
   ],
   "source": [
    "cdf_to_tplot('/home/kooki/Documents/duct_analysis/basic/2024May10/erg_pwe_hfa_l2_spec_monit_20240511_v01_02.cdf')"
   ]
  },
  {
   "cell_type": "code",
   "execution_count": null,
   "metadata": {},
   "outputs": [],
   "source": []
  }
 ],
 "metadata": {
  "kernelspec": {
   "display_name": ".venv",
   "language": "python",
   "name": "python3"
  },
  "language_info": {
   "codemirror_mode": {
    "name": "ipython",
    "version": 3
   },
   "file_extension": ".py",
   "mimetype": "text/x-python",
   "name": "python",
   "nbconvert_exporter": "python",
   "pygments_lexer": "ipython3",
   "version": "3.10.12"
  }
 },
 "nbformat": 4,
 "nbformat_minor": 2
}
