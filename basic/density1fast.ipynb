{
 "cells": [
  {
   "cell_type": "code",
   "execution_count": 1,
   "metadata": {},
   "outputs": [],
   "source": [
    "import numpy as np\n",
    "import matplotlib.pyplot as plt\n",
    "import pandas as pd\n",
    "import pyspedas\n",
    "import pytplot\n",
    "import plasma_params as pp\n",
    "import compressional_B as cb\n",
    "import calc_RI as cr\n",
    "import ULF_duct_plot_detail as udp\n",
    "import calc_integral_chorus as cic\n",
    "import ULF_duct_plot_ver2 as udp2\n",
    "import calc_stokes as cs\n",
    "import calc_refractive_index as cri\n",
    "import get_density as gd"
   ]
  },
  {
   "cell_type": "code",
   "execution_count": null,
   "metadata": {},
   "outputs": [],
   "source": []
  },
  {
   "cell_type": "code",
   "execution_count": 22,
   "metadata": {},
   "outputs": [],
   "source": [
    "def calc_n1_fast(gamma, beta, tr, f):\n",
    "    'delta_z', 'delta_xy', 'erg_mgf_l2_magt_8sec','B0' == cb.compressional_B(tr)\n",
    "    B0 = pytplot.data_quants['B0']*1e-9\n",
    "    B1 = pytplot.data_quants['delta_z']*1e-9\n",
    "    theta = 30*np.pi/180\n",
    "    path = './erg_data/satellite/erg/pwe/hfa/l3/1min/2017/03/erg_pwe_hfa_l3_1min_20170327_v03_07.cdf'\n",
    "    pytplot.cdf_to_tplot(path)\n",
    "    pyspedas.tinterpol('ne_mgf', 'delta_z', newname='n0_intpl')\n",
    "    gb = gamma*beta\n",
    "    a = gb\n",
    "    A = 1-a/2+((1+a/2)**2-2*a*np.cos(theta))**(1/2)\n",
    "    n1 = 2*pytplot.data_quants['n0_intpl']*1e6*B1/B0/A\n",
    "    N = pytplot.data_quants['n0_intpl']*1e6+n1\n",
    "    B = B0+B1\n",
    "    mu = np.zeros(len(B['time']))\n",
    "    for i in range(len(B['time'])):\n",
    "        mu[i] = cr.calc_RI(N[i], B[i], f)\n",
    "    return mu"
   ]
  },
  {
   "cell_type": "code",
   "execution_count": 23,
   "metadata": {},
   "outputs": [
    {
     "data": {
      "text/plain": [
       "['Epoch', 'Fuhr', 'ne_mgf', 'quality_flag']"
      ]
     },
     "execution_count": 23,
     "metadata": {},
     "output_type": "execute_result"
    }
   ],
   "source": [
    "path = './erg_data/satellite/erg/pwe/hfa/l3/1min/2017/03/erg_pwe_hfa_l3_1min_20170327_v03_07.cdf'\n",
    "pytplot.cdf_to_tplot(path)\n"
   ]
  },
  {
   "cell_type": "code",
   "execution_count": null,
   "metadata": {},
   "outputs": [],
   "source": []
  },
  {
   "cell_type": "code",
   "execution_count": 24,
   "metadata": {},
   "outputs": [
    {
     "name": "stderr",
     "output_type": "stream",
     "text": [
      "12-Jul-23 18:07:44: Downloading remote index: https://ergsc.isee.nagoya-u.ac.jp/data/ergsc/satellite/erg/mgf/l2/8sec/2017/03/\n",
      "12-Jul-23 18:07:44: File is current: erg_data/satellite/erg/mgf/l2/8sec/2017/03/erg_mgf_l2_8sec_20170327_v03.04.cdf\n",
      "12-Jul-23 18:07:44: /home/jackkooki/Document/duct_analysis/.venv/lib/python3.10/site-packages/pytplot/importers/cdf_to_tplot.py:310: FutureWarning: elementwise comparison failed; returning scalar instead, but in the future will perform elementwise comparison\n",
      "  if ydata[ydata == var_atts[\"FILLVAL\"]].size != 0:\n",
      "\n",
      "12-Jul-23 18:07:44: /home/jackkooki/Document/duct_analysis/.venv/lib/python3.10/site-packages/pytplot/importers/cdf_to_tplot.py:316: FutureWarning: elementwise comparison failed; returning scalar instead, but in the future will perform elementwise comparison\n",
      "  ydata[ydata == var_atts[\"FILLVAL\"]] = 0\n",
      "\n",
      "12-Jul-23 18:07:44: Downloading remote index: https://ergsc.isee.nagoya-u.ac.jp/data/ergsc/satellite/erg/orb/def/2017/\n"
     ]
    },
    {
     "name": "stdout",
     "output_type": "stream",
     "text": [
      " \n",
      "**************************************************************************\n",
      "Exploration of Energization and Radiation in Geospace (ERG) Magnetic Field Experiment (MGF) Level 2 spin-averaged magnetic field data\n",
      "\n",
      "Information about ERG MGF\n",
      "\n",
      "PI:  Ayako Matsuoka\n",
      "Affiliation: Data Analysis Center for Geomagnetism and Space Magnetism, Graduate School of Science, Kyoto University, Kitashirakawa-Oiwake Cho, Sakyo-ku Kyoto 606-8502, Japan\n",
      "\n",
      "RoR of ERG project common: https://ergsc.isee.nagoya-u.ac.jp/data_info/rules_of_the_road.shtml.en\n",
      "RoR of MGF L2: https://ergsc.isee.nagoya-u.ac.jp/mw/index.php/ErgSat/Mgf\n",
      "Contact: erg_mgf_info at isee.nagoya-u.ac.jp\n",
      "**************************************************************************\n"
     ]
    },
    {
     "name": "stderr",
     "output_type": "stream",
     "text": [
      "12-Jul-23 18:07:45: File is current: erg_data/satellite/erg/orb/def/2017/erg_orb_l2_20170327_v03.cdf\n",
      "12-Jul-23 18:07:45: /home/jackkooki/Document/duct_analysis/.venv/lib/python3.10/site-packages/pytplot/importers/cdf_to_tplot.py:310: FutureWarning: elementwise comparison failed; returning scalar instead, but in the future will perform elementwise comparison\n",
      "  if ydata[ydata == var_atts[\"FILLVAL\"]].size != 0:\n",
      "\n",
      "12-Jul-23 18:07:45: /home/jackkooki/Document/duct_analysis/.venv/lib/python3.10/site-packages/pytplot/importers/cdf_to_tplot.py:316: FutureWarning: elementwise comparison failed; returning scalar instead, but in the future will perform elementwise comparison\n",
      "  ydata[ydata == var_atts[\"FILLVAL\"]] = 0\n",
      "\n"
     ]
    },
    {
     "name": "stdout",
     "output_type": "stream",
     "text": [
      " \n",
      "**************************************************************************\n",
      "Exploration of Energization and Radiation in Geospace (ERG) Level-2 orbit data\n",
      "\n",
      "Information about ERG orbit\n",
      "\n",
      "\n",
      "RoR of ERG project common: https://ergsc.isee.nagoya-u.ac.jp/data_info/rules_of_the_road.shtml.en\n",
      "\n",
      "Contact: erg-sc-core at isee.nagoya-u.ac.jp\n",
      "**************************************************************************\n"
     ]
    },
    {
     "name": "stderr",
     "output_type": "stream",
     "text": [
      "12-Jul-23 18:07:56: tinterpol (linear) was applied to: cos_th_intpl\n",
      "12-Jul-23 18:07:56: tinterpol (linear) was applied to: sin_th_intpl\n",
      "12-Jul-23 18:07:56: tinterpol (linear) was applied to: cos_ph_intpl\n",
      "12-Jul-23 18:07:56: tinterpol (linear) was applied to: sin_ph_intpl\n",
      "12-Jul-23 18:07:56: tinterpol (linear) was applied to: erg_mgf_l2_mag_8sec_gsm_x_intpl\n",
      "12-Jul-23 18:07:56: tinterpol (linear) was applied to: erg_mgf_l2_mag_8sec_gsm_y_intpl\n",
      "12-Jul-23 18:07:56: tinterpol (linear) was applied to: erg_mgf_l2_mag_8sec_gsm_z_intpl\n",
      "12-Jul-23 18:08:15: Downloading remote index: https://ergsc.isee.nagoya-u.ac.jp/data/ergsc/satellite/erg/mgf/l2/8sec/2017/03/\n",
      "12-Jul-23 18:08:15: File is current: erg_data/satellite/erg/mgf/l2/8sec/2017/03/erg_mgf_l2_8sec_20170327_v03.04.cdf\n",
      "12-Jul-23 18:08:15: /home/jackkooki/Document/duct_analysis/.venv/lib/python3.10/site-packages/pytplot/importers/cdf_to_tplot.py:310: FutureWarning: elementwise comparison failed; returning scalar instead, but in the future will perform elementwise comparison\n",
      "  if ydata[ydata == var_atts[\"FILLVAL\"]].size != 0:\n",
      "\n",
      "12-Jul-23 18:08:15: /home/jackkooki/Document/duct_analysis/.venv/lib/python3.10/site-packages/pytplot/importers/cdf_to_tplot.py:316: FutureWarning: elementwise comparison failed; returning scalar instead, but in the future will perform elementwise comparison\n",
      "  ydata[ydata == var_atts[\"FILLVAL\"]] = 0\n",
      "\n",
      "12-Jul-23 18:08:15: Downloading remote index: https://ergsc.isee.nagoya-u.ac.jp/data/ergsc/satellite/erg/orb/def/2017/\n",
      "12-Jul-23 18:08:15: File is current: erg_data/satellite/erg/orb/def/2017/erg_orb_l2_20170327_v03.cdf\n"
     ]
    },
    {
     "name": "stdout",
     "output_type": "stream",
     "text": [
      " \n",
      "**************************************************************************\n",
      "Exploration of Energization and Radiation in Geospace (ERG) Magnetic Field Experiment (MGF) Level 2 spin-averaged magnetic field data\n",
      "\n",
      "Information about ERG MGF\n",
      "\n",
      "PI:  Ayako Matsuoka\n",
      "Affiliation: Data Analysis Center for Geomagnetism and Space Magnetism, Graduate School of Science, Kyoto University, Kitashirakawa-Oiwake Cho, Sakyo-ku Kyoto 606-8502, Japan\n",
      "\n",
      "RoR of ERG project common: https://ergsc.isee.nagoya-u.ac.jp/data_info/rules_of_the_road.shtml.en\n",
      "RoR of MGF L2: https://ergsc.isee.nagoya-u.ac.jp/mw/index.php/ErgSat/Mgf\n",
      "Contact: erg_mgf_info at isee.nagoya-u.ac.jp\n",
      "**************************************************************************\n"
     ]
    },
    {
     "name": "stderr",
     "output_type": "stream",
     "text": [
      "12-Jul-23 18:08:15: /home/jackkooki/Document/duct_analysis/.venv/lib/python3.10/site-packages/pytplot/importers/cdf_to_tplot.py:310: FutureWarning: elementwise comparison failed; returning scalar instead, but in the future will perform elementwise comparison\n",
      "  if ydata[ydata == var_atts[\"FILLVAL\"]].size != 0:\n",
      "\n",
      "12-Jul-23 18:08:15: /home/jackkooki/Document/duct_analysis/.venv/lib/python3.10/site-packages/pytplot/importers/cdf_to_tplot.py:316: FutureWarning: elementwise comparison failed; returning scalar instead, but in the future will perform elementwise comparison\n",
      "  ydata[ydata == var_atts[\"FILLVAL\"]] = 0\n",
      "\n"
     ]
    },
    {
     "name": "stdout",
     "output_type": "stream",
     "text": [
      " \n",
      "**************************************************************************\n",
      "Exploration of Energization and Radiation in Geospace (ERG) Level-2 orbit data\n",
      "\n",
      "Information about ERG orbit\n",
      "\n",
      "\n",
      "RoR of ERG project common: https://ergsc.isee.nagoya-u.ac.jp/data_info/rules_of_the_road.shtml.en\n",
      "\n",
      "Contact: erg-sc-core at isee.nagoya-u.ac.jp\n",
      "**************************************************************************\n"
     ]
    },
    {
     "name": "stderr",
     "output_type": "stream",
     "text": [
      "12-Jul-23 18:08:27: tinterpol (linear) was applied to: cos_th_intpl\n",
      "12-Jul-23 18:08:27: tinterpol (linear) was applied to: sin_th_intpl\n",
      "12-Jul-23 18:08:27: tinterpol (linear) was applied to: cos_ph_intpl\n",
      "12-Jul-23 18:08:27: tinterpol (linear) was applied to: sin_ph_intpl\n",
      "12-Jul-23 18:08:27: tinterpol (linear) was applied to: erg_mgf_l2_mag_8sec_gsm_x_intpl\n",
      "12-Jul-23 18:08:27: tinterpol (linear) was applied to: erg_mgf_l2_mag_8sec_gsm_y_intpl\n",
      "12-Jul-23 18:08:27: tinterpol (linear) was applied to: erg_mgf_l2_mag_8sec_gsm_z_intpl\n",
      "12-Jul-23 18:08:46: tinterpol (linear) was applied to: n0_intpl\n",
      "12-Jul-23 18:09:11: Downloading remote index: https://ergsc.isee.nagoya-u.ac.jp/data/ergsc/satellite/erg/mgf/l2/8sec/2017/03/\n",
      "12-Jul-23 18:09:11: File is current: erg_data/satellite/erg/mgf/l2/8sec/2017/03/erg_mgf_l2_8sec_20170327_v03.04.cdf\n",
      "12-Jul-23 18:09:11: /home/jackkooki/Document/duct_analysis/.venv/lib/python3.10/site-packages/pytplot/importers/cdf_to_tplot.py:310: FutureWarning: elementwise comparison failed; returning scalar instead, but in the future will perform elementwise comparison\n",
      "  if ydata[ydata == var_atts[\"FILLVAL\"]].size != 0:\n",
      "\n",
      "12-Jul-23 18:09:11: /home/jackkooki/Document/duct_analysis/.venv/lib/python3.10/site-packages/pytplot/importers/cdf_to_tplot.py:316: FutureWarning: elementwise comparison failed; returning scalar instead, but in the future will perform elementwise comparison\n",
      "  ydata[ydata == var_atts[\"FILLVAL\"]] = 0\n",
      "\n",
      "12-Jul-23 18:09:11: Downloading remote index: https://ergsc.isee.nagoya-u.ac.jp/data/ergsc/satellite/erg/orb/def/2017/\n"
     ]
    },
    {
     "name": "stdout",
     "output_type": "stream",
     "text": [
      " \n",
      "**************************************************************************\n",
      "Exploration of Energization and Radiation in Geospace (ERG) Magnetic Field Experiment (MGF) Level 2 spin-averaged magnetic field data\n",
      "\n",
      "Information about ERG MGF\n",
      "\n",
      "PI:  Ayako Matsuoka\n",
      "Affiliation: Data Analysis Center for Geomagnetism and Space Magnetism, Graduate School of Science, Kyoto University, Kitashirakawa-Oiwake Cho, Sakyo-ku Kyoto 606-8502, Japan\n",
      "\n",
      "RoR of ERG project common: https://ergsc.isee.nagoya-u.ac.jp/data_info/rules_of_the_road.shtml.en\n",
      "RoR of MGF L2: https://ergsc.isee.nagoya-u.ac.jp/mw/index.php/ErgSat/Mgf\n",
      "Contact: erg_mgf_info at isee.nagoya-u.ac.jp\n",
      "**************************************************************************\n"
     ]
    },
    {
     "name": "stderr",
     "output_type": "stream",
     "text": [
      "12-Jul-23 18:09:12: File is current: erg_data/satellite/erg/orb/def/2017/erg_orb_l2_20170327_v03.cdf\n",
      "12-Jul-23 18:09:12: /home/jackkooki/Document/duct_analysis/.venv/lib/python3.10/site-packages/pytplot/importers/cdf_to_tplot.py:310: FutureWarning: elementwise comparison failed; returning scalar instead, but in the future will perform elementwise comparison\n",
      "  if ydata[ydata == var_atts[\"FILLVAL\"]].size != 0:\n",
      "\n",
      "12-Jul-23 18:09:12: /home/jackkooki/Document/duct_analysis/.venv/lib/python3.10/site-packages/pytplot/importers/cdf_to_tplot.py:316: FutureWarning: elementwise comparison failed; returning scalar instead, but in the future will perform elementwise comparison\n",
      "  ydata[ydata == var_atts[\"FILLVAL\"]] = 0\n",
      "\n"
     ]
    },
    {
     "name": "stdout",
     "output_type": "stream",
     "text": [
      " \n",
      "**************************************************************************\n",
      "Exploration of Energization and Radiation in Geospace (ERG) Level-2 orbit data\n",
      "\n",
      "Information about ERG orbit\n",
      "\n",
      "\n",
      "RoR of ERG project common: https://ergsc.isee.nagoya-u.ac.jp/data_info/rules_of_the_road.shtml.en\n",
      "\n",
      "Contact: erg-sc-core at isee.nagoya-u.ac.jp\n",
      "**************************************************************************\n"
     ]
    },
    {
     "name": "stderr",
     "output_type": "stream",
     "text": [
      "12-Jul-23 18:09:23: tinterpol (linear) was applied to: cos_th_intpl\n",
      "12-Jul-23 18:09:23: tinterpol (linear) was applied to: sin_th_intpl\n",
      "12-Jul-23 18:09:23: tinterpol (linear) was applied to: cos_ph_intpl\n",
      "12-Jul-23 18:09:23: tinterpol (linear) was applied to: sin_ph_intpl\n",
      "12-Jul-23 18:09:23: tinterpol (linear) was applied to: erg_mgf_l2_mag_8sec_gsm_x_intpl\n",
      "12-Jul-23 18:09:24: tinterpol (linear) was applied to: erg_mgf_l2_mag_8sec_gsm_y_intpl\n",
      "12-Jul-23 18:09:24: tinterpol (linear) was applied to: erg_mgf_l2_mag_8sec_gsm_z_intpl\n",
      "12-Jul-23 18:09:42: tinterpol (linear) was applied to: n0_intpl\n",
      "12-Jul-23 18:10:07: Downloading remote index: https://ergsc.isee.nagoya-u.ac.jp/data/ergsc/satellite/erg/mgf/l2/8sec/2017/03/\n",
      "12-Jul-23 18:10:07: File is current: erg_data/satellite/erg/mgf/l2/8sec/2017/03/erg_mgf_l2_8sec_20170327_v03.04.cdf\n",
      "12-Jul-23 18:10:07: /home/jackkooki/Document/duct_analysis/.venv/lib/python3.10/site-packages/pytplot/importers/cdf_to_tplot.py:310: FutureWarning: elementwise comparison failed; returning scalar instead, but in the future will perform elementwise comparison\n",
      "  if ydata[ydata == var_atts[\"FILLVAL\"]].size != 0:\n",
      "\n",
      "12-Jul-23 18:10:07: /home/jackkooki/Document/duct_analysis/.venv/lib/python3.10/site-packages/pytplot/importers/cdf_to_tplot.py:316: FutureWarning: elementwise comparison failed; returning scalar instead, but in the future will perform elementwise comparison\n",
      "  ydata[ydata == var_atts[\"FILLVAL\"]] = 0\n",
      "\n",
      "12-Jul-23 18:10:08: Downloading remote index: https://ergsc.isee.nagoya-u.ac.jp/data/ergsc/satellite/erg/orb/def/2017/\n",
      "12-Jul-23 18:10:08: File is current: erg_data/satellite/erg/orb/def/2017/erg_orb_l2_20170327_v03.cdf\n",
      "12-Jul-23 18:10:08: /home/jackkooki/Document/duct_analysis/.venv/lib/python3.10/site-packages/pytplot/importers/cdf_to_tplot.py:310: FutureWarning: elementwise comparison failed; returning scalar instead, but in the future will perform elementwise comparison\n",
      "  if ydata[ydata == var_atts[\"FILLVAL\"]].size != 0:\n",
      "\n"
     ]
    },
    {
     "name": "stdout",
     "output_type": "stream",
     "text": [
      " \n",
      "**************************************************************************\n",
      "Exploration of Energization and Radiation in Geospace (ERG) Magnetic Field Experiment (MGF) Level 2 spin-averaged magnetic field data\n",
      "\n",
      "Information about ERG MGF\n",
      "\n",
      "PI:  Ayako Matsuoka\n",
      "Affiliation: Data Analysis Center for Geomagnetism and Space Magnetism, Graduate School of Science, Kyoto University, Kitashirakawa-Oiwake Cho, Sakyo-ku Kyoto 606-8502, Japan\n",
      "\n",
      "RoR of ERG project common: https://ergsc.isee.nagoya-u.ac.jp/data_info/rules_of_the_road.shtml.en\n",
      "RoR of MGF L2: https://ergsc.isee.nagoya-u.ac.jp/mw/index.php/ErgSat/Mgf\n",
      "Contact: erg_mgf_info at isee.nagoya-u.ac.jp\n",
      "**************************************************************************\n"
     ]
    },
    {
     "name": "stderr",
     "output_type": "stream",
     "text": [
      "12-Jul-23 18:10:08: /home/jackkooki/Document/duct_analysis/.venv/lib/python3.10/site-packages/pytplot/importers/cdf_to_tplot.py:316: FutureWarning: elementwise comparison failed; returning scalar instead, but in the future will perform elementwise comparison\n",
      "  ydata[ydata == var_atts[\"FILLVAL\"]] = 0\n",
      "\n"
     ]
    },
    {
     "name": "stdout",
     "output_type": "stream",
     "text": [
      " \n",
      "**************************************************************************\n",
      "Exploration of Energization and Radiation in Geospace (ERG) Level-2 orbit data\n",
      "\n",
      "Information about ERG orbit\n",
      "\n",
      "\n",
      "RoR of ERG project common: https://ergsc.isee.nagoya-u.ac.jp/data_info/rules_of_the_road.shtml.en\n",
      "\n",
      "Contact: erg-sc-core at isee.nagoya-u.ac.jp\n",
      "**************************************************************************\n"
     ]
    },
    {
     "name": "stderr",
     "output_type": "stream",
     "text": [
      "12-Jul-23 18:10:19: tinterpol (linear) was applied to: cos_th_intpl\n",
      "12-Jul-23 18:10:19: tinterpol (linear) was applied to: sin_th_intpl\n",
      "12-Jul-23 18:10:19: tinterpol (linear) was applied to: cos_ph_intpl\n",
      "12-Jul-23 18:10:19: tinterpol (linear) was applied to: sin_ph_intpl\n",
      "12-Jul-23 18:10:19: tinterpol (linear) was applied to: erg_mgf_l2_mag_8sec_gsm_x_intpl\n",
      "12-Jul-23 18:10:19: tinterpol (linear) was applied to: erg_mgf_l2_mag_8sec_gsm_y_intpl\n",
      "12-Jul-23 18:10:19: tinterpol (linear) was applied to: erg_mgf_l2_mag_8sec_gsm_z_intpl\n",
      "12-Jul-23 18:10:38: tinterpol (linear) was applied to: n0_intpl\n",
      "12-Jul-23 18:11:03: Downloading remote index: https://ergsc.isee.nagoya-u.ac.jp/data/ergsc/satellite/erg/mgf/l2/8sec/2017/03/\n",
      "12-Jul-23 18:11:03: File is current: erg_data/satellite/erg/mgf/l2/8sec/2017/03/erg_mgf_l2_8sec_20170327_v03.04.cdf\n",
      "12-Jul-23 18:11:03: /home/jackkooki/Document/duct_analysis/.venv/lib/python3.10/site-packages/pytplot/importers/cdf_to_tplot.py:310: FutureWarning: elementwise comparison failed; returning scalar instead, but in the future will perform elementwise comparison\n",
      "  if ydata[ydata == var_atts[\"FILLVAL\"]].size != 0:\n",
      "\n",
      "12-Jul-23 18:11:03: /home/jackkooki/Document/duct_analysis/.venv/lib/python3.10/site-packages/pytplot/importers/cdf_to_tplot.py:316: FutureWarning: elementwise comparison failed; returning scalar instead, but in the future will perform elementwise comparison\n",
      "  ydata[ydata == var_atts[\"FILLVAL\"]] = 0\n",
      "\n",
      "12-Jul-23 18:11:04: Downloading remote index: https://ergsc.isee.nagoya-u.ac.jp/data/ergsc/satellite/erg/orb/def/2017/\n"
     ]
    },
    {
     "name": "stdout",
     "output_type": "stream",
     "text": [
      " \n",
      "**************************************************************************\n",
      "Exploration of Energization and Radiation in Geospace (ERG) Magnetic Field Experiment (MGF) Level 2 spin-averaged magnetic field data\n",
      "\n",
      "Information about ERG MGF\n",
      "\n",
      "PI:  Ayako Matsuoka\n",
      "Affiliation: Data Analysis Center for Geomagnetism and Space Magnetism, Graduate School of Science, Kyoto University, Kitashirakawa-Oiwake Cho, Sakyo-ku Kyoto 606-8502, Japan\n",
      "\n",
      "RoR of ERG project common: https://ergsc.isee.nagoya-u.ac.jp/data_info/rules_of_the_road.shtml.en\n",
      "RoR of MGF L2: https://ergsc.isee.nagoya-u.ac.jp/mw/index.php/ErgSat/Mgf\n",
      "Contact: erg_mgf_info at isee.nagoya-u.ac.jp\n",
      "**************************************************************************\n"
     ]
    },
    {
     "name": "stderr",
     "output_type": "stream",
     "text": [
      "12-Jul-23 18:11:04: File is current: erg_data/satellite/erg/orb/def/2017/erg_orb_l2_20170327_v03.cdf\n",
      "12-Jul-23 18:11:04: /home/jackkooki/Document/duct_analysis/.venv/lib/python3.10/site-packages/pytplot/importers/cdf_to_tplot.py:310: FutureWarning: elementwise comparison failed; returning scalar instead, but in the future will perform elementwise comparison\n",
      "  if ydata[ydata == var_atts[\"FILLVAL\"]].size != 0:\n",
      "\n",
      "12-Jul-23 18:11:04: /home/jackkooki/Document/duct_analysis/.venv/lib/python3.10/site-packages/pytplot/importers/cdf_to_tplot.py:316: FutureWarning: elementwise comparison failed; returning scalar instead, but in the future will perform elementwise comparison\n",
      "  ydata[ydata == var_atts[\"FILLVAL\"]] = 0\n",
      "\n"
     ]
    },
    {
     "name": "stdout",
     "output_type": "stream",
     "text": [
      " \n",
      "**************************************************************************\n",
      "Exploration of Energization and Radiation in Geospace (ERG) Level-2 orbit data\n",
      "\n",
      "Information about ERG orbit\n",
      "\n",
      "\n",
      "RoR of ERG project common: https://ergsc.isee.nagoya-u.ac.jp/data_info/rules_of_the_road.shtml.en\n",
      "\n",
      "Contact: erg-sc-core at isee.nagoya-u.ac.jp\n",
      "**************************************************************************\n"
     ]
    },
    {
     "name": "stderr",
     "output_type": "stream",
     "text": [
      "12-Jul-23 18:11:16: tinterpol (linear) was applied to: cos_th_intpl\n",
      "12-Jul-23 18:11:16: tinterpol (linear) was applied to: sin_th_intpl\n",
      "12-Jul-23 18:11:16: tinterpol (linear) was applied to: cos_ph_intpl\n",
      "12-Jul-23 18:11:16: tinterpol (linear) was applied to: sin_ph_intpl\n",
      "12-Jul-23 18:11:16: tinterpol (linear) was applied to: erg_mgf_l2_mag_8sec_gsm_x_intpl\n",
      "12-Jul-23 18:11:16: tinterpol (linear) was applied to: erg_mgf_l2_mag_8sec_gsm_y_intpl\n",
      "12-Jul-23 18:11:16: tinterpol (linear) was applied to: erg_mgf_l2_mag_8sec_gsm_z_intpl\n",
      "12-Jul-23 18:11:34: tinterpol (linear) was applied to: n0_intpl\n",
      "12-Jul-23 18:12:00: Downloading remote index: https://ergsc.isee.nagoya-u.ac.jp/data/ergsc/satellite/erg/mgf/l2/8sec/2017/03/\n",
      "12-Jul-23 18:12:00: File is current: erg_data/satellite/erg/mgf/l2/8sec/2017/03/erg_mgf_l2_8sec_20170327_v03.04.cdf\n",
      "12-Jul-23 18:12:00: /home/jackkooki/Document/duct_analysis/.venv/lib/python3.10/site-packages/pytplot/importers/cdf_to_tplot.py:310: FutureWarning: elementwise comparison failed; returning scalar instead, but in the future will perform elementwise comparison\n",
      "  if ydata[ydata == var_atts[\"FILLVAL\"]].size != 0:\n",
      "\n",
      "12-Jul-23 18:12:00: /home/jackkooki/Document/duct_analysis/.venv/lib/python3.10/site-packages/pytplot/importers/cdf_to_tplot.py:316: FutureWarning: elementwise comparison failed; returning scalar instead, but in the future will perform elementwise comparison\n",
      "  ydata[ydata == var_atts[\"FILLVAL\"]] = 0\n",
      "\n",
      "12-Jul-23 18:12:00: Downloading remote index: https://ergsc.isee.nagoya-u.ac.jp/data/ergsc/satellite/erg/orb/def/2017/\n",
      "12-Jul-23 18:12:00: File is current: erg_data/satellite/erg/orb/def/2017/erg_orb_l2_20170327_v03.cdf\n",
      "12-Jul-23 18:12:00: /home/jackkooki/Document/duct_analysis/.venv/lib/python3.10/site-packages/pytplot/importers/cdf_to_tplot.py:310: FutureWarning: elementwise comparison failed; returning scalar instead, but in the future will perform elementwise comparison\n",
      "  if ydata[ydata == var_atts[\"FILLVAL\"]].size != 0:\n",
      "\n",
      "12-Jul-23 18:12:00: /home/jackkooki/Document/duct_analysis/.venv/lib/python3.10/site-packages/pytplot/importers/cdf_to_tplot.py:316: FutureWarning: elementwise comparison failed; returning scalar instead, but in the future will perform elementwise comparison\n",
      "  ydata[ydata == var_atts[\"FILLVAL\"]] = 0\n",
      "\n"
     ]
    },
    {
     "name": "stdout",
     "output_type": "stream",
     "text": [
      " \n",
      "**************************************************************************\n",
      "Exploration of Energization and Radiation in Geospace (ERG) Magnetic Field Experiment (MGF) Level 2 spin-averaged magnetic field data\n",
      "\n",
      "Information about ERG MGF\n",
      "\n",
      "PI:  Ayako Matsuoka\n",
      "Affiliation: Data Analysis Center for Geomagnetism and Space Magnetism, Graduate School of Science, Kyoto University, Kitashirakawa-Oiwake Cho, Sakyo-ku Kyoto 606-8502, Japan\n",
      "\n",
      "RoR of ERG project common: https://ergsc.isee.nagoya-u.ac.jp/data_info/rules_of_the_road.shtml.en\n",
      "RoR of MGF L2: https://ergsc.isee.nagoya-u.ac.jp/mw/index.php/ErgSat/Mgf\n",
      "Contact: erg_mgf_info at isee.nagoya-u.ac.jp\n",
      "**************************************************************************\n",
      " \n",
      "**************************************************************************\n",
      "Exploration of Energization and Radiation in Geospace (ERG) Level-2 orbit data\n",
      "\n",
      "Information about ERG orbit\n",
      "\n",
      "\n",
      "RoR of ERG project common: https://ergsc.isee.nagoya-u.ac.jp/data_info/rules_of_the_road.shtml.en\n",
      "\n",
      "Contact: erg-sc-core at isee.nagoya-u.ac.jp\n",
      "**************************************************************************\n"
     ]
    },
    {
     "name": "stderr",
     "output_type": "stream",
     "text": [
      "12-Jul-23 18:12:12: tinterpol (linear) was applied to: cos_th_intpl\n",
      "12-Jul-23 18:12:12: tinterpol (linear) was applied to: sin_th_intpl\n",
      "12-Jul-23 18:12:12: tinterpol (linear) was applied to: cos_ph_intpl\n",
      "12-Jul-23 18:12:12: tinterpol (linear) was applied to: sin_ph_intpl\n",
      "12-Jul-23 18:12:12: tinterpol (linear) was applied to: erg_mgf_l2_mag_8sec_gsm_x_intpl\n",
      "12-Jul-23 18:12:12: tinterpol (linear) was applied to: erg_mgf_l2_mag_8sec_gsm_y_intpl\n",
      "12-Jul-23 18:12:12: tinterpol (linear) was applied to: erg_mgf_l2_mag_8sec_gsm_z_intpl\n",
      "12-Jul-23 18:12:30: tinterpol (linear) was applied to: n0_intpl\n",
      "12-Jul-23 18:12:56: Downloading remote index: https://ergsc.isee.nagoya-u.ac.jp/data/ergsc/satellite/erg/mgf/l2/8sec/2017/03/\n",
      "12-Jul-23 18:12:56: File is current: erg_data/satellite/erg/mgf/l2/8sec/2017/03/erg_mgf_l2_8sec_20170327_v03.04.cdf\n",
      "12-Jul-23 18:12:56: /home/jackkooki/Document/duct_analysis/.venv/lib/python3.10/site-packages/pytplot/importers/cdf_to_tplot.py:310: FutureWarning: elementwise comparison failed; returning scalar instead, but in the future will perform elementwise comparison\n",
      "  if ydata[ydata == var_atts[\"FILLVAL\"]].size != 0:\n",
      "\n",
      "12-Jul-23 18:12:56: /home/jackkooki/Document/duct_analysis/.venv/lib/python3.10/site-packages/pytplot/importers/cdf_to_tplot.py:316: FutureWarning: elementwise comparison failed; returning scalar instead, but in the future will perform elementwise comparison\n",
      "  ydata[ydata == var_atts[\"FILLVAL\"]] = 0\n",
      "\n",
      "12-Jul-23 18:12:56: Downloading remote index: https://ergsc.isee.nagoya-u.ac.jp/data/ergsc/satellite/erg/orb/def/2017/\n"
     ]
    },
    {
     "name": "stdout",
     "output_type": "stream",
     "text": [
      " \n",
      "**************************************************************************\n",
      "Exploration of Energization and Radiation in Geospace (ERG) Magnetic Field Experiment (MGF) Level 2 spin-averaged magnetic field data\n",
      "\n",
      "Information about ERG MGF\n",
      "\n",
      "PI:  Ayako Matsuoka\n",
      "Affiliation: Data Analysis Center for Geomagnetism and Space Magnetism, Graduate School of Science, Kyoto University, Kitashirakawa-Oiwake Cho, Sakyo-ku Kyoto 606-8502, Japan\n",
      "\n",
      "RoR of ERG project common: https://ergsc.isee.nagoya-u.ac.jp/data_info/rules_of_the_road.shtml.en\n",
      "RoR of MGF L2: https://ergsc.isee.nagoya-u.ac.jp/mw/index.php/ErgSat/Mgf\n",
      "Contact: erg_mgf_info at isee.nagoya-u.ac.jp\n",
      "**************************************************************************\n"
     ]
    },
    {
     "name": "stderr",
     "output_type": "stream",
     "text": [
      "12-Jul-23 18:12:56: File is current: erg_data/satellite/erg/orb/def/2017/erg_orb_l2_20170327_v03.cdf\n",
      "12-Jul-23 18:12:56: /home/jackkooki/Document/duct_analysis/.venv/lib/python3.10/site-packages/pytplot/importers/cdf_to_tplot.py:310: FutureWarning: elementwise comparison failed; returning scalar instead, but in the future will perform elementwise comparison\n",
      "  if ydata[ydata == var_atts[\"FILLVAL\"]].size != 0:\n",
      "\n",
      "12-Jul-23 18:12:56: /home/jackkooki/Document/duct_analysis/.venv/lib/python3.10/site-packages/pytplot/importers/cdf_to_tplot.py:316: FutureWarning: elementwise comparison failed; returning scalar instead, but in the future will perform elementwise comparison\n",
      "  ydata[ydata == var_atts[\"FILLVAL\"]] = 0\n",
      "\n"
     ]
    },
    {
     "name": "stdout",
     "output_type": "stream",
     "text": [
      " \n",
      "**************************************************************************\n",
      "Exploration of Energization and Radiation in Geospace (ERG) Level-2 orbit data\n",
      "\n",
      "Information about ERG orbit\n",
      "\n",
      "\n",
      "RoR of ERG project common: https://ergsc.isee.nagoya-u.ac.jp/data_info/rules_of_the_road.shtml.en\n",
      "\n",
      "Contact: erg-sc-core at isee.nagoya-u.ac.jp\n",
      "**************************************************************************\n"
     ]
    },
    {
     "name": "stderr",
     "output_type": "stream",
     "text": [
      "12-Jul-23 18:13:08: tinterpol (linear) was applied to: cos_th_intpl\n",
      "12-Jul-23 18:13:08: tinterpol (linear) was applied to: sin_th_intpl\n",
      "12-Jul-23 18:13:08: tinterpol (linear) was applied to: cos_ph_intpl\n",
      "12-Jul-23 18:13:08: tinterpol (linear) was applied to: sin_ph_intpl\n",
      "12-Jul-23 18:13:08: tinterpol (linear) was applied to: erg_mgf_l2_mag_8sec_gsm_x_intpl\n",
      "12-Jul-23 18:13:08: tinterpol (linear) was applied to: erg_mgf_l2_mag_8sec_gsm_y_intpl\n",
      "12-Jul-23 18:13:08: tinterpol (linear) was applied to: erg_mgf_l2_mag_8sec_gsm_z_intpl\n",
      "12-Jul-23 18:13:26: tinterpol (linear) was applied to: n0_intpl\n",
      "12-Jul-23 18:13:51: Downloading remote index: https://ergsc.isee.nagoya-u.ac.jp/data/ergsc/satellite/erg/mgf/l2/8sec/2017/03/\n",
      "12-Jul-23 18:13:52: File is current: erg_data/satellite/erg/mgf/l2/8sec/2017/03/erg_mgf_l2_8sec_20170327_v03.04.cdf\n",
      "12-Jul-23 18:13:52: /home/jackkooki/Document/duct_analysis/.venv/lib/python3.10/site-packages/pytplot/importers/cdf_to_tplot.py:310: FutureWarning: elementwise comparison failed; returning scalar instead, but in the future will perform elementwise comparison\n",
      "  if ydata[ydata == var_atts[\"FILLVAL\"]].size != 0:\n",
      "\n",
      "12-Jul-23 18:13:52: /home/jackkooki/Document/duct_analysis/.venv/lib/python3.10/site-packages/pytplot/importers/cdf_to_tplot.py:316: FutureWarning: elementwise comparison failed; returning scalar instead, but in the future will perform elementwise comparison\n",
      "  ydata[ydata == var_atts[\"FILLVAL\"]] = 0\n",
      "\n",
      "12-Jul-23 18:13:52: Downloading remote index: https://ergsc.isee.nagoya-u.ac.jp/data/ergsc/satellite/erg/orb/def/2017/\n",
      "12-Jul-23 18:13:52: File is current: erg_data/satellite/erg/orb/def/2017/erg_orb_l2_20170327_v03.cdf\n"
     ]
    },
    {
     "name": "stdout",
     "output_type": "stream",
     "text": [
      " \n",
      "**************************************************************************\n",
      "Exploration of Energization and Radiation in Geospace (ERG) Magnetic Field Experiment (MGF) Level 2 spin-averaged magnetic field data\n",
      "\n",
      "Information about ERG MGF\n",
      "\n",
      "PI:  Ayako Matsuoka\n",
      "Affiliation: Data Analysis Center for Geomagnetism and Space Magnetism, Graduate School of Science, Kyoto University, Kitashirakawa-Oiwake Cho, Sakyo-ku Kyoto 606-8502, Japan\n",
      "\n",
      "RoR of ERG project common: https://ergsc.isee.nagoya-u.ac.jp/data_info/rules_of_the_road.shtml.en\n",
      "RoR of MGF L2: https://ergsc.isee.nagoya-u.ac.jp/mw/index.php/ErgSat/Mgf\n",
      "Contact: erg_mgf_info at isee.nagoya-u.ac.jp\n",
      "**************************************************************************\n"
     ]
    },
    {
     "name": "stderr",
     "output_type": "stream",
     "text": [
      "12-Jul-23 18:13:52: /home/jackkooki/Document/duct_analysis/.venv/lib/python3.10/site-packages/pytplot/importers/cdf_to_tplot.py:310: FutureWarning: elementwise comparison failed; returning scalar instead, but in the future will perform elementwise comparison\n",
      "  if ydata[ydata == var_atts[\"FILLVAL\"]].size != 0:\n",
      "\n",
      "12-Jul-23 18:13:52: /home/jackkooki/Document/duct_analysis/.venv/lib/python3.10/site-packages/pytplot/importers/cdf_to_tplot.py:316: FutureWarning: elementwise comparison failed; returning scalar instead, but in the future will perform elementwise comparison\n",
      "  ydata[ydata == var_atts[\"FILLVAL\"]] = 0\n",
      "\n"
     ]
    },
    {
     "name": "stdout",
     "output_type": "stream",
     "text": [
      " \n",
      "**************************************************************************\n",
      "Exploration of Energization and Radiation in Geospace (ERG) Level-2 orbit data\n",
      "\n",
      "Information about ERG orbit\n",
      "\n",
      "\n",
      "RoR of ERG project common: https://ergsc.isee.nagoya-u.ac.jp/data_info/rules_of_the_road.shtml.en\n",
      "\n",
      "Contact: erg-sc-core at isee.nagoya-u.ac.jp\n",
      "**************************************************************************\n"
     ]
    },
    {
     "name": "stderr",
     "output_type": "stream",
     "text": [
      "12-Jul-23 18:14:04: tinterpol (linear) was applied to: cos_th_intpl\n",
      "12-Jul-23 18:14:04: tinterpol (linear) was applied to: sin_th_intpl\n",
      "12-Jul-23 18:14:04: tinterpol (linear) was applied to: cos_ph_intpl\n",
      "12-Jul-23 18:14:04: tinterpol (linear) was applied to: sin_ph_intpl\n",
      "12-Jul-23 18:14:04: tinterpol (linear) was applied to: erg_mgf_l2_mag_8sec_gsm_x_intpl\n",
      "12-Jul-23 18:14:04: tinterpol (linear) was applied to: erg_mgf_l2_mag_8sec_gsm_y_intpl\n",
      "12-Jul-23 18:14:04: tinterpol (linear) was applied to: erg_mgf_l2_mag_8sec_gsm_z_intpl\n",
      "12-Jul-23 18:14:22: tinterpol (linear) was applied to: n0_intpl\n",
      "12-Jul-23 18:14:47: Downloading remote index: https://ergsc.isee.nagoya-u.ac.jp/data/ergsc/satellite/erg/mgf/l2/8sec/2017/03/\n",
      "12-Jul-23 18:14:47: File is current: erg_data/satellite/erg/mgf/l2/8sec/2017/03/erg_mgf_l2_8sec_20170327_v03.04.cdf\n",
      "12-Jul-23 18:14:47: /home/jackkooki/Document/duct_analysis/.venv/lib/python3.10/site-packages/pytplot/importers/cdf_to_tplot.py:310: FutureWarning: elementwise comparison failed; returning scalar instead, but in the future will perform elementwise comparison\n",
      "  if ydata[ydata == var_atts[\"FILLVAL\"]].size != 0:\n",
      "\n",
      "12-Jul-23 18:14:47: /home/jackkooki/Document/duct_analysis/.venv/lib/python3.10/site-packages/pytplot/importers/cdf_to_tplot.py:316: FutureWarning: elementwise comparison failed; returning scalar instead, but in the future will perform elementwise comparison\n",
      "  ydata[ydata == var_atts[\"FILLVAL\"]] = 0\n",
      "\n",
      "12-Jul-23 18:14:48: Downloading remote index: https://ergsc.isee.nagoya-u.ac.jp/data/ergsc/satellite/erg/orb/def/2017/\n"
     ]
    },
    {
     "name": "stdout",
     "output_type": "stream",
     "text": [
      " \n",
      "**************************************************************************\n",
      "Exploration of Energization and Radiation in Geospace (ERG) Magnetic Field Experiment (MGF) Level 2 spin-averaged magnetic field data\n",
      "\n",
      "Information about ERG MGF\n",
      "\n",
      "PI:  Ayako Matsuoka\n",
      "Affiliation: Data Analysis Center for Geomagnetism and Space Magnetism, Graduate School of Science, Kyoto University, Kitashirakawa-Oiwake Cho, Sakyo-ku Kyoto 606-8502, Japan\n",
      "\n",
      "RoR of ERG project common: https://ergsc.isee.nagoya-u.ac.jp/data_info/rules_of_the_road.shtml.en\n",
      "RoR of MGF L2: https://ergsc.isee.nagoya-u.ac.jp/mw/index.php/ErgSat/Mgf\n",
      "Contact: erg_mgf_info at isee.nagoya-u.ac.jp\n",
      "**************************************************************************\n"
     ]
    },
    {
     "name": "stderr",
     "output_type": "stream",
     "text": [
      "12-Jul-23 18:14:48: File is current: erg_data/satellite/erg/orb/def/2017/erg_orb_l2_20170327_v03.cdf\n",
      "12-Jul-23 18:14:48: /home/jackkooki/Document/duct_analysis/.venv/lib/python3.10/site-packages/pytplot/importers/cdf_to_tplot.py:310: FutureWarning: elementwise comparison failed; returning scalar instead, but in the future will perform elementwise comparison\n",
      "  if ydata[ydata == var_atts[\"FILLVAL\"]].size != 0:\n",
      "\n",
      "12-Jul-23 18:14:48: /home/jackkooki/Document/duct_analysis/.venv/lib/python3.10/site-packages/pytplot/importers/cdf_to_tplot.py:316: FutureWarning: elementwise comparison failed; returning scalar instead, but in the future will perform elementwise comparison\n",
      "  ydata[ydata == var_atts[\"FILLVAL\"]] = 0\n",
      "\n"
     ]
    },
    {
     "name": "stdout",
     "output_type": "stream",
     "text": [
      " \n",
      "**************************************************************************\n",
      "Exploration of Energization and Radiation in Geospace (ERG) Level-2 orbit data\n",
      "\n",
      "Information about ERG orbit\n",
      "\n",
      "\n",
      "RoR of ERG project common: https://ergsc.isee.nagoya-u.ac.jp/data_info/rules_of_the_road.shtml.en\n",
      "\n",
      "Contact: erg-sc-core at isee.nagoya-u.ac.jp\n",
      "**************************************************************************\n"
     ]
    },
    {
     "name": "stderr",
     "output_type": "stream",
     "text": [
      "12-Jul-23 18:14:59: tinterpol (linear) was applied to: cos_th_intpl\n",
      "12-Jul-23 18:14:59: tinterpol (linear) was applied to: sin_th_intpl\n",
      "12-Jul-23 18:14:59: tinterpol (linear) was applied to: cos_ph_intpl\n",
      "12-Jul-23 18:14:59: tinterpol (linear) was applied to: sin_ph_intpl\n",
      "12-Jul-23 18:14:59: tinterpol (linear) was applied to: erg_mgf_l2_mag_8sec_gsm_x_intpl\n",
      "12-Jul-23 18:14:59: tinterpol (linear) was applied to: erg_mgf_l2_mag_8sec_gsm_y_intpl\n",
      "12-Jul-23 18:14:59: tinterpol (linear) was applied to: erg_mgf_l2_mag_8sec_gsm_z_intpl\n",
      "12-Jul-23 18:15:18: tinterpol (linear) was applied to: n0_intpl\n",
      "12-Jul-23 18:15:43: Downloading remote index: https://ergsc.isee.nagoya-u.ac.jp/data/ergsc/satellite/erg/mgf/l2/8sec/2017/03/\n",
      "12-Jul-23 18:15:43: File is current: erg_data/satellite/erg/mgf/l2/8sec/2017/03/erg_mgf_l2_8sec_20170327_v03.04.cdf\n",
      "12-Jul-23 18:15:43: /home/jackkooki/Document/duct_analysis/.venv/lib/python3.10/site-packages/pytplot/importers/cdf_to_tplot.py:310: FutureWarning: elementwise comparison failed; returning scalar instead, but in the future will perform elementwise comparison\n",
      "  if ydata[ydata == var_atts[\"FILLVAL\"]].size != 0:\n",
      "\n",
      "12-Jul-23 18:15:43: /home/jackkooki/Document/duct_analysis/.venv/lib/python3.10/site-packages/pytplot/importers/cdf_to_tplot.py:316: FutureWarning: elementwise comparison failed; returning scalar instead, but in the future will perform elementwise comparison\n",
      "  ydata[ydata == var_atts[\"FILLVAL\"]] = 0\n",
      "\n",
      "12-Jul-23 18:15:43: Downloading remote index: https://ergsc.isee.nagoya-u.ac.jp/data/ergsc/satellite/erg/orb/def/2017/\n",
      "12-Jul-23 18:15:43: File is current: erg_data/satellite/erg/orb/def/2017/erg_orb_l2_20170327_v03.cdf\n"
     ]
    },
    {
     "name": "stdout",
     "output_type": "stream",
     "text": [
      " \n",
      "**************************************************************************\n",
      "Exploration of Energization and Radiation in Geospace (ERG) Magnetic Field Experiment (MGF) Level 2 spin-averaged magnetic field data\n",
      "\n",
      "Information about ERG MGF\n",
      "\n",
      "PI:  Ayako Matsuoka\n",
      "Affiliation: Data Analysis Center for Geomagnetism and Space Magnetism, Graduate School of Science, Kyoto University, Kitashirakawa-Oiwake Cho, Sakyo-ku Kyoto 606-8502, Japan\n",
      "\n",
      "RoR of ERG project common: https://ergsc.isee.nagoya-u.ac.jp/data_info/rules_of_the_road.shtml.en\n",
      "RoR of MGF L2: https://ergsc.isee.nagoya-u.ac.jp/mw/index.php/ErgSat/Mgf\n",
      "Contact: erg_mgf_info at isee.nagoya-u.ac.jp\n",
      "**************************************************************************\n"
     ]
    },
    {
     "name": "stderr",
     "output_type": "stream",
     "text": [
      "12-Jul-23 18:15:43: /home/jackkooki/Document/duct_analysis/.venv/lib/python3.10/site-packages/pytplot/importers/cdf_to_tplot.py:310: FutureWarning: elementwise comparison failed; returning scalar instead, but in the future will perform elementwise comparison\n",
      "  if ydata[ydata == var_atts[\"FILLVAL\"]].size != 0:\n",
      "\n",
      "12-Jul-23 18:15:43: /home/jackkooki/Document/duct_analysis/.venv/lib/python3.10/site-packages/pytplot/importers/cdf_to_tplot.py:316: FutureWarning: elementwise comparison failed; returning scalar instead, but in the future will perform elementwise comparison\n",
      "  ydata[ydata == var_atts[\"FILLVAL\"]] = 0\n",
      "\n"
     ]
    },
    {
     "name": "stdout",
     "output_type": "stream",
     "text": [
      " \n",
      "**************************************************************************\n",
      "Exploration of Energization and Radiation in Geospace (ERG) Level-2 orbit data\n",
      "\n",
      "Information about ERG orbit\n",
      "\n",
      "\n",
      "RoR of ERG project common: https://ergsc.isee.nagoya-u.ac.jp/data_info/rules_of_the_road.shtml.en\n",
      "\n",
      "Contact: erg-sc-core at isee.nagoya-u.ac.jp\n",
      "**************************************************************************\n"
     ]
    },
    {
     "name": "stderr",
     "output_type": "stream",
     "text": [
      "12-Jul-23 18:15:55: tinterpol (linear) was applied to: cos_th_intpl\n",
      "12-Jul-23 18:15:55: tinterpol (linear) was applied to: sin_th_intpl\n",
      "12-Jul-23 18:15:55: tinterpol (linear) was applied to: cos_ph_intpl\n",
      "12-Jul-23 18:15:55: tinterpol (linear) was applied to: sin_ph_intpl\n",
      "12-Jul-23 18:15:55: tinterpol (linear) was applied to: erg_mgf_l2_mag_8sec_gsm_x_intpl\n",
      "12-Jul-23 18:15:55: tinterpol (linear) was applied to: erg_mgf_l2_mag_8sec_gsm_y_intpl\n",
      "12-Jul-23 18:15:55: tinterpol (linear) was applied to: erg_mgf_l2_mag_8sec_gsm_z_intpl\n",
      "12-Jul-23 18:16:14: tinterpol (linear) was applied to: n0_intpl\n",
      "12-Jul-23 18:16:39: Downloading remote index: https://ergsc.isee.nagoya-u.ac.jp/data/ergsc/satellite/erg/mgf/l2/8sec/2017/03/\n",
      "12-Jul-23 18:16:40: File is current: erg_data/satellite/erg/mgf/l2/8sec/2017/03/erg_mgf_l2_8sec_20170327_v03.04.cdf\n",
      "12-Jul-23 18:16:40: /home/jackkooki/Document/duct_analysis/.venv/lib/python3.10/site-packages/pytplot/importers/cdf_to_tplot.py:310: FutureWarning: elementwise comparison failed; returning scalar instead, but in the future will perform elementwise comparison\n",
      "  if ydata[ydata == var_atts[\"FILLVAL\"]].size != 0:\n",
      "\n",
      "12-Jul-23 18:16:40: /home/jackkooki/Document/duct_analysis/.venv/lib/python3.10/site-packages/pytplot/importers/cdf_to_tplot.py:316: FutureWarning: elementwise comparison failed; returning scalar instead, but in the future will perform elementwise comparison\n",
      "  ydata[ydata == var_atts[\"FILLVAL\"]] = 0\n",
      "\n",
      "12-Jul-23 18:16:40: Downloading remote index: https://ergsc.isee.nagoya-u.ac.jp/data/ergsc/satellite/erg/orb/def/2017/\n"
     ]
    },
    {
     "name": "stdout",
     "output_type": "stream",
     "text": [
      " \n",
      "**************************************************************************\n",
      "Exploration of Energization and Radiation in Geospace (ERG) Magnetic Field Experiment (MGF) Level 2 spin-averaged magnetic field data\n",
      "\n",
      "Information about ERG MGF\n",
      "\n",
      "PI:  Ayako Matsuoka\n",
      "Affiliation: Data Analysis Center for Geomagnetism and Space Magnetism, Graduate School of Science, Kyoto University, Kitashirakawa-Oiwake Cho, Sakyo-ku Kyoto 606-8502, Japan\n",
      "\n",
      "RoR of ERG project common: https://ergsc.isee.nagoya-u.ac.jp/data_info/rules_of_the_road.shtml.en\n",
      "RoR of MGF L2: https://ergsc.isee.nagoya-u.ac.jp/mw/index.php/ErgSat/Mgf\n",
      "Contact: erg_mgf_info at isee.nagoya-u.ac.jp\n",
      "**************************************************************************\n"
     ]
    },
    {
     "name": "stderr",
     "output_type": "stream",
     "text": [
      "12-Jul-23 18:16:41: File is current: erg_data/satellite/erg/orb/def/2017/erg_orb_l2_20170327_v03.cdf\n",
      "12-Jul-23 18:16:41: /home/jackkooki/Document/duct_analysis/.venv/lib/python3.10/site-packages/pytplot/importers/cdf_to_tplot.py:310: FutureWarning: elementwise comparison failed; returning scalar instead, but in the future will perform elementwise comparison\n",
      "  if ydata[ydata == var_atts[\"FILLVAL\"]].size != 0:\n",
      "\n",
      "12-Jul-23 18:16:41: /home/jackkooki/Document/duct_analysis/.venv/lib/python3.10/site-packages/pytplot/importers/cdf_to_tplot.py:316: FutureWarning: elementwise comparison failed; returning scalar instead, but in the future will perform elementwise comparison\n",
      "  ydata[ydata == var_atts[\"FILLVAL\"]] = 0\n",
      "\n"
     ]
    },
    {
     "name": "stdout",
     "output_type": "stream",
     "text": [
      " \n",
      "**************************************************************************\n",
      "Exploration of Energization and Radiation in Geospace (ERG) Level-2 orbit data\n",
      "\n",
      "Information about ERG orbit\n",
      "\n",
      "\n",
      "RoR of ERG project common: https://ergsc.isee.nagoya-u.ac.jp/data_info/rules_of_the_road.shtml.en\n",
      "\n",
      "Contact: erg-sc-core at isee.nagoya-u.ac.jp\n",
      "**************************************************************************\n"
     ]
    },
    {
     "name": "stderr",
     "output_type": "stream",
     "text": [
      "12-Jul-23 18:16:52: tinterpol (linear) was applied to: cos_th_intpl\n",
      "12-Jul-23 18:16:52: tinterpol (linear) was applied to: sin_th_intpl\n",
      "12-Jul-23 18:16:52: tinterpol (linear) was applied to: cos_ph_intpl\n",
      "12-Jul-23 18:16:52: tinterpol (linear) was applied to: sin_ph_intpl\n",
      "12-Jul-23 18:16:52: tinterpol (linear) was applied to: erg_mgf_l2_mag_8sec_gsm_x_intpl\n",
      "12-Jul-23 18:16:52: tinterpol (linear) was applied to: erg_mgf_l2_mag_8sec_gsm_y_intpl\n",
      "12-Jul-23 18:16:52: tinterpol (linear) was applied to: erg_mgf_l2_mag_8sec_gsm_z_intpl\n",
      "12-Jul-23 18:17:11: tinterpol (linear) was applied to: n0_intpl\n"
     ]
    }
   ],
   "source": [
    "beta = [0.1, 0.2, 0.3, 0.4, 0.5, 0.6,0.7, 0.8, 0.9, 1.0]\n",
    "tr =  ['2017-03-27 21:30:00', '2017-03-27 22:00:00']\n",
    "'delta_z', 'delta_xy', 'erg_mgf_l2_magt_8sec','B0' == cb.compressional_B(tr)\n",
    "gamma = 5/3\n",
    "f = 400\n",
    "\n",
    "\n",
    "for i in range(len(beta)):\n",
    "    mu = calc_n1_fast(gamma, beta[i], tr, f)\n",
    "    pytplot.store_data('mu_'+str(beta[i]), data={'x':pytplot.data_quants['B0']['time'], 'y':mu})\n",
    "\n",
    "\n",
    "\n",
    "pytplot.store_data('mu_all', data = ['mu_'+str(beta[i]) for i in range(len(beta))])\n",
    "pytplot.options('mu_all', opt_dict={'ytitle': 'refractive index','legend_names': [str(beta[i]) for i in range(len(beta))], 'color': ['r', 'g', 'b', 'c', 'm', 'y', 'k', 'r', 'g']})\n"
   ]
  },
  {
   "cell_type": "code",
   "execution_count": 25,
   "metadata": {},
   "outputs": [
    {
     "name": "stderr",
     "output_type": "stream",
     "text": [
      "12-Jul-23 18:17:36: Incorrect number of line colors specified; expected: 1; got: 9\n"
     ]
    },
    {
     "data": {
      "image/png": "[encoded data removed]",
      "text/plain": [
       "<Figure size 1200x500 with 1 Axes>"
      ]
     },
     "metadata": {},
     "output_type": "display_data"
    }
   ],
   "source": [
    "pytplot.xlim(tr[0], tr[1])\n",
    "pytplot.tplot(['mu_all'])"
   ]
  },
  {
   "cell_type": "code",
   "execution_count": 2,
   "metadata": {},
   "outputs": [],
   "source": [
    "def calc_n1_fast1(gamma, beta, tr, f):\n",
    "    'delta_z', 'delta_xy', 'erg_mgf_l2_magt_8sec','B0' == cb.compressional_B(tr)\n",
    "    B0 = pytplot.data_quants['B0']*1e-9\n",
    "    B1 = pytplot.data_quants['delta_z']*1e-9\n",
    "    theta = 30*np.pi/180\n",
    "    n0 = 2*1e6\n",
    "    gb = gamma*beta\n",
    "    a = gb\n",
    "    A = 1-a/2+((1+a/2)**2-2*a*np.cos(theta))**(1/2)\n",
    "    n1 = 2*n0*B1/B0/A\n",
    "    N = n0+n1\n",
    "    B = B0+B1\n",
    "    mu = np.zeros(len(B['time']))\n",
    "    for i in range(len(B['time'])):\n",
    "        mu[i] = cr.calc_RI(N[i], B[i], f)\n",
    "    return mu"
   ]
  },
  {
   "cell_type": "code",
   "execution_count": 3,
   "metadata": {},
   "outputs": [
    {
     "name": "stderr",
     "output_type": "stream",
     "text": [
      "12-Jul-23 18:47:40: Downloading remote index: https://ergsc.isee.nagoya-u.ac.jp/data/ergsc/satellite/erg/mgf/l2/8sec/2017/03/\n",
      "12-Jul-23 18:47:40: File is current: erg_data/satellite/erg/mgf/l2/8sec/2017/03/erg_mgf_l2_8sec_20170327_v03.04.cdf\n",
      "12-Jul-23 18:47:40: /home/jackkooki/Document/duct_analysis/.venv/lib/python3.10/site-packages/pytplot/importers/cdf_to_tplot.py:310: FutureWarning: elementwise comparison failed; returning scalar instead, but in the future will perform elementwise comparison\n",
      "  if ydata[ydata == var_atts[\"FILLVAL\"]].size != 0:\n",
      "\n",
      "12-Jul-23 18:47:40: /home/jackkooki/Document/duct_analysis/.venv/lib/python3.10/site-packages/pytplot/importers/cdf_to_tplot.py:316: FutureWarning: elementwise comparison failed; returning scalar instead, but in the future will perform elementwise comparison\n",
      "  ydata[ydata == var_atts[\"FILLVAL\"]] = 0\n",
      "\n",
      "12-Jul-23 18:47:40: Downloading remote index: https://ergsc.isee.nagoya-u.ac.jp/data/ergsc/satellite/erg/orb/def/2017/\n"
     ]
    },
    {
     "name": "stdout",
     "output_type": "stream",
     "text": [
      " \n",
      "**************************************************************************\n",
      "Exploration of Energization and Radiation in Geospace (ERG) Magnetic Field Experiment (MGF) Level 2 spin-averaged magnetic field data\n",
      "\n",
      "Information about ERG MGF\n",
      "\n",
      "PI:  Ayako Matsuoka\n",
      "Affiliation: Data Analysis Center for Geomagnetism and Space Magnetism, Graduate School of Science, Kyoto University, Kitashirakawa-Oiwake Cho, Sakyo-ku Kyoto 606-8502, Japan\n",
      "\n",
      "RoR of ERG project common: https://ergsc.isee.nagoya-u.ac.jp/data_info/rules_of_the_road.shtml.en\n",
      "RoR of MGF L2: https://ergsc.isee.nagoya-u.ac.jp/mw/index.php/ErgSat/Mgf\n",
      "Contact: erg_mgf_info at isee.nagoya-u.ac.jp\n",
      "**************************************************************************\n"
     ]
    },
    {
     "name": "stderr",
     "output_type": "stream",
     "text": [
      "12-Jul-23 18:47:41: File is current: erg_data/satellite/erg/orb/def/2017/erg_orb_l2_20170327_v03.cdf\n",
      "12-Jul-23 18:47:41: /home/jackkooki/Document/duct_analysis/.venv/lib/python3.10/site-packages/pytplot/importers/cdf_to_tplot.py:310: FutureWarning: elementwise comparison failed; returning scalar instead, but in the future will perform elementwise comparison\n",
      "  if ydata[ydata == var_atts[\"FILLVAL\"]].size != 0:\n",
      "\n",
      "12-Jul-23 18:47:41: /home/jackkooki/Document/duct_analysis/.venv/lib/python3.10/site-packages/pytplot/importers/cdf_to_tplot.py:316: FutureWarning: elementwise comparison failed; returning scalar instead, but in the future will perform elementwise comparison\n",
      "  ydata[ydata == var_atts[\"FILLVAL\"]] = 0\n",
      "\n"
     ]
    },
    {
     "name": "stdout",
     "output_type": "stream",
     "text": [
      " \n",
      "**************************************************************************\n",
      "Exploration of Energization and Radiation in Geospace (ERG) Level-2 orbit data\n",
      "\n",
      "Information about ERG orbit\n",
      "\n",
      "\n",
      "RoR of ERG project common: https://ergsc.isee.nagoya-u.ac.jp/data_info/rules_of_the_road.shtml.en\n",
      "\n",
      "Contact: erg-sc-core at isee.nagoya-u.ac.jp\n",
      "**************************************************************************\n"
     ]
    },
    {
     "name": "stderr",
     "output_type": "stream",
     "text": [
      "12-Jul-23 18:47:52: tinterpol (linear) was applied to: cos_th_intpl\n",
      "12-Jul-23 18:47:52: tinterpol (linear) was applied to: sin_th_intpl\n",
      "12-Jul-23 18:47:52: tinterpol (linear) was applied to: cos_ph_intpl\n",
      "12-Jul-23 18:47:52: tinterpol (linear) was applied to: sin_ph_intpl\n",
      "12-Jul-23 18:47:52: tinterpol (linear) was applied to: erg_mgf_l2_mag_8sec_gsm_x_intpl\n",
      "12-Jul-23 18:47:52: tinterpol (linear) was applied to: erg_mgf_l2_mag_8sec_gsm_y_intpl\n",
      "12-Jul-23 18:47:52: tinterpol (linear) was applied to: erg_mgf_l2_mag_8sec_gsm_z_intpl\n",
      "12-Jul-23 18:48:11: Downloading remote index: https://ergsc.isee.nagoya-u.ac.jp/data/ergsc/satellite/erg/mgf/l2/8sec/2017/03/\n",
      "12-Jul-23 18:48:11: File is current: erg_data/satellite/erg/mgf/l2/8sec/2017/03/erg_mgf_l2_8sec_20170327_v03.04.cdf\n",
      "12-Jul-23 18:48:11: /home/jackkooki/Document/duct_analysis/.venv/lib/python3.10/site-packages/pytplot/importers/cdf_to_tplot.py:310: FutureWarning: elementwise comparison failed; returning scalar instead, but in the future will perform elementwise comparison\n",
      "  if ydata[ydata == var_atts[\"FILLVAL\"]].size != 0:\n",
      "\n",
      "12-Jul-23 18:48:11: /home/jackkooki/Document/duct_analysis/.venv/lib/python3.10/site-packages/pytplot/importers/cdf_to_tplot.py:316: FutureWarning: elementwise comparison failed; returning scalar instead, but in the future will perform elementwise comparison\n",
      "  ydata[ydata == var_atts[\"FILLVAL\"]] = 0\n",
      "\n",
      "12-Jul-23 18:48:11: Downloading remote index: https://ergsc.isee.nagoya-u.ac.jp/data/ergsc/satellite/erg/orb/def/2017/\n",
      "12-Jul-23 18:48:11: File is current: erg_data/satellite/erg/orb/def/2017/erg_orb_l2_20170327_v03.cdf\n",
      "12-Jul-23 18:48:11: /home/jackkooki/Document/duct_analysis/.venv/lib/python3.10/site-packages/pytplot/importers/cdf_to_tplot.py:310: FutureWarning: elementwise comparison failed; returning scalar instead, but in the future will perform elementwise comparison\n",
      "  if ydata[ydata == var_atts[\"FILLVAL\"]].size != 0:\n",
      "\n"
     ]
    },
    {
     "name": "stdout",
     "output_type": "stream",
     "text": [
      " \n",
      "**************************************************************************\n",
      "Exploration of Energization and Radiation in Geospace (ERG) Magnetic Field Experiment (MGF) Level 2 spin-averaged magnetic field data\n",
      "\n",
      "Information about ERG MGF\n",
      "\n",
      "PI:  Ayako Matsuoka\n",
      "Affiliation: Data Analysis Center for Geomagnetism and Space Magnetism, Graduate School of Science, Kyoto University, Kitashirakawa-Oiwake Cho, Sakyo-ku Kyoto 606-8502, Japan\n",
      "\n",
      "RoR of ERG project common: https://ergsc.isee.nagoya-u.ac.jp/data_info/rules_of_the_road.shtml.en\n",
      "RoR of MGF L2: https://ergsc.isee.nagoya-u.ac.jp/mw/index.php/ErgSat/Mgf\n",
      "Contact: erg_mgf_info at isee.nagoya-u.ac.jp\n",
      "**************************************************************************\n"
     ]
    },
    {
     "name": "stderr",
     "output_type": "stream",
     "text": [
      "12-Jul-23 18:48:11: /home/jackkooki/Document/duct_analysis/.venv/lib/python3.10/site-packages/pytplot/importers/cdf_to_tplot.py:316: FutureWarning: elementwise comparison failed; returning scalar instead, but in the future will perform elementwise comparison\n",
      "  ydata[ydata == var_atts[\"FILLVAL\"]] = 0\n",
      "\n"
     ]
    },
    {
     "name": "stdout",
     "output_type": "stream",
     "text": [
      " \n",
      "**************************************************************************\n",
      "Exploration of Energization and Radiation in Geospace (ERG) Level-2 orbit data\n",
      "\n",
      "Information about ERG orbit\n",
      "\n",
      "\n",
      "RoR of ERG project common: https://ergsc.isee.nagoya-u.ac.jp/data_info/rules_of_the_road.shtml.en\n",
      "\n",
      "Contact: erg-sc-core at isee.nagoya-u.ac.jp\n",
      "**************************************************************************\n"
     ]
    },
    {
     "name": "stderr",
     "output_type": "stream",
     "text": [
      "12-Jul-23 18:48:23: tinterpol (linear) was applied to: cos_th_intpl\n",
      "12-Jul-23 18:48:23: tinterpol (linear) was applied to: sin_th_intpl\n",
      "12-Jul-23 18:48:23: tinterpol (linear) was applied to: cos_ph_intpl\n",
      "12-Jul-23 18:48:23: tinterpol (linear) was applied to: sin_ph_intpl\n",
      "12-Jul-23 18:48:23: tinterpol (linear) was applied to: erg_mgf_l2_mag_8sec_gsm_x_intpl\n",
      "12-Jul-23 18:48:23: tinterpol (linear) was applied to: erg_mgf_l2_mag_8sec_gsm_y_intpl\n",
      "12-Jul-23 18:48:23: tinterpol (linear) was applied to: erg_mgf_l2_mag_8sec_gsm_z_intpl\n",
      "12-Jul-23 18:49:06: Downloading remote index: https://ergsc.isee.nagoya-u.ac.jp/data/ergsc/satellite/erg/mgf/l2/8sec/2017/03/\n",
      "12-Jul-23 18:49:06: File is current: erg_data/satellite/erg/mgf/l2/8sec/2017/03/erg_mgf_l2_8sec_20170327_v03.04.cdf\n",
      "12-Jul-23 18:49:06: /home/jackkooki/Document/duct_analysis/.venv/lib/python3.10/site-packages/pytplot/importers/cdf_to_tplot.py:310: FutureWarning: elementwise comparison failed; returning scalar instead, but in the future will perform elementwise comparison\n",
      "  if ydata[ydata == var_atts[\"FILLVAL\"]].size != 0:\n",
      "\n",
      "12-Jul-23 18:49:06: /home/jackkooki/Document/duct_analysis/.venv/lib/python3.10/site-packages/pytplot/importers/cdf_to_tplot.py:316: FutureWarning: elementwise comparison failed; returning scalar instead, but in the future will perform elementwise comparison\n",
      "  ydata[ydata == var_atts[\"FILLVAL\"]] = 0\n",
      "\n",
      "12-Jul-23 18:49:06: Downloading remote index: https://ergsc.isee.nagoya-u.ac.jp/data/ergsc/satellite/erg/orb/def/2017/\n"
     ]
    },
    {
     "name": "stdout",
     "output_type": "stream",
     "text": [
      " \n",
      "**************************************************************************\n",
      "Exploration of Energization and Radiation in Geospace (ERG) Magnetic Field Experiment (MGF) Level 2 spin-averaged magnetic field data\n",
      "\n",
      "Information about ERG MGF\n",
      "\n",
      "PI:  Ayako Matsuoka\n",
      "Affiliation: Data Analysis Center for Geomagnetism and Space Magnetism, Graduate School of Science, Kyoto University, Kitashirakawa-Oiwake Cho, Sakyo-ku Kyoto 606-8502, Japan\n",
      "\n",
      "RoR of ERG project common: https://ergsc.isee.nagoya-u.ac.jp/data_info/rules_of_the_road.shtml.en\n",
      "RoR of MGF L2: https://ergsc.isee.nagoya-u.ac.jp/mw/index.php/ErgSat/Mgf\n",
      "Contact: erg_mgf_info at isee.nagoya-u.ac.jp\n",
      "**************************************************************************\n"
     ]
    },
    {
     "name": "stderr",
     "output_type": "stream",
     "text": [
      "12-Jul-23 18:49:07: File is current: erg_data/satellite/erg/orb/def/2017/erg_orb_l2_20170327_v03.cdf\n",
      "12-Jul-23 18:49:07: /home/jackkooki/Document/duct_analysis/.venv/lib/python3.10/site-packages/pytplot/importers/cdf_to_tplot.py:310: FutureWarning: elementwise comparison failed; returning scalar instead, but in the future will perform elementwise comparison\n",
      "  if ydata[ydata == var_atts[\"FILLVAL\"]].size != 0:\n",
      "\n",
      "12-Jul-23 18:49:07: /home/jackkooki/Document/duct_analysis/.venv/lib/python3.10/site-packages/pytplot/importers/cdf_to_tplot.py:316: FutureWarning: elementwise comparison failed; returning scalar instead, but in the future will perform elementwise comparison\n",
      "  ydata[ydata == var_atts[\"FILLVAL\"]] = 0\n",
      "\n"
     ]
    },
    {
     "name": "stdout",
     "output_type": "stream",
     "text": [
      " \n",
      "**************************************************************************\n",
      "Exploration of Energization and Radiation in Geospace (ERG) Level-2 orbit data\n",
      "\n",
      "Information about ERG orbit\n",
      "\n",
      "\n",
      "RoR of ERG project common: https://ergsc.isee.nagoya-u.ac.jp/data_info/rules_of_the_road.shtml.en\n",
      "\n",
      "Contact: erg-sc-core at isee.nagoya-u.ac.jp\n",
      "**************************************************************************\n"
     ]
    },
    {
     "name": "stderr",
     "output_type": "stream",
     "text": [
      "12-Jul-23 18:49:18: tinterpol (linear) was applied to: cos_th_intpl\n",
      "12-Jul-23 18:49:18: tinterpol (linear) was applied to: sin_th_intpl\n",
      "12-Jul-23 18:49:18: tinterpol (linear) was applied to: cos_ph_intpl\n",
      "12-Jul-23 18:49:18: tinterpol (linear) was applied to: sin_ph_intpl\n",
      "12-Jul-23 18:49:18: tinterpol (linear) was applied to: erg_mgf_l2_mag_8sec_gsm_x_intpl\n",
      "12-Jul-23 18:49:18: tinterpol (linear) was applied to: erg_mgf_l2_mag_8sec_gsm_y_intpl\n",
      "12-Jul-23 18:49:18: tinterpol (linear) was applied to: erg_mgf_l2_mag_8sec_gsm_z_intpl\n",
      "12-Jul-23 18:50:01: Downloading remote index: https://ergsc.isee.nagoya-u.ac.jp/data/ergsc/satellite/erg/mgf/l2/8sec/2017/03/\n",
      "12-Jul-23 18:50:01: File is current: erg_data/satellite/erg/mgf/l2/8sec/2017/03/erg_mgf_l2_8sec_20170327_v03.04.cdf\n",
      "12-Jul-23 18:50:01: /home/jackkooki/Document/duct_analysis/.venv/lib/python3.10/site-packages/pytplot/importers/cdf_to_tplot.py:310: FutureWarning: elementwise comparison failed; returning scalar instead, but in the future will perform elementwise comparison\n",
      "  if ydata[ydata == var_atts[\"FILLVAL\"]].size != 0:\n",
      "\n",
      "12-Jul-23 18:50:01: /home/jackkooki/Document/duct_analysis/.venv/lib/python3.10/site-packages/pytplot/importers/cdf_to_tplot.py:316: FutureWarning: elementwise comparison failed; returning scalar instead, but in the future will perform elementwise comparison\n",
      "  ydata[ydata == var_atts[\"FILLVAL\"]] = 0\n",
      "\n",
      "12-Jul-23 18:50:02: Downloading remote index: https://ergsc.isee.nagoya-u.ac.jp/data/ergsc/satellite/erg/orb/def/2017/\n",
      "12-Jul-23 18:50:02: File is current: erg_data/satellite/erg/orb/def/2017/erg_orb_l2_20170327_v03.cdf\n",
      "12-Jul-23 18:50:02: /home/jackkooki/Document/duct_analysis/.venv/lib/python3.10/site-packages/pytplot/importers/cdf_to_tplot.py:310: FutureWarning: elementwise comparison failed; returning scalar instead, but in the future will perform elementwise comparison\n",
      "  if ydata[ydata == var_atts[\"FILLVAL\"]].size != 0:\n",
      "\n"
     ]
    },
    {
     "name": "stdout",
     "output_type": "stream",
     "text": [
      " \n",
      "**************************************************************************\n",
      "Exploration of Energization and Radiation in Geospace (ERG) Magnetic Field Experiment (MGF) Level 2 spin-averaged magnetic field data\n",
      "\n",
      "Information about ERG MGF\n",
      "\n",
      "PI:  Ayako Matsuoka\n",
      "Affiliation: Data Analysis Center for Geomagnetism and Space Magnetism, Graduate School of Science, Kyoto University, Kitashirakawa-Oiwake Cho, Sakyo-ku Kyoto 606-8502, Japan\n",
      "\n",
      "RoR of ERG project common: https://ergsc.isee.nagoya-u.ac.jp/data_info/rules_of_the_road.shtml.en\n",
      "RoR of MGF L2: https://ergsc.isee.nagoya-u.ac.jp/mw/index.php/ErgSat/Mgf\n",
      "Contact: erg_mgf_info at isee.nagoya-u.ac.jp\n",
      "**************************************************************************\n"
     ]
    },
    {
     "name": "stderr",
     "output_type": "stream",
     "text": [
      "12-Jul-23 18:50:02: /home/jackkooki/Document/duct_analysis/.venv/lib/python3.10/site-packages/pytplot/importers/cdf_to_tplot.py:316: FutureWarning: elementwise comparison failed; returning scalar instead, but in the future will perform elementwise comparison\n",
      "  ydata[ydata == var_atts[\"FILLVAL\"]] = 0\n",
      "\n"
     ]
    },
    {
     "name": "stdout",
     "output_type": "stream",
     "text": [
      " \n",
      "**************************************************************************\n",
      "Exploration of Energization and Radiation in Geospace (ERG) Level-2 orbit data\n",
      "\n",
      "Information about ERG orbit\n",
      "\n",
      "\n",
      "RoR of ERG project common: https://ergsc.isee.nagoya-u.ac.jp/data_info/rules_of_the_road.shtml.en\n",
      "\n",
      "Contact: erg-sc-core at isee.nagoya-u.ac.jp\n",
      "**************************************************************************\n"
     ]
    },
    {
     "name": "stderr",
     "output_type": "stream",
     "text": [
      "12-Jul-23 18:50:13: tinterpol (linear) was applied to: cos_th_intpl\n",
      "12-Jul-23 18:50:13: tinterpol (linear) was applied to: sin_th_intpl\n",
      "12-Jul-23 18:50:13: tinterpol (linear) was applied to: cos_ph_intpl\n",
      "12-Jul-23 18:50:13: tinterpol (linear) was applied to: sin_ph_intpl\n",
      "12-Jul-23 18:50:13: tinterpol (linear) was applied to: erg_mgf_l2_mag_8sec_gsm_x_intpl\n",
      "12-Jul-23 18:50:13: tinterpol (linear) was applied to: erg_mgf_l2_mag_8sec_gsm_y_intpl\n",
      "12-Jul-23 18:50:13: tinterpol (linear) was applied to: erg_mgf_l2_mag_8sec_gsm_z_intpl\n",
      "12-Jul-23 18:50:57: Downloading remote index: https://ergsc.isee.nagoya-u.ac.jp/data/ergsc/satellite/erg/mgf/l2/8sec/2017/03/\n",
      "12-Jul-23 18:50:57: File is current: erg_data/satellite/erg/mgf/l2/8sec/2017/03/erg_mgf_l2_8sec_20170327_v03.04.cdf\n",
      "12-Jul-23 18:50:57: /home/jackkooki/Document/duct_analysis/.venv/lib/python3.10/site-packages/pytplot/importers/cdf_to_tplot.py:310: FutureWarning: elementwise comparison failed; returning scalar instead, but in the future will perform elementwise comparison\n",
      "  if ydata[ydata == var_atts[\"FILLVAL\"]].size != 0:\n",
      "\n",
      "12-Jul-23 18:50:57: /home/jackkooki/Document/duct_analysis/.venv/lib/python3.10/site-packages/pytplot/importers/cdf_to_tplot.py:316: FutureWarning: elementwise comparison failed; returning scalar instead, but in the future will perform elementwise comparison\n",
      "  ydata[ydata == var_atts[\"FILLVAL\"]] = 0\n",
      "\n",
      "12-Jul-23 18:50:58: Downloading remote index: https://ergsc.isee.nagoya-u.ac.jp/data/ergsc/satellite/erg/orb/def/2017/\n"
     ]
    },
    {
     "name": "stdout",
     "output_type": "stream",
     "text": [
      " \n",
      "**************************************************************************\n",
      "Exploration of Energization and Radiation in Geospace (ERG) Magnetic Field Experiment (MGF) Level 2 spin-averaged magnetic field data\n",
      "\n",
      "Information about ERG MGF\n",
      "\n",
      "PI:  Ayako Matsuoka\n",
      "Affiliation: Data Analysis Center for Geomagnetism and Space Magnetism, Graduate School of Science, Kyoto University, Kitashirakawa-Oiwake Cho, Sakyo-ku Kyoto 606-8502, Japan\n",
      "\n",
      "RoR of ERG project common: https://ergsc.isee.nagoya-u.ac.jp/data_info/rules_of_the_road.shtml.en\n",
      "RoR of MGF L2: https://ergsc.isee.nagoya-u.ac.jp/mw/index.php/ErgSat/Mgf\n",
      "Contact: erg_mgf_info at isee.nagoya-u.ac.jp\n",
      "**************************************************************************\n"
     ]
    },
    {
     "name": "stderr",
     "output_type": "stream",
     "text": [
      "12-Jul-23 18:50:58: File is current: erg_data/satellite/erg/orb/def/2017/erg_orb_l2_20170327_v03.cdf\n",
      "12-Jul-23 18:50:58: /home/jackkooki/Document/duct_analysis/.venv/lib/python3.10/site-packages/pytplot/importers/cdf_to_tplot.py:310: FutureWarning: elementwise comparison failed; returning scalar instead, but in the future will perform elementwise comparison\n",
      "  if ydata[ydata == var_atts[\"FILLVAL\"]].size != 0:\n",
      "\n",
      "12-Jul-23 18:50:58: /home/jackkooki/Document/duct_analysis/.venv/lib/python3.10/site-packages/pytplot/importers/cdf_to_tplot.py:316: FutureWarning: elementwise comparison failed; returning scalar instead, but in the future will perform elementwise comparison\n",
      "  ydata[ydata == var_atts[\"FILLVAL\"]] = 0\n",
      "\n"
     ]
    },
    {
     "name": "stdout",
     "output_type": "stream",
     "text": [
      " \n",
      "**************************************************************************\n",
      "Exploration of Energization and Radiation in Geospace (ERG) Level-2 orbit data\n",
      "\n",
      "Information about ERG orbit\n",
      "\n",
      "\n",
      "RoR of ERG project common: https://ergsc.isee.nagoya-u.ac.jp/data_info/rules_of_the_road.shtml.en\n",
      "\n",
      "Contact: erg-sc-core at isee.nagoya-u.ac.jp\n",
      "**************************************************************************\n"
     ]
    },
    {
     "name": "stderr",
     "output_type": "stream",
     "text": [
      "12-Jul-23 18:51:09: tinterpol (linear) was applied to: cos_th_intpl\n",
      "12-Jul-23 18:51:09: tinterpol (linear) was applied to: sin_th_intpl\n",
      "12-Jul-23 18:51:09: tinterpol (linear) was applied to: cos_ph_intpl\n",
      "12-Jul-23 18:51:09: tinterpol (linear) was applied to: sin_ph_intpl\n",
      "12-Jul-23 18:51:09: tinterpol (linear) was applied to: erg_mgf_l2_mag_8sec_gsm_x_intpl\n",
      "12-Jul-23 18:51:09: tinterpol (linear) was applied to: erg_mgf_l2_mag_8sec_gsm_y_intpl\n",
      "12-Jul-23 18:51:09: tinterpol (linear) was applied to: erg_mgf_l2_mag_8sec_gsm_z_intpl\n",
      "12-Jul-23 18:51:54: Downloading remote index: https://ergsc.isee.nagoya-u.ac.jp/data/ergsc/satellite/erg/mgf/l2/8sec/2017/03/\n",
      "12-Jul-23 18:51:54: File is current: erg_data/satellite/erg/mgf/l2/8sec/2017/03/erg_mgf_l2_8sec_20170327_v03.04.cdf\n",
      "12-Jul-23 18:51:54: /home/jackkooki/Document/duct_analysis/.venv/lib/python3.10/site-packages/pytplot/importers/cdf_to_tplot.py:310: FutureWarning: elementwise comparison failed; returning scalar instead, but in the future will perform elementwise comparison\n",
      "  if ydata[ydata == var_atts[\"FILLVAL\"]].size != 0:\n",
      "\n",
      "12-Jul-23 18:51:54: /home/jackkooki/Document/duct_analysis/.venv/lib/python3.10/site-packages/pytplot/importers/cdf_to_tplot.py:316: FutureWarning: elementwise comparison failed; returning scalar instead, but in the future will perform elementwise comparison\n",
      "  ydata[ydata == var_atts[\"FILLVAL\"]] = 0\n",
      "\n",
      "12-Jul-23 18:51:54: Downloading remote index: https://ergsc.isee.nagoya-u.ac.jp/data/ergsc/satellite/erg/orb/def/2017/\n",
      "12-Jul-23 18:51:54: File is current: erg_data/satellite/erg/orb/def/2017/erg_orb_l2_20170327_v03.cdf\n",
      "12-Jul-23 18:51:54: /home/jackkooki/Document/duct_analysis/.venv/lib/python3.10/site-packages/pytplot/importers/cdf_to_tplot.py:310: FutureWarning: elementwise comparison failed; returning scalar instead, but in the future will perform elementwise comparison\n",
      "  if ydata[ydata == var_atts[\"FILLVAL\"]].size != 0:\n",
      "\n"
     ]
    },
    {
     "name": "stdout",
     "output_type": "stream",
     "text": [
      " \n",
      "**************************************************************************\n",
      "Exploration of Energization and Radiation in Geospace (ERG) Magnetic Field Experiment (MGF) Level 2 spin-averaged magnetic field data\n",
      "\n",
      "Information about ERG MGF\n",
      "\n",
      "PI:  Ayako Matsuoka\n",
      "Affiliation: Data Analysis Center for Geomagnetism and Space Magnetism, Graduate School of Science, Kyoto University, Kitashirakawa-Oiwake Cho, Sakyo-ku Kyoto 606-8502, Japan\n",
      "\n",
      "RoR of ERG project common: https://ergsc.isee.nagoya-u.ac.jp/data_info/rules_of_the_road.shtml.en\n",
      "RoR of MGF L2: https://ergsc.isee.nagoya-u.ac.jp/mw/index.php/ErgSat/Mgf\n",
      "Contact: erg_mgf_info at isee.nagoya-u.ac.jp\n",
      "**************************************************************************\n"
     ]
    },
    {
     "name": "stderr",
     "output_type": "stream",
     "text": [
      "12-Jul-23 18:51:54: /home/jackkooki/Document/duct_analysis/.venv/lib/python3.10/site-packages/pytplot/importers/cdf_to_tplot.py:316: FutureWarning: elementwise comparison failed; returning scalar instead, but in the future will perform elementwise comparison\n",
      "  ydata[ydata == var_atts[\"FILLVAL\"]] = 0\n",
      "\n"
     ]
    },
    {
     "name": "stdout",
     "output_type": "stream",
     "text": [
      " \n",
      "**************************************************************************\n",
      "Exploration of Energization and Radiation in Geospace (ERG) Level-2 orbit data\n",
      "\n",
      "Information about ERG orbit\n",
      "\n",
      "\n",
      "RoR of ERG project common: https://ergsc.isee.nagoya-u.ac.jp/data_info/rules_of_the_road.shtml.en\n",
      "\n",
      "Contact: erg-sc-core at isee.nagoya-u.ac.jp\n",
      "**************************************************************************\n"
     ]
    },
    {
     "name": "stderr",
     "output_type": "stream",
     "text": [
      "12-Jul-23 18:52:05: tinterpol (linear) was applied to: cos_th_intpl\n",
      "12-Jul-23 18:52:05: tinterpol (linear) was applied to: sin_th_intpl\n",
      "12-Jul-23 18:52:05: tinterpol (linear) was applied to: cos_ph_intpl\n",
      "12-Jul-23 18:52:05: tinterpol (linear) was applied to: sin_ph_intpl\n",
      "12-Jul-23 18:52:05: tinterpol (linear) was applied to: erg_mgf_l2_mag_8sec_gsm_x_intpl\n",
      "12-Jul-23 18:52:05: tinterpol (linear) was applied to: erg_mgf_l2_mag_8sec_gsm_y_intpl\n",
      "12-Jul-23 18:52:05: tinterpol (linear) was applied to: erg_mgf_l2_mag_8sec_gsm_z_intpl\n",
      "12-Jul-23 18:52:49: Downloading remote index: https://ergsc.isee.nagoya-u.ac.jp/data/ergsc/satellite/erg/mgf/l2/8sec/2017/03/\n",
      "12-Jul-23 18:52:49: File is current: erg_data/satellite/erg/mgf/l2/8sec/2017/03/erg_mgf_l2_8sec_20170327_v03.04.cdf\n",
      "12-Jul-23 18:52:49: /home/jackkooki/Document/duct_analysis/.venv/lib/python3.10/site-packages/pytplot/importers/cdf_to_tplot.py:310: FutureWarning: elementwise comparison failed; returning scalar instead, but in the future will perform elementwise comparison\n",
      "  if ydata[ydata == var_atts[\"FILLVAL\"]].size != 0:\n",
      "\n",
      "12-Jul-23 18:52:49: /home/jackkooki/Document/duct_analysis/.venv/lib/python3.10/site-packages/pytplot/importers/cdf_to_tplot.py:316: FutureWarning: elementwise comparison failed; returning scalar instead, but in the future will perform elementwise comparison\n",
      "  ydata[ydata == var_atts[\"FILLVAL\"]] = 0\n",
      "\n",
      "12-Jul-23 18:52:49: Downloading remote index: https://ergsc.isee.nagoya-u.ac.jp/data/ergsc/satellite/erg/orb/def/2017/\n"
     ]
    },
    {
     "name": "stdout",
     "output_type": "stream",
     "text": [
      " \n",
      "**************************************************************************\n",
      "Exploration of Energization and Radiation in Geospace (ERG) Magnetic Field Experiment (MGF) Level 2 spin-averaged magnetic field data\n",
      "\n",
      "Information about ERG MGF\n",
      "\n",
      "PI:  Ayako Matsuoka\n",
      "Affiliation: Data Analysis Center for Geomagnetism and Space Magnetism, Graduate School of Science, Kyoto University, Kitashirakawa-Oiwake Cho, Sakyo-ku Kyoto 606-8502, Japan\n",
      "\n",
      "RoR of ERG project common: https://ergsc.isee.nagoya-u.ac.jp/data_info/rules_of_the_road.shtml.en\n",
      "RoR of MGF L2: https://ergsc.isee.nagoya-u.ac.jp/mw/index.php/ErgSat/Mgf\n",
      "Contact: erg_mgf_info at isee.nagoya-u.ac.jp\n",
      "**************************************************************************\n"
     ]
    },
    {
     "name": "stderr",
     "output_type": "stream",
     "text": [
      "12-Jul-23 18:52:50: File is current: erg_data/satellite/erg/orb/def/2017/erg_orb_l2_20170327_v03.cdf\n",
      "12-Jul-23 18:52:50: /home/jackkooki/Document/duct_analysis/.venv/lib/python3.10/site-packages/pytplot/importers/cdf_to_tplot.py:310: FutureWarning: elementwise comparison failed; returning scalar instead, but in the future will perform elementwise comparison\n",
      "  if ydata[ydata == var_atts[\"FILLVAL\"]].size != 0:\n",
      "\n",
      "12-Jul-23 18:52:50: /home/jackkooki/Document/duct_analysis/.venv/lib/python3.10/site-packages/pytplot/importers/cdf_to_tplot.py:316: FutureWarning: elementwise comparison failed; returning scalar instead, but in the future will perform elementwise comparison\n",
      "  ydata[ydata == var_atts[\"FILLVAL\"]] = 0\n",
      "\n"
     ]
    },
    {
     "name": "stdout",
     "output_type": "stream",
     "text": [
      " \n",
      "**************************************************************************\n",
      "Exploration of Energization and Radiation in Geospace (ERG) Level-2 orbit data\n",
      "\n",
      "Information about ERG orbit\n",
      "\n",
      "\n",
      "RoR of ERG project common: https://ergsc.isee.nagoya-u.ac.jp/data_info/rules_of_the_road.shtml.en\n",
      "\n",
      "Contact: erg-sc-core at isee.nagoya-u.ac.jp\n",
      "**************************************************************************\n"
     ]
    },
    {
     "name": "stderr",
     "output_type": "stream",
     "text": [
      "12-Jul-23 18:53:01: tinterpol (linear) was applied to: cos_th_intpl\n",
      "12-Jul-23 18:53:01: tinterpol (linear) was applied to: sin_th_intpl\n",
      "12-Jul-23 18:53:01: tinterpol (linear) was applied to: cos_ph_intpl\n",
      "12-Jul-23 18:53:01: tinterpol (linear) was applied to: sin_ph_intpl\n",
      "12-Jul-23 18:53:01: tinterpol (linear) was applied to: erg_mgf_l2_mag_8sec_gsm_x_intpl\n",
      "12-Jul-23 18:53:01: tinterpol (linear) was applied to: erg_mgf_l2_mag_8sec_gsm_y_intpl\n",
      "12-Jul-23 18:53:01: tinterpol (linear) was applied to: erg_mgf_l2_mag_8sec_gsm_z_intpl\n",
      "12-Jul-23 18:53:44: Downloading remote index: https://ergsc.isee.nagoya-u.ac.jp/data/ergsc/satellite/erg/mgf/l2/8sec/2017/03/\n",
      "12-Jul-23 18:53:45: File is current: erg_data/satellite/erg/mgf/l2/8sec/2017/03/erg_mgf_l2_8sec_20170327_v03.04.cdf\n",
      "12-Jul-23 18:53:45: /home/jackkooki/Document/duct_analysis/.venv/lib/python3.10/site-packages/pytplot/importers/cdf_to_tplot.py:310: FutureWarning: elementwise comparison failed; returning scalar instead, but in the future will perform elementwise comparison\n",
      "  if ydata[ydata == var_atts[\"FILLVAL\"]].size != 0:\n",
      "\n",
      "12-Jul-23 18:53:45: /home/jackkooki/Document/duct_analysis/.venv/lib/python3.10/site-packages/pytplot/importers/cdf_to_tplot.py:316: FutureWarning: elementwise comparison failed; returning scalar instead, but in the future will perform elementwise comparison\n",
      "  ydata[ydata == var_atts[\"FILLVAL\"]] = 0\n",
      "\n",
      "12-Jul-23 18:53:45: Downloading remote index: https://ergsc.isee.nagoya-u.ac.jp/data/ergsc/satellite/erg/orb/def/2017/\n",
      "12-Jul-23 18:53:45: File is current: erg_data/satellite/erg/orb/def/2017/erg_orb_l2_20170327_v03.cdf\n",
      "12-Jul-23 18:53:45: /home/jackkooki/Document/duct_analysis/.venv/lib/python3.10/site-packages/pytplot/importers/cdf_to_tplot.py:310: FutureWarning: elementwise comparison failed; returning scalar instead, but in the future will perform elementwise comparison\n",
      "  if ydata[ydata == var_atts[\"FILLVAL\"]].size != 0:\n",
      "\n"
     ]
    },
    {
     "name": "stdout",
     "output_type": "stream",
     "text": [
      " \n",
      "**************************************************************************\n",
      "Exploration of Energization and Radiation in Geospace (ERG) Magnetic Field Experiment (MGF) Level 2 spin-averaged magnetic field data\n",
      "\n",
      "Information about ERG MGF\n",
      "\n",
      "PI:  Ayako Matsuoka\n",
      "Affiliation: Data Analysis Center for Geomagnetism and Space Magnetism, Graduate School of Science, Kyoto University, Kitashirakawa-Oiwake Cho, Sakyo-ku Kyoto 606-8502, Japan\n",
      "\n",
      "RoR of ERG project common: https://ergsc.isee.nagoya-u.ac.jp/data_info/rules_of_the_road.shtml.en\n",
      "RoR of MGF L2: https://ergsc.isee.nagoya-u.ac.jp/mw/index.php/ErgSat/Mgf\n",
      "Contact: erg_mgf_info at isee.nagoya-u.ac.jp\n",
      "**************************************************************************\n"
     ]
    },
    {
     "name": "stderr",
     "output_type": "stream",
     "text": [
      "12-Jul-23 18:53:45: /home/jackkooki/Document/duct_analysis/.venv/lib/python3.10/site-packages/pytplot/importers/cdf_to_tplot.py:316: FutureWarning: elementwise comparison failed; returning scalar instead, but in the future will perform elementwise comparison\n",
      "  ydata[ydata == var_atts[\"FILLVAL\"]] = 0\n",
      "\n"
     ]
    },
    {
     "name": "stdout",
     "output_type": "stream",
     "text": [
      " \n",
      "**************************************************************************\n",
      "Exploration of Energization and Radiation in Geospace (ERG) Level-2 orbit data\n",
      "\n",
      "Information about ERG orbit\n",
      "\n",
      "\n",
      "RoR of ERG project common: https://ergsc.isee.nagoya-u.ac.jp/data_info/rules_of_the_road.shtml.en\n",
      "\n",
      "Contact: erg-sc-core at isee.nagoya-u.ac.jp\n",
      "**************************************************************************\n"
     ]
    },
    {
     "name": "stderr",
     "output_type": "stream",
     "text": [
      "12-Jul-23 18:53:56: tinterpol (linear) was applied to: cos_th_intpl\n",
      "12-Jul-23 18:53:56: tinterpol (linear) was applied to: sin_th_intpl\n",
      "12-Jul-23 18:53:56: tinterpol (linear) was applied to: cos_ph_intpl\n",
      "12-Jul-23 18:53:56: tinterpol (linear) was applied to: sin_ph_intpl\n",
      "12-Jul-23 18:53:56: tinterpol (linear) was applied to: erg_mgf_l2_mag_8sec_gsm_x_intpl\n",
      "12-Jul-23 18:53:56: tinterpol (linear) was applied to: erg_mgf_l2_mag_8sec_gsm_y_intpl\n",
      "12-Jul-23 18:53:56: tinterpol (linear) was applied to: erg_mgf_l2_mag_8sec_gsm_z_intpl\n",
      "12-Jul-23 18:54:40: Downloading remote index: https://ergsc.isee.nagoya-u.ac.jp/data/ergsc/satellite/erg/mgf/l2/8sec/2017/03/\n",
      "12-Jul-23 18:54:40: File is current: erg_data/satellite/erg/mgf/l2/8sec/2017/03/erg_mgf_l2_8sec_20170327_v03.04.cdf\n",
      "12-Jul-23 18:54:40: /home/jackkooki/Document/duct_analysis/.venv/lib/python3.10/site-packages/pytplot/importers/cdf_to_tplot.py:310: FutureWarning: elementwise comparison failed; returning scalar instead, but in the future will perform elementwise comparison\n",
      "  if ydata[ydata == var_atts[\"FILLVAL\"]].size != 0:\n",
      "\n",
      "12-Jul-23 18:54:40: /home/jackkooki/Document/duct_analysis/.venv/lib/python3.10/site-packages/pytplot/importers/cdf_to_tplot.py:316: FutureWarning: elementwise comparison failed; returning scalar instead, but in the future will perform elementwise comparison\n",
      "  ydata[ydata == var_atts[\"FILLVAL\"]] = 0\n",
      "\n",
      "12-Jul-23 18:54:40: Downloading remote index: https://ergsc.isee.nagoya-u.ac.jp/data/ergsc/satellite/erg/orb/def/2017/\n"
     ]
    },
    {
     "name": "stdout",
     "output_type": "stream",
     "text": [
      " \n",
      "**************************************************************************\n",
      "Exploration of Energization and Radiation in Geospace (ERG) Magnetic Field Experiment (MGF) Level 2 spin-averaged magnetic field data\n",
      "\n",
      "Information about ERG MGF\n",
      "\n",
      "PI:  Ayako Matsuoka\n",
      "Affiliation: Data Analysis Center for Geomagnetism and Space Magnetism, Graduate School of Science, Kyoto University, Kitashirakawa-Oiwake Cho, Sakyo-ku Kyoto 606-8502, Japan\n",
      "\n",
      "RoR of ERG project common: https://ergsc.isee.nagoya-u.ac.jp/data_info/rules_of_the_road.shtml.en\n",
      "RoR of MGF L2: https://ergsc.isee.nagoya-u.ac.jp/mw/index.php/ErgSat/Mgf\n",
      "Contact: erg_mgf_info at isee.nagoya-u.ac.jp\n",
      "**************************************************************************\n"
     ]
    },
    {
     "name": "stderr",
     "output_type": "stream",
     "text": [
      "12-Jul-23 18:54:40: File is current: erg_data/satellite/erg/orb/def/2017/erg_orb_l2_20170327_v03.cdf\n",
      "12-Jul-23 18:54:40: /home/jackkooki/Document/duct_analysis/.venv/lib/python3.10/site-packages/pytplot/importers/cdf_to_tplot.py:310: FutureWarning: elementwise comparison failed; returning scalar instead, but in the future will perform elementwise comparison\n",
      "  if ydata[ydata == var_atts[\"FILLVAL\"]].size != 0:\n",
      "\n",
      "12-Jul-23 18:54:40: /home/jackkooki/Document/duct_analysis/.venv/lib/python3.10/site-packages/pytplot/importers/cdf_to_tplot.py:316: FutureWarning: elementwise comparison failed; returning scalar instead, but in the future will perform elementwise comparison\n",
      "  ydata[ydata == var_atts[\"FILLVAL\"]] = 0\n",
      "\n"
     ]
    },
    {
     "name": "stdout",
     "output_type": "stream",
     "text": [
      " \n",
      "**************************************************************************\n",
      "Exploration of Energization and Radiation in Geospace (ERG) Level-2 orbit data\n",
      "\n",
      "Information about ERG orbit\n",
      "\n",
      "\n",
      "RoR of ERG project common: https://ergsc.isee.nagoya-u.ac.jp/data_info/rules_of_the_road.shtml.en\n",
      "\n",
      "Contact: erg-sc-core at isee.nagoya-u.ac.jp\n",
      "**************************************************************************\n"
     ]
    },
    {
     "name": "stderr",
     "output_type": "stream",
     "text": [
      "12-Jul-23 18:54:52: tinterpol (linear) was applied to: cos_th_intpl\n",
      "12-Jul-23 18:54:52: tinterpol (linear) was applied to: sin_th_intpl\n",
      "12-Jul-23 18:54:52: tinterpol (linear) was applied to: cos_ph_intpl\n",
      "12-Jul-23 18:54:52: tinterpol (linear) was applied to: sin_ph_intpl\n",
      "12-Jul-23 18:54:52: tinterpol (linear) was applied to: erg_mgf_l2_mag_8sec_gsm_x_intpl\n",
      "12-Jul-23 18:54:52: tinterpol (linear) was applied to: erg_mgf_l2_mag_8sec_gsm_y_intpl\n",
      "12-Jul-23 18:54:52: tinterpol (linear) was applied to: erg_mgf_l2_mag_8sec_gsm_z_intpl\n",
      "12-Jul-23 18:55:35: Downloading remote index: https://ergsc.isee.nagoya-u.ac.jp/data/ergsc/satellite/erg/mgf/l2/8sec/2017/03/\n",
      "12-Jul-23 18:55:36: File is current: erg_data/satellite/erg/mgf/l2/8sec/2017/03/erg_mgf_l2_8sec_20170327_v03.04.cdf\n",
      "12-Jul-23 18:55:36: /home/jackkooki/Document/duct_analysis/.venv/lib/python3.10/site-packages/pytplot/importers/cdf_to_tplot.py:310: FutureWarning: elementwise comparison failed; returning scalar instead, but in the future will perform elementwise comparison\n",
      "  if ydata[ydata == var_atts[\"FILLVAL\"]].size != 0:\n",
      "\n",
      "12-Jul-23 18:55:36: /home/jackkooki/Document/duct_analysis/.venv/lib/python3.10/site-packages/pytplot/importers/cdf_to_tplot.py:316: FutureWarning: elementwise comparison failed; returning scalar instead, but in the future will perform elementwise comparison\n",
      "  ydata[ydata == var_atts[\"FILLVAL\"]] = 0\n",
      "\n",
      "12-Jul-23 18:55:36: Downloading remote index: https://ergsc.isee.nagoya-u.ac.jp/data/ergsc/satellite/erg/orb/def/2017/\n",
      "12-Jul-23 18:55:36: File is current: erg_data/satellite/erg/orb/def/2017/erg_orb_l2_20170327_v03.cdf\n",
      "12-Jul-23 18:55:36: /home/jackkooki/Document/duct_analysis/.venv/lib/python3.10/site-packages/pytplot/importers/cdf_to_tplot.py:310: FutureWarning: elementwise comparison failed; returning scalar instead, but in the future will perform elementwise comparison\n",
      "  if ydata[ydata == var_atts[\"FILLVAL\"]].size != 0:\n",
      "\n"
     ]
    },
    {
     "name": "stdout",
     "output_type": "stream",
     "text": [
      " \n",
      "**************************************************************************\n",
      "Exploration of Energization and Radiation in Geospace (ERG) Magnetic Field Experiment (MGF) Level 2 spin-averaged magnetic field data\n",
      "\n",
      "Information about ERG MGF\n",
      "\n",
      "PI:  Ayako Matsuoka\n",
      "Affiliation: Data Analysis Center for Geomagnetism and Space Magnetism, Graduate School of Science, Kyoto University, Kitashirakawa-Oiwake Cho, Sakyo-ku Kyoto 606-8502, Japan\n",
      "\n",
      "RoR of ERG project common: https://ergsc.isee.nagoya-u.ac.jp/data_info/rules_of_the_road.shtml.en\n",
      "RoR of MGF L2: https://ergsc.isee.nagoya-u.ac.jp/mw/index.php/ErgSat/Mgf\n",
      "Contact: erg_mgf_info at isee.nagoya-u.ac.jp\n",
      "**************************************************************************\n"
     ]
    },
    {
     "name": "stderr",
     "output_type": "stream",
     "text": [
      "12-Jul-23 18:55:36: /home/jackkooki/Document/duct_analysis/.venv/lib/python3.10/site-packages/pytplot/importers/cdf_to_tplot.py:316: FutureWarning: elementwise comparison failed; returning scalar instead, but in the future will perform elementwise comparison\n",
      "  ydata[ydata == var_atts[\"FILLVAL\"]] = 0\n",
      "\n"
     ]
    },
    {
     "name": "stdout",
     "output_type": "stream",
     "text": [
      " \n",
      "**************************************************************************\n",
      "Exploration of Energization and Radiation in Geospace (ERG) Level-2 orbit data\n",
      "\n",
      "Information about ERG orbit\n",
      "\n",
      "\n",
      "RoR of ERG project common: https://ergsc.isee.nagoya-u.ac.jp/data_info/rules_of_the_road.shtml.en\n",
      "\n",
      "Contact: erg-sc-core at isee.nagoya-u.ac.jp\n",
      "**************************************************************************\n"
     ]
    },
    {
     "name": "stderr",
     "output_type": "stream",
     "text": [
      "12-Jul-23 18:55:48: tinterpol (linear) was applied to: cos_th_intpl\n",
      "12-Jul-23 18:55:48: tinterpol (linear) was applied to: sin_th_intpl\n",
      "12-Jul-23 18:55:48: tinterpol (linear) was applied to: cos_ph_intpl\n",
      "12-Jul-23 18:55:48: tinterpol (linear) was applied to: sin_ph_intpl\n",
      "12-Jul-23 18:55:48: tinterpol (linear) was applied to: erg_mgf_l2_mag_8sec_gsm_x_intpl\n",
      "12-Jul-23 18:55:48: tinterpol (linear) was applied to: erg_mgf_l2_mag_8sec_gsm_y_intpl\n",
      "12-Jul-23 18:55:48: tinterpol (linear) was applied to: erg_mgf_l2_mag_8sec_gsm_z_intpl\n",
      "12-Jul-23 18:56:31: Downloading remote index: https://ergsc.isee.nagoya-u.ac.jp/data/ergsc/satellite/erg/mgf/l2/8sec/2017/03/\n",
      "12-Jul-23 18:56:33: File is current: erg_data/satellite/erg/mgf/l2/8sec/2017/03/erg_mgf_l2_8sec_20170327_v03.04.cdf\n",
      "12-Jul-23 18:56:33: /home/jackkooki/Document/duct_analysis/.venv/lib/python3.10/site-packages/pytplot/importers/cdf_to_tplot.py:310: FutureWarning: elementwise comparison failed; returning scalar instead, but in the future will perform elementwise comparison\n",
      "  if ydata[ydata == var_atts[\"FILLVAL\"]].size != 0:\n",
      "\n",
      "12-Jul-23 18:56:33: /home/jackkooki/Document/duct_analysis/.venv/lib/python3.10/site-packages/pytplot/importers/cdf_to_tplot.py:316: FutureWarning: elementwise comparison failed; returning scalar instead, but in the future will perform elementwise comparison\n",
      "  ydata[ydata == var_atts[\"FILLVAL\"]] = 0\n",
      "\n",
      "12-Jul-23 18:56:33: Downloading remote index: https://ergsc.isee.nagoya-u.ac.jp/data/ergsc/satellite/erg/orb/def/2017/\n",
      "12-Jul-23 18:56:34: File is current: erg_data/satellite/erg/orb/def/2017/erg_orb_l2_20170327_v03.cdf\n"
     ]
    },
    {
     "name": "stdout",
     "output_type": "stream",
     "text": [
      " \n",
      "**************************************************************************\n",
      "Exploration of Energization and Radiation in Geospace (ERG) Magnetic Field Experiment (MGF) Level 2 spin-averaged magnetic field data\n",
      "\n",
      "Information about ERG MGF\n",
      "\n",
      "PI:  Ayako Matsuoka\n",
      "Affiliation: Data Analysis Center for Geomagnetism and Space Magnetism, Graduate School of Science, Kyoto University, Kitashirakawa-Oiwake Cho, Sakyo-ku Kyoto 606-8502, Japan\n",
      "\n",
      "RoR of ERG project common: https://ergsc.isee.nagoya-u.ac.jp/data_info/rules_of_the_road.shtml.en\n",
      "RoR of MGF L2: https://ergsc.isee.nagoya-u.ac.jp/mw/index.php/ErgSat/Mgf\n",
      "Contact: erg_mgf_info at isee.nagoya-u.ac.jp\n",
      "**************************************************************************\n"
     ]
    },
    {
     "name": "stderr",
     "output_type": "stream",
     "text": [
      "12-Jul-23 18:56:34: /home/jackkooki/Document/duct_analysis/.venv/lib/python3.10/site-packages/pytplot/importers/cdf_to_tplot.py:310: FutureWarning: elementwise comparison failed; returning scalar instead, but in the future will perform elementwise comparison\n",
      "  if ydata[ydata == var_atts[\"FILLVAL\"]].size != 0:\n",
      "\n",
      "12-Jul-23 18:56:34: /home/jackkooki/Document/duct_analysis/.venv/lib/python3.10/site-packages/pytplot/importers/cdf_to_tplot.py:316: FutureWarning: elementwise comparison failed; returning scalar instead, but in the future will perform elementwise comparison\n",
      "  ydata[ydata == var_atts[\"FILLVAL\"]] = 0\n",
      "\n"
     ]
    },
    {
     "name": "stdout",
     "output_type": "stream",
     "text": [
      " \n",
      "**************************************************************************\n",
      "Exploration of Energization and Radiation in Geospace (ERG) Level-2 orbit data\n",
      "\n",
      "Information about ERG orbit\n",
      "\n",
      "\n",
      "RoR of ERG project common: https://ergsc.isee.nagoya-u.ac.jp/data_info/rules_of_the_road.shtml.en\n",
      "\n",
      "Contact: erg-sc-core at isee.nagoya-u.ac.jp\n",
      "**************************************************************************\n"
     ]
    },
    {
     "name": "stderr",
     "output_type": "stream",
     "text": [
      "12-Jul-23 18:56:45: tinterpol (linear) was applied to: cos_th_intpl\n",
      "12-Jul-23 18:56:45: tinterpol (linear) was applied to: sin_th_intpl\n",
      "12-Jul-23 18:56:45: tinterpol (linear) was applied to: cos_ph_intpl\n",
      "12-Jul-23 18:56:45: tinterpol (linear) was applied to: sin_ph_intpl\n",
      "12-Jul-23 18:56:45: tinterpol (linear) was applied to: erg_mgf_l2_mag_8sec_gsm_x_intpl\n",
      "12-Jul-23 18:56:45: tinterpol (linear) was applied to: erg_mgf_l2_mag_8sec_gsm_y_intpl\n",
      "12-Jul-23 18:56:45: tinterpol (linear) was applied to: erg_mgf_l2_mag_8sec_gsm_z_intpl\n"
     ]
    }
   ],
   "source": [
    "beta = [0.1, 0.2, 0.3, 0.4, 0.5, 0.6,0.7, 0.8, 0.9, 1.0]\n",
    "tr =  ['2017-03-27 21:30:00', '2017-03-27 22:00:00']\n",
    "'delta_z', 'delta_xy', 'erg_mgf_l2_magt_8sec','B0' == cb.compressional_B(tr)\n",
    "gamma = 5/3\n",
    "f = 400\n",
    "\n",
    "\n",
    "for i in range(len(beta)):\n",
    "    mu = calc_n1_fast1(gamma, beta[i], tr, f)\n",
    "    pytplot.store_data('mu_fast_'+str(beta[i]), data={'x':pytplot.data_quants['B0']['time'], 'y':mu})\n",
    "\n",
    "\n",
    "\n",
    "pytplot.store_data('mu_fast_all', data = ['mu_fast_'+str(beta[i]) for i in range(len(beta))])\n",
    "pytplot.options('mu_fast_all', opt_dict={'ytitle': 'refractive index','legend_names': [str(beta[i]) for i in range(len(beta))], 'color': ['r', 'g', 'b', 'c', 'm', 'y', 'k', 'r', 'g']})\n"
   ]
  },
  {
   "cell_type": "code",
   "execution_count": 4,
   "metadata": {},
   "outputs": [
    {
     "name": "stderr",
     "output_type": "stream",
     "text": [
      "12-Jul-23 18:57:28: Incorrect number of line colors specified; expected: 1; got: 9\n"
     ]
    },
    {
     "data": {
      "image/png": "[encoded data removed]",
      "text/plain": [
       "<Figure size 1200x500 with 1 Axes>"
      ]
     },
     "metadata": {},
     "output_type": "display_data"
    }
   ],
   "source": [
    "pytplot.xlim(tr[0], tr[1])\n",
    "pytplot.tplot(['mu_fast_all'])"
   ]
  },
  {
   "cell_type": "code",
   "execution_count": null,
   "metadata": {},
   "outputs": [],
   "source": []
  },
  {
   "cell_type": "code",
   "execution_count": null,
   "metadata": {},
   "outputs": [],
   "source": []
  }
 ],
 "metadata": {
  "kernelspec": {
   "display_name": ".venv",
   "language": "python",
   "name": "python3"
  },
  "language_info": {
   "codemirror_mode": {
    "name": "ipython",
    "version": 3
   },
   "file_extension": ".py",
   "mimetype": "text/x-python",
   "name": "python",
   "nbconvert_exporter": "python",
   "pygments_lexer": "ipython3",
   "version": "3.10.6"
  },
  "orig_nbformat": 4
 },
 "nbformat": 4,
 "nbformat_minor": 2
}
