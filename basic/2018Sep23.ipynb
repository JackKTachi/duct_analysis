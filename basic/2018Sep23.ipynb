{
 "cells": [
  {
   "cell_type": "code",
   "execution_count": null,
   "metadata": {},
   "outputs": [],
   "source": [
    "import ULF_duct_plot_detail as ulf\n",
    "\n",
    "dtr =  ['2018-09-23', '2018-09-24']\n",
    "\n",
    "'kvec_polar_132',\\\n",
    "        'erg_pwe_ofa_l2_spec_B_spectra_132','erg_pwe_ofa_l2_spec_E_spectra_132',\\\n",
    "            'delta_z', 'erg_mgf_l2_magt_8sec','erg_mgf_l2_mag_8sec_MAF_x&y',\\\n",
    "            'erg_orb_l2_pos_rmlatmlt','erg_orb_l2_pos_eq' == ulf.ULF_evensearch_load(dtr)\n",
    "\n",
    "\n",
    "\n",
    "\n",
    "\n",
    "tr1 = ['2018-09-23 12:00:00', '2018-09-23 12:30:00']\n",
    "ulf.ULF_eventsearch_plot('kvec_polar_132',\\\n",
    "        'erg_pwe_ofa_l2_spec_B_spectra_132','delta_z','erg_mgf_l2_mag_8sec_MAF_x&y', 'erg_mgf_l2_magt_8sec',\\\n",
    "            'erg_orb_l2_pos_rmlatmlt',tr1)"
   ]
  }
 ],
 "metadata": {
  "language_info": {
   "name": "python"
  },
  "orig_nbformat": 4
 },
 "nbformat": 4,
 "nbformat_minor": 2
}
