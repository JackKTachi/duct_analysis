{
 "cells": [
  {
   "cell_type": "code",
   "execution_count": 1,
   "metadata": {},
   "outputs": [],
   "source": [
    "import math\n",
    "\n",
    "istep = 10000\n",
    "pi = math.pi\n",
    "factp = 180.0 / pi\n",
    "\n",
    "with open(\"dataFL00a.dat\", \"w\") as file:\n",
    "    lam = -45.0 / factp\n",
    "    req = 1.0 / math.cos(lam) ** 2\n",
    "    xx = math.cos(lam)\n",
    "    zz = math.sin(lam)\n",
    "    file.write(\"{:12.4f} {:12.4f}\\n\".format(xx, zz))\n",
    "\n",
    "    for ii in range(1, 1800):\n",
    "        lam = lam + 1.0 / factp\n",
    "        rr = req * math.cos(lam) ** 2\n",
    "        xx = rr * math.cos(lam)\n",
    "        zz = rr * math.sin(lam)\n",
    "        file.write(\"{:12.4f} {:12.4f}\\n\".format(xx, zz))\n",
    "        if rr < 1.0:\n",
    "            break\n",
    "\n",
    "    for ii in range(0, 361, 10):\n",
    "        lam = float(ii) / factp\n",
    "        xx = math.cos(lam)\n",
    "        zz = math.sin(lam)\n",
    "        file.write(\"{:12.4f} {:12.4f}\\n\".format(xx, zz))\n"
   ]
  },
  {
   "cell_type": "code",
   "execution_count": null,
   "metadata": {},
   "outputs": [],
   "source": []
  }
 ],
 "metadata": {
  "kernelspec": {
   "display_name": ".venv",
   "language": "python",
   "name": "python3"
  },
  "language_info": {
   "codemirror_mode": {
    "name": "ipython",
    "version": 3
   },
   "file_extension": ".py",
   "mimetype": "text/x-python",
   "name": "python",
   "nbconvert_exporter": "python",
   "pygments_lexer": "ipython3",
   "version": "3.10.6"
  },
  "orig_nbformat": 4
 },
 "nbformat": 4,
 "nbformat_minor": 2
}
