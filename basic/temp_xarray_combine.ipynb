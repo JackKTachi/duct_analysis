{
 "cells": [
  {
   "cell_type": "code",
   "execution_count": 1,
   "metadata": {},
   "outputs": [],
   "source": [
    "import pyspedas\n",
    "import pytplot\n",
    "import xarray as xr\n",
    "import numpy as np"
   ]
  },
  {
   "cell_type": "code",
   "execution_count": 2,
   "metadata": {},
   "outputs": [
    {
     "name": "stderr",
     "output_type": "stream",
     "text": [
      "12-Jul-23 17:01:44: Downloading remote index: https://ergsc.isee.nagoya-u.ac.jp/data/ergsc/satellite/erg/mgf/l2/8sec/2017/03/\n",
      "12-Jul-23 17:01:45: File is current: erg_data/satellite/erg/mgf/l2/8sec/2017/03/erg_mgf_l2_8sec_20170327_v03.04.cdf\n",
      "12-Jul-23 17:01:45: /home/jackkooki/Document/duct_analysis/.venv/lib/python3.10/site-packages/pytplot/importers/cdf_to_tplot.py:310: FutureWarning: elementwise comparison failed; returning scalar instead, but in the future will perform elementwise comparison\n",
      "  if ydata[ydata == var_atts[\"FILLVAL\"]].size != 0:\n",
      "\n",
      "12-Jul-23 17:01:45: /home/jackkooki/Document/duct_analysis/.venv/lib/python3.10/site-packages/pytplot/importers/cdf_to_tplot.py:316: FutureWarning: elementwise comparison failed; returning scalar instead, but in the future will perform elementwise comparison\n",
      "  ydata[ydata == var_atts[\"FILLVAL\"]] = 0\n",
      "\n",
      "12-Jul-23 17:01:45: Downloading remote index: https://ergsc.isee.nagoya-u.ac.jp/data/ergsc/satellite/erg/pwe/ofa/l2/spec/2017/03/\n",
      "12-Jul-23 17:01:45: File is current: erg_data/satellite/erg/pwe/ofa/l2/spec/2017/03/erg_pwe_ofa_l2_spec_20170327_v02_03.cdf\n"
     ]
    },
    {
     "name": "stdout",
     "output_type": "stream",
     "text": [
      " \n",
      "**************************************************************************\n",
      "Exploration of Energization and Radiation in Geospace (ERG) Magnetic Field Experiment (MGF) Level 2 spin-averaged magnetic field data\n",
      "\n",
      "Information about ERG MGF\n",
      "\n",
      "PI:  Ayako Matsuoka\n",
      "Affiliation: Data Analysis Center for Geomagnetism and Space Magnetism, Graduate School of Science, Kyoto University, Kitashirakawa-Oiwake Cho, Sakyo-ku Kyoto 606-8502, Japan\n",
      "\n",
      "RoR of ERG project common: https://ergsc.isee.nagoya-u.ac.jp/data_info/rules_of_the_road.shtml.en\n",
      "RoR of MGF L2: https://ergsc.isee.nagoya-u.ac.jp/mw/index.php/ErgSat/Mgf\n",
      "Contact: erg_mgf_info at isee.nagoya-u.ac.jp\n",
      "**************************************************************************\n"
     ]
    },
    {
     "name": "stderr",
     "output_type": "stream",
     "text": [
      "12-Jul-23 17:01:46: /home/jackkooki/Document/duct_analysis/.venv/lib/python3.10/site-packages/pytplot/importers/cdf_to_tplot.py:310: FutureWarning: elementwise comparison failed; returning scalar instead, but in the future will perform elementwise comparison\n",
      "  if ydata[ydata == var_atts[\"FILLVAL\"]].size != 0:\n",
      "\n",
      "12-Jul-23 17:01:46: Downloading remote index: https://ergsc.isee.nagoya-u.ac.jp/data/ergsc/satellite/erg/orb/def/2017/\n",
      "12-Jul-23 17:01:46: File is current: erg_data/satellite/erg/orb/def/2017/erg_orb_l2_20170327_v03.cdf\n"
     ]
    },
    {
     "name": "stdout",
     "output_type": "stream",
     "text": [
      " \n",
      " \n",
      "**************************************************************************\n",
      "Exploration of Energization and Radiation in Geospace (ERG) Plasma Wave Experiment (PWE) Onboard Frequency Analyzer (OFA) Level 2 spectrum data\n",
      "\n",
      "Information about ERG PWE OFA\n",
      "\n",
      "PI:  Yoshiya Kasahara\n",
      "Affiliation: Kanazawa University\n",
      "\n",
      "RoR of ERG project common: https://ergsc.isee.nagoya-u.ac.jp/data_info/rules_of_the_road.shtml.en\n",
      "RoR of PWE/OFA: https://ergsc.isee.nagoya-u.ac.jp/mw/index.php/ErgSat/Pwe/Ofa\n",
      "\n",
      "Contact: erg_pwe_info at isee.nagoya-u.ac.jp\n",
      "**************************************************************************\n",
      " \n",
      "**************************************************************************\n",
      "Exploration of Energization and Radiation in Geospace (ERG) Level-2 orbit data\n",
      "\n",
      "Information about ERG orbit\n",
      "\n",
      "\n",
      "RoR of ERG project common: https://ergsc.isee.nagoya-u.ac.jp/data_info/rules_of_the_road.shtml.en\n",
      "\n",
      "Contact: erg-sc-core at isee.nagoya-u.ac.jp\n",
      "**************************************************************************\n"
     ]
    },
    {
     "data": {
      "text/plain": [
       "['erg_orb_l2_pos_llr',\n",
       " 'erg_orb_l2_pos_gse',\n",
       " 'erg_orb_l2_pos_gsm',\n",
       " 'erg_orb_l2_pos_sm',\n",
       " 'erg_orb_l2_pos_rmlatmlt',\n",
       " 'erg_orb_l2_pos_eq',\n",
       " 'erg_orb_l2_pos_iono_north',\n",
       " 'erg_orb_l2_pos_iono_south',\n",
       " 'erg_orb_l2_pos_blocal',\n",
       " 'erg_orb_l2_pos_blocal_mag',\n",
       " 'erg_orb_l2_pos_beq',\n",
       " 'erg_orb_l2_pos_beq_mag',\n",
       " 'erg_orb_l2_pos_Lm',\n",
       " 'erg_orb_l2_vel_gse',\n",
       " 'erg_orb_l2_vel_gsm',\n",
       " 'erg_orb_l2_vel_sm',\n",
       " 'erg_orb_l2_spn_num',\n",
       " 'erg_orb_l2_man_prep_flag',\n",
       " 'erg_orb_l2_man_on_flag',\n",
       " 'erg_orb_l2_eclipse_flag']"
      ]
     },
     "execution_count": 2,
     "metadata": {},
     "output_type": "execute_result"
    }
   ],
   "source": [
    "tr = ['2017-03-27', '2017-03-28']\n",
    "from pyspedas.erg import mgf, pwe_ofa, orb\n",
    "mgf(trange=tr)\n",
    "pwe_ofa(trange=tr)\n",
    "orb(trange=tr)"
   ]
  },
  {
   "cell_type": "code",
   "execution_count": 3,
   "metadata": {},
   "outputs": [
    {
     "name": "stdout",
     "output_type": "stream",
     "text": [
      "0 : erg_mgf_l2_epoch_8sec\n",
      "1 : erg_mgf_l2_mag_8sec_dsi\n",
      "2 : erg_mgf_l2_mag_8sec_gse\n",
      "3 : erg_mgf_l2_mag_8sec_gsm\n",
      "4 : erg_mgf_l2_mag_8sec_sm\n",
      "5 : erg_mgf_l2_magt_8sec\n",
      "6 : erg_mgf_l2_rmsd_8sec_dsi\n",
      "7 : erg_mgf_l2_rmsd_8sec_gse\n",
      "8 : erg_mgf_l2_rmsd_8sec_gsm\n",
      "9 : erg_mgf_l2_rmsd_8sec_sm\n",
      "10 : erg_mgf_l2_rmsd_8sec\n",
      "11 : erg_mgf_l2_n_rmsd_8sec\n",
      "12 : erg_mgf_l2_dyn_rng_8sec\n",
      "13 : erg_mgf_l2_quality_8sec\n",
      "14 : erg_mgf_l2_quality_8sec_gc\n",
      "15 : erg_mgf_l2_igrf_8sec_dsi\n",
      "16 : erg_mgf_l2_igrf_8sec_gse\n",
      "17 : erg_mgf_l2_igrf_8sec_gsm\n",
      "18 : erg_mgf_l2_igrf_8sec_sm\n",
      "19 : erg_pwe_ofa_l2_spec_epoch_e132\n",
      "20 : erg_pwe_ofa_l2_spec_E_spectra_132\n",
      "21 : erg_pwe_ofa_l2_spec_quality_flag_e132\n",
      "22 : erg_pwe_ofa_l2_spec_epoch_b132\n",
      "23 : erg_pwe_ofa_l2_spec_B_spectra_132\n",
      "24 : erg_pwe_ofa_l2_spec_quality_flag_b132\n",
      "25 : erg_orb_l2_pos_llr\n",
      "26 : erg_orb_l2_pos_gse\n",
      "27 : erg_orb_l2_pos_gsm\n",
      "28 : erg_orb_l2_pos_sm\n",
      "29 : erg_orb_l2_pos_rmlatmlt\n",
      "30 : erg_orb_l2_pos_eq\n",
      "31 : erg_orb_l2_pos_iono_north\n",
      "32 : erg_orb_l2_pos_iono_south\n",
      "33 : erg_orb_l2_pos_blocal\n",
      "34 : erg_orb_l2_pos_blocal_mag\n",
      "35 : erg_orb_l2_pos_beq\n",
      "36 : erg_orb_l2_pos_beq_mag\n",
      "37 : erg_orb_l2_pos_Lm\n",
      "38 : erg_orb_l2_vel_gse\n",
      "39 : erg_orb_l2_vel_gsm\n",
      "40 : erg_orb_l2_vel_sm\n",
      "41 : erg_orb_l2_spn_num\n",
      "42 : erg_orb_l2_man_prep_flag\n",
      "43 : erg_orb_l2_man_on_flag\n",
      "44 : erg_orb_l2_eclipse_flag\n"
     ]
    },
    {
     "data": {
      "text/plain": [
       "['erg_mgf_l2_epoch_8sec',\n",
       " 'erg_mgf_l2_mag_8sec_dsi',\n",
       " 'erg_mgf_l2_mag_8sec_gse',\n",
       " 'erg_mgf_l2_mag_8sec_gsm',\n",
       " 'erg_mgf_l2_mag_8sec_sm',\n",
       " 'erg_mgf_l2_magt_8sec',\n",
       " 'erg_mgf_l2_rmsd_8sec_dsi',\n",
       " 'erg_mgf_l2_rmsd_8sec_gse',\n",
       " 'erg_mgf_l2_rmsd_8sec_gsm',\n",
       " 'erg_mgf_l2_rmsd_8sec_sm',\n",
       " 'erg_mgf_l2_rmsd_8sec',\n",
       " 'erg_mgf_l2_n_rmsd_8sec',\n",
       " 'erg_mgf_l2_dyn_rng_8sec',\n",
       " 'erg_mgf_l2_quality_8sec',\n",
       " 'erg_mgf_l2_quality_8sec_gc',\n",
       " 'erg_mgf_l2_igrf_8sec_dsi',\n",
       " 'erg_mgf_l2_igrf_8sec_gse',\n",
       " 'erg_mgf_l2_igrf_8sec_gsm',\n",
       " 'erg_mgf_l2_igrf_8sec_sm',\n",
       " 'erg_pwe_ofa_l2_spec_epoch_e132',\n",
       " 'erg_pwe_ofa_l2_spec_E_spectra_132',\n",
       " 'erg_pwe_ofa_l2_spec_quality_flag_e132',\n",
       " 'erg_pwe_ofa_l2_spec_epoch_b132',\n",
       " 'erg_pwe_ofa_l2_spec_B_spectra_132',\n",
       " 'erg_pwe_ofa_l2_spec_quality_flag_b132',\n",
       " 'erg_orb_l2_pos_llr',\n",
       " 'erg_orb_l2_pos_gse',\n",
       " 'erg_orb_l2_pos_gsm',\n",
       " 'erg_orb_l2_pos_sm',\n",
       " 'erg_orb_l2_pos_rmlatmlt',\n",
       " 'erg_orb_l2_pos_eq',\n",
       " 'erg_orb_l2_pos_iono_north',\n",
       " 'erg_orb_l2_pos_iono_south',\n",
       " 'erg_orb_l2_pos_blocal',\n",
       " 'erg_orb_l2_pos_blocal_mag',\n",
       " 'erg_orb_l2_pos_beq',\n",
       " 'erg_orb_l2_pos_beq_mag',\n",
       " 'erg_orb_l2_pos_Lm',\n",
       " 'erg_orb_l2_vel_gse',\n",
       " 'erg_orb_l2_vel_gsm',\n",
       " 'erg_orb_l2_vel_sm',\n",
       " 'erg_orb_l2_spn_num',\n",
       " 'erg_orb_l2_man_prep_flag',\n",
       " 'erg_orb_l2_man_on_flag',\n",
       " 'erg_orb_l2_eclipse_flag']"
      ]
     },
     "execution_count": 3,
     "metadata": {},
     "output_type": "execute_result"
    }
   ],
   "source": [
    "pytplot.tplot_names()"
   ]
  },
  {
   "cell_type": "code",
   "execution_count": null,
   "metadata": {},
   "outputs": [],
   "source": [
    "magt = pytplot.data_quants['erg_mgf_l2_magt_8sec']\n",
    "ofa_b = pytplot.data_quants['erg_pwe_ofa_l2_spec_B_spectra_132']"
   ]
  }
 ],
 "metadata": {
  "kernelspec": {
   "display_name": ".venv",
   "language": "python",
   "name": "python3"
  },
  "language_info": {
   "codemirror_mode": {
    "name": "ipython",
    "version": 3
   },
   "file_extension": ".py",
   "mimetype": "text/x-python",
   "name": "python",
   "nbconvert_exporter": "python",
   "pygments_lexer": "ipython3",
   "version": "3.10.6"
  },
  "orig_nbformat": 4
 },
 "nbformat": 4,
 "nbformat_minor": 2
}
