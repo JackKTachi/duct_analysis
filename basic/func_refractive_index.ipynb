{
 "cells": [
  {
   "cell_type": "code",
   "execution_count": 1,
   "metadata": {},
   "outputs": [],
   "source": [
    "import ULF_duct_plot_detail as udp\n",
    "import calc_integral_chorus as cic\n",
    "import ULF_duct_plot_ver2 as udp2\n",
    "import calc_stokes as cs\n",
    "import pytplot\n",
    "import pyspedas\n",
    "import plasma_params as pp\n",
    "import numpy as np\n",
    "\n",
    "download_trange = ['2017-04-05', '2017-04-06']\n",
    "\n",
    "\"\"\" \n",
    "'ne_mgf',\\\n",
    "        'kvec_polar_132',\\\n",
    "        'erg_pwe_ofa_l2_spec_B_spectra_132','erg_pwe_ofa_l2_spec_E_spectra_132',\\\n",
    "        'erg_mepe_l2_omniflux_FEDO',\\\n",
    "        'erg_mepe_l3_pa_FEDU_87.5keV', 'erg_mepe_l3_pa_FEDU_72.6keV', 'erg_mepe_l3_pa_FEDU_60.4keV','erg_mepe_l3_pa_FEDU_50.3keV', 'erg_mepe_l3_pa_FEDU_42.0keV','erg_mepe_l3_pa_FEDU_35.0keV','erg_mepe_l3_pa_FEDU_29.3keV','erg_mepe_l3_pa_FEDU_24.5keV','erg_mepe_l3_pa_FEDU_20.5keV','erg_mepe_l3_pa_FEDU_17.1keV','erg_mepe_l3_pa_FEDU_14.3keV','erg_mepe_l3_pa_FEDU_12.0keV',\\\n",
    "            'delta_z', 'erg_mgf_l2_magt_8sec','erg_mgf_l2_mag_8sec_MAF_x&y',\\\n",
    "            'erg_orb_l2_pos_rmlatmlt','erg_orb_l2_pos_eq' == udp2.ULF_duct_load(download_trange)\n",
    " \"\"\"\n",
    "r1 = ['2017-04-05 21:40:00', '2017-04-05 22:20:00']"
   ]
  },
  {
   "cell_type": "code",
   "execution_count": 2,
   "metadata": {},
   "outputs": [],
   "source": [
    "\n",
    "\n",
    "def calc_refractive_index(download_trange, f, theta, density=None):\n",
    "    from pyspedas.erg import mgf\n",
    "    mgf(trange=download_trange)\n",
    "\n",
    "    if density is not None:\n",
    "        re_in = (80.6*density)**(-1/2)/((pp.Q*pytplot.data_quants['erg_mgf_l2_magt_8sec']*f/pp.ME)**(1/2)*(np.cos(theta))-pp.ME*f/(pp.Q*pytplot.data_quants['erg_mgf_l2_magt_8sec']))\n",
    "\n",
    "    else:\n",
    "        \n",
    "        lst = download_trange[0].split('-')\n",
    "        pytplot.cdf_to_tplot('./erg_data/satellite/erg/pwe/hfa/l3/1min/'+lst[0]+'/'+lst[1]+'/erg_pwe_hfa_l3_1min_'+lst[0]+lst[1]+lst[2]+'_v03_07.cdf')\n",
    "        pyspedas.tinterpol('ne_mgf', 'erg_mgf_l2_magt_8sec', newname='ne_mgf_interpolated')\n",
    "        re_in = (80.6*pytplot.data_quants['ne_mgf_interpolated'])**(-1/2)/((pp.Q*pytplot.data_quants['erg_mgf_l2_magt_8sec']*f/pp.ME)**(1/2)*(np.cos(theta))-pp.ME*f/(pp.Q*pytplot.data_quants['erg_mgf_l2_magt_8sec']))\n",
    "    \n",
    "    pytplot.store_data('re_in', data={'x': pytplot.data_quants['ne_mgf_interpolated']['time'], 'y': re_in})\n",
    "    pytplot.options('re_in', opt_dict={'ytitle':'Refractive Index','ylog':0})\n",
    "\n",
    "    return 're_in'\n",
    "      "
   ]
  },
  {
   "cell_type": "code",
   "execution_count": 3,
   "metadata": {},
   "outputs": [
    {
     "name": "stderr",
     "output_type": "stream",
     "text": [
      "06-Jun-23 18:12:35: Downloading remote index: https://ergsc.isee.nagoya-u.ac.jp/data/ergsc/satellite/erg/mgf/l2/8sec/2017/04/\n",
      "06-Jun-23 18:12:35: File is current: erg_data/satellite/erg/mgf/l2/8sec/2017/04/erg_mgf_l2_8sec_20170405_v03.04.cdf\n",
      "06-Jun-23 18:12:35: /home/jackkooki/Document/duct_analysis/.venv/lib/python3.10/site-packages/pytplot/importers/cdf_to_tplot.py:310: FutureWarning: elementwise comparison failed; returning scalar instead, but in the future will perform elementwise comparison\n",
      "  if ydata[ydata == var_atts[\"FILLVAL\"]].size != 0:\n",
      "\n",
      "06-Jun-23 18:12:35: /home/jackkooki/Document/duct_analysis/.venv/lib/python3.10/site-packages/pytplot/importers/cdf_to_tplot.py:316: FutureWarning: elementwise comparison failed; returning scalar instead, but in the future will perform elementwise comparison\n",
      "  ydata[ydata == var_atts[\"FILLVAL\"]] = 0\n",
      "\n",
      "06-Jun-23 18:12:35: tinterpol (linear) was applied to: ne_mgf_interpolated\n"
     ]
    },
    {
     "name": "stdout",
     "output_type": "stream",
     "text": [
      " \n",
      "**************************************************************************\n",
      "Exploration of Energization and Radiation in Geospace (ERG) Magnetic Field Experiment (MGF) Level 2 spin-averaged magnetic field data\n",
      "\n",
      "Information about ERG MGF\n",
      "\n",
      "PI:  Ayako Matsuoka\n",
      "Affiliation: Data Analysis Center for Geomagnetism and Space Magnetism, Graduate School of Science, Kyoto University, Kitashirakawa-Oiwake Cho, Sakyo-ku Kyoto 606-8502, Japan\n",
      "\n",
      "RoR of ERG project common: https://ergsc.isee.nagoya-u.ac.jp/data_info/rules_of_the_road.shtml.en\n",
      "RoR of MGF L2: https://ergsc.isee.nagoya-u.ac.jp/mw/index.php/ErgSat/Mgf\n",
      "Contact: erg_mgf_info at isee.nagoya-u.ac.jp\n",
      "**************************************************************************\n"
     ]
    },
    {
     "data": {
      "text/plain": [
       "True"
      ]
     },
     "execution_count": 3,
     "metadata": {},
     "output_type": "execute_result"
    }
   ],
   "source": [
    "f = 0.6*10**3\n",
    "theta = 0\n",
    "\n",
    "'re_in' == calc_refractive_index(download_trange, f, theta)"
   ]
  },
  {
   "cell_type": "code",
   "execution_count": null,
   "metadata": {},
   "outputs": [],
   "source": []
  },
  {
   "cell_type": "code",
   "execution_count": 4,
   "metadata": {},
   "outputs": [
    {
     "name": "stderr",
     "output_type": "stream",
     "text": [
      "06-Jun-23 18:12:35: Downloading remote index: https://ergsc.isee.nagoya-u.ac.jp/data/ergsc/satellite/erg/mgf/l2/8sec/2017/04/\n",
      "06-Jun-23 18:12:35: File is current: erg_data/satellite/erg/mgf/l2/8sec/2017/04/erg_mgf_l2_8sec_20170405_v03.04.cdf\n",
      "06-Jun-23 18:12:35: /home/jackkooki/Document/duct_analysis/.venv/lib/python3.10/site-packages/pytplot/importers/cdf_to_tplot.py:310: FutureWarning: elementwise comparison failed; returning scalar instead, but in the future will perform elementwise comparison\n",
      "  if ydata[ydata == var_atts[\"FILLVAL\"]].size != 0:\n",
      "\n",
      "06-Jun-23 18:12:35: /home/jackkooki/Document/duct_analysis/.venv/lib/python3.10/site-packages/pytplot/importers/cdf_to_tplot.py:316: FutureWarning: elementwise comparison failed; returning scalar instead, but in the future will perform elementwise comparison\n",
      "  ydata[ydata == var_atts[\"FILLVAL\"]] = 0\n",
      "\n"
     ]
    },
    {
     "name": "stdout",
     "output_type": "stream",
     "text": [
      " \n",
      "**************************************************************************\n",
      "Exploration of Energization and Radiation in Geospace (ERG) Magnetic Field Experiment (MGF) Level 2 spin-averaged magnetic field data\n",
      "\n",
      "Information about ERG MGF\n",
      "\n",
      "PI:  Ayako Matsuoka\n",
      "Affiliation: Data Analysis Center for Geomagnetism and Space Magnetism, Graduate School of Science, Kyoto University, Kitashirakawa-Oiwake Cho, Sakyo-ku Kyoto 606-8502, Japan\n",
      "\n",
      "RoR of ERG project common: https://ergsc.isee.nagoya-u.ac.jp/data_info/rules_of_the_road.shtml.en\n",
      "RoR of MGF L2: https://ergsc.isee.nagoya-u.ac.jp/mw/index.php/ErgSat/Mgf\n",
      "Contact: erg_mgf_info at isee.nagoya-u.ac.jp\n",
      "**************************************************************************\n"
     ]
    },
    {
     "data": {
      "text/plain": [
       "['erg_mgf_l2_epoch_8sec',\n",
       " 'erg_mgf_l2_mag_8sec_dsi',\n",
       " 'erg_mgf_l2_mag_8sec_gse',\n",
       " 'erg_mgf_l2_mag_8sec_gsm',\n",
       " 'erg_mgf_l2_mag_8sec_sm',\n",
       " 'erg_mgf_l2_magt_8sec',\n",
       " 'erg_mgf_l2_rmsd_8sec_dsi',\n",
       " 'erg_mgf_l2_rmsd_8sec_gse',\n",
       " 'erg_mgf_l2_rmsd_8sec_gsm',\n",
       " 'erg_mgf_l2_rmsd_8sec_sm',\n",
       " 'erg_mgf_l2_rmsd_8sec',\n",
       " 'erg_mgf_l2_n_rmsd_8sec',\n",
       " 'erg_mgf_l2_dyn_rng_8sec',\n",
       " 'erg_mgf_l2_quality_8sec',\n",
       " 'erg_mgf_l2_quality_8sec_gc',\n",
       " 'erg_mgf_l2_igrf_8sec_dsi',\n",
       " 'erg_mgf_l2_igrf_8sec_gse',\n",
       " 'erg_mgf_l2_igrf_8sec_gsm',\n",
       " 'erg_mgf_l2_igrf_8sec_sm']"
      ]
     },
     "execution_count": 4,
     "metadata": {},
     "output_type": "execute_result"
    }
   ],
   "source": [
    "from pyspedas.erg import mgf\n",
    "mgf(trange=download_trange)"
   ]
  },
  {
   "cell_type": "code",
   "execution_count": 5,
   "metadata": {},
   "outputs": [],
   "source": [
    "f = 0.6*10**3\n",
    "theta = 0"
   ]
  },
  {
   "cell_type": "code",
   "execution_count": 6,
   "metadata": {},
   "outputs": [
    {
     "data": {
      "text/plain": [
       "['Epoch', 'Fuhr', 'ne_mgf', 'quality_flag']"
      ]
     },
     "execution_count": 6,
     "metadata": {},
     "output_type": "execute_result"
    }
   ],
   "source": [
    "lst = download_trange[0].split('-')\n",
    "pytplot.cdf_to_tplot('./erg_data/satellite/erg/pwe/hfa/l3/1min/'+lst[0]+'/'+lst[1]+'/erg_pwe_hfa_l3_1min_'+lst[0]+lst[1]+lst[2]+'_v03_07.cdf')    "
   ]
  },
  {
   "cell_type": "code",
   "execution_count": 7,
   "metadata": {},
   "outputs": [
    {
     "name": "stderr",
     "output_type": "stream",
     "text": [
      "06-Jun-23 18:12:36: tinterpol (linear) was applied to: ne_mgf_interpolated\n"
     ]
    }
   ],
   "source": [
    "pyspedas.tinterpol('ne_mgf', 'erg_mgf_l2_magt_8sec', newname='ne_mgf_interpolated')"
   ]
  },
  {
   "cell_type": "code",
   "execution_count": 8,
   "metadata": {},
   "outputs": [],
   "source": [
    "re_in = (80.6*pytplot.data_quants['ne_mgf_interpolated'])**(-1/2)/(((pp.Q*pytplot.data_quants['erg_mgf_l2_magt_8sec']*f/pp.ME)**(1/2))*(np.cos(theta))-pp.ME*f/(pp.Q*pytplot.data_quants['erg_mgf_l2_magt_8sec']))"
   ]
  },
  {
   "attachments": {},
   "cell_type": "markdown",
   "metadata": {},
   "source": [
    "re_in = (80.6*pytplot.data_quants['ne_mgf_interpolated'])**(-1/2)/((pp.Q*pytplot.data_quants['erg_mgf_l2_magt_8sec']*f/pp.ME)**(1/2)*(np.cos(theta))-pp.ME*f/(pp.Q*pytplot.data_quants['erg_mgf_l2_magt_8sec']))"
   ]
  },
  {
   "cell_type": "code",
   "execution_count": 9,
   "metadata": {},
   "outputs": [
    {
     "data": {
      "text/plain": [
       "True"
      ]
     },
     "execution_count": 9,
     "metadata": {},
     "output_type": "execute_result"
    }
   ],
   "source": [
    "pytplot.store_data('re_in', data={'x': pytplot.data_quants['ne_mgf_interpolated']['time'], 'y': re_in})"
   ]
  },
  {
   "cell_type": "code",
   "execution_count": 10,
   "metadata": {},
   "outputs": [
    {
     "data": {
      "image/png": "[encoded data removed]",
      "text/plain": [
       "<Figure size 1200x500 with 1 Axes>"
      ]
     },
     "metadata": {},
     "output_type": "display_data"
    }
   ],
   "source": [
    "pytplot.tplot('re_in')"
   ]
  },
  {
   "cell_type": "code",
   "execution_count": null,
   "metadata": {},
   "outputs": [],
   "source": []
  }
 ],
 "metadata": {
  "kernelspec": {
   "display_name": ".venv",
   "language": "python",
   "name": "python3"
  },
  "language_info": {
   "codemirror_mode": {
    "name": "ipython",
    "version": 3
   },
   "file_extension": ".py",
   "mimetype": "text/x-python",
   "name": "python",
   "nbconvert_exporter": "python",
   "pygments_lexer": "ipython3",
   "version": "3.10.6"
  },
  "orig_nbformat": 4
 },
 "nbformat": 4,
 "nbformat_minor": 2
}
